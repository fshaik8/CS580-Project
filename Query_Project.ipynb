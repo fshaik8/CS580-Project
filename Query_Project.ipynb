{
  "nbformat": 4,
  "nbformat_minor": 0,
  "metadata": {
    "colab": {
      "provenance": []
    },
    "kernelspec": {
      "name": "python3",
      "display_name": "Python 3"
    },
    "language_info": {
      "name": "python"
    }
  },
  "cells": [
    {
      "cell_type": "markdown",
      "source": [
        "# Initializing needed libraries"
      ],
      "metadata": {
        "id": "UjS_eupi0mYP"
      }
    },
    {
      "cell_type": "code",
      "source": [
        "import random\n",
        "import time\n",
        "import csv"
      ],
      "metadata": {
        "id": "_I8XXFNq0taY"
      },
      "execution_count": 74,
      "outputs": []
    },
    {
      "cell_type": "markdown",
      "source": [
        "# Problem 1\n",
        "\n",
        "\n"
      ],
      "metadata": {
        "id": "Yta2oXUf04X2"
      }
    },
    {
      "cell_type": "code",
      "execution_count": 56,
      "metadata": {
        "colab": {
          "base_uri": "https://localhost:8080/"
        },
        "id": "rYNyjfyLJ6PS",
        "outputId": "55b1b558-c367-4bb2-893b-bd537de83977"
      },
      "outputs": [
        {
          "output_type": "stream",
          "name": "stdout",
          "text": [
            "R1 (A, B): [(1, 1), (3, 2), (2, 2), (1, 5), (1, 5), (4, 1), (1, 1), (2, 2), (5, 5), (1, 5)]\n",
            "R2 (B, C): [(2, 5), (4, 2), (4, 5), (3, 1), (2, 4), (3, 3), (2, 2), (3, 1), (1, 4), (1, 3)]\n",
            "Hashmap of R2 indexed by B: {2: [5, 4, 2], 4: [2, 5], 3: [1, 3, 1], 1: [4, 3]}\n",
            "\n",
            "Join Results:\n",
            "(1, 1, 4)\n",
            "(1, 1, 3)\n",
            "(3, 2, 5)\n",
            "(3, 2, 4)\n",
            "(3, 2, 2)\n",
            "(2, 2, 5)\n",
            "(2, 2, 4)\n",
            "(2, 2, 2)\n",
            "(4, 1, 4)\n",
            "(4, 1, 3)\n",
            "(1, 1, 4)\n",
            "(1, 1, 3)\n",
            "(2, 2, 5)\n",
            "(2, 2, 4)\n",
            "(2, 2, 2)\n"
          ]
        }
      ],
      "source": [
        "random.seed(42)  # Ensuring reproducibility\n",
        "R1 = [(random.randint(1, 5), random.randint(1, 5)) for _ in range(10)]\n",
        "R2 = [(random.randint(1, 5), random.randint(1, 5)) for _ in range(10)]\n",
        "\n",
        "# Create hashmap for R2 with 'B' as the key\n",
        "hashmap_R2 = {}\n",
        "for b, c in R2:\n",
        "    if b not in hashmap_R2:\n",
        "        hashmap_R2[b] = []\n",
        "    hashmap_R2[b].append(c)  # Store 'c' under key 'b'\n",
        "# printing R1, R2 and Hashmap\n",
        "print(\"R1 (A, B):\", R1)\n",
        "print(\"R2 (B, C):\", R2)\n",
        "print(\"Hashmap of R2 indexed by B:\", hashmap_R2)\n",
        "\n",
        "# Join R1 and R2 by B and print results\n",
        "print(\"\\nJoin Results:\")\n",
        "for a, b in R1:\n",
        "    if b in hashmap_R2:\n",
        "        for c in hashmap_R2[b]:\n",
        "            print(f\"({a}, {b}, {c})\")\n"
      ]
    },
    {
      "cell_type": "markdown",
      "source": [
        "# Problem 2"
      ],
      "metadata": {
        "id": "lXGmmrpN1YI8"
      }
    },
    {
      "cell_type": "code",
      "source": [
        "# Define the relations\n",
        "R1 = {('1', '2'), ('4', '6'), ('7', '2')}\n",
        "R2 = {('2', '21'), ('6', '5'), ('9', '3')}\n",
        "R3 = {('21', '8'), ('5', '13'), ('3', '19')}\n",
        "\n",
        "# Map relation names to actual relations\n",
        "Relations = {\n",
        "    ('A1', 'A2'): R1,\n",
        "    ('A2', 'A3'): R2,\n",
        "    ('A3', 'A4'): R3,\n",
        "}\n",
        "\n",
        "# Define the queries\n",
        "queries = [(('A1', 'A2'), ('A2', 'A3'), ('A3', 'A4'))]\n",
        "\n",
        "# Function to dynamically map relation keys to node labels based on the query\n",
        "def map_relations_to_nodes(relations, query):\n",
        "    node_mapping = {}\n",
        "    index = 1\n",
        "    for relation_key in query:\n",
        "        if relation_key in relations:\n",
        "            node_mapping[f\"R{index}\"] = relations[relation_key]\n",
        "            index += 1\n",
        "    return node_mapping\n",
        "\n",
        "# Dynamically map relations based on the query\n",
        "relations = map_relations_to_nodes(Relations, queries[0])\n",
        "print(\"Mapped Relations:\", relations)\n",
        "\n",
        "# Function to create join tree dynamically based on the filtered relations\n",
        "def create_join_tree_from_relations(relations):\n",
        "    tree = {}\n",
        "    nodes = list(relations.keys())\n",
        "    for i, node in enumerate(nodes):\n",
        "        next_node = nodes[i + 1] if i + 1 < len(nodes) else None\n",
        "        tree[node] = [next_node] if next_node else []\n",
        "    return tree\n",
        "\n",
        "# Create join tree from filtered relations\n",
        "join_tree = create_join_tree_from_relations(relations)\n",
        "print(\"Generated Join Tree:\", join_tree)\n",
        "\n",
        "# Post-Order Traversal with Records\n",
        "def post_order_traversal_with_records(tree, node, relations, visited=None):\n",
        "    if visited is None:\n",
        "        visited = []\n",
        "    for child in tree[node]:\n",
        "        if child:\n",
        "            post_order_traversal_with_records(tree, child, relations, visited)\n",
        "    visited.append(node)\n",
        "    print(f\"Visited {node}, Associated Records: {relations[node]}\")\n",
        "    return visited\n",
        "\n",
        "# Get post-order traversal and print associated records\n",
        "post_order = post_order_traversal_with_records(join_tree, 'R1', relations)\n",
        "print(\"Post-order Traversal:\", post_order)\n",
        "\n",
        "# Bottom-Up Semi-Join Reduction\n",
        "def bottom_up_semi_join(tree, post_order, relations):\n",
        "    def semi_join_filter(R, index, values):\n",
        "        return {t for t in R if t[index] in values}\n",
        "\n",
        "    def get_common_indices(parent, child):\n",
        "        print(f\"Getting common indices between {parent} and {child}\")\n",
        "        if parent == 'R1' and child == 'R2':\n",
        "            return 1, 0\n",
        "        if parent == 'R2' and child == 'R3':\n",
        "            return 1, 0\n",
        "        raise ValueError(f\"No common attribute found between {parent} and {child}\")\n",
        "\n",
        "    # Traverse from bottom to top (leaf to root)\n",
        "    for node in reversed(post_order):\n",
        "        if not tree[node]:\n",
        "            continue\n",
        "        for child in tree[node]:\n",
        "            parent_idx, child_idx = get_common_indices(node, child)\n",
        "            child_values = {t[child_idx] for t in relations[child]}\n",
        "            relations[node] = semi_join_filter(relations[node], parent_idx, child_values)\n",
        "\n",
        "    return relations\n",
        "\n",
        "# Apply Bottom-Up Semi-Join Reduction\n",
        "relations = bottom_up_semi_join(join_tree, post_order, relations)\n",
        "print(\"Relations After Bottom-Up Semi-Join:\")\n",
        "for node in post_order:\n",
        "    print(f\"{node}: {relations[node]}\")\n",
        "\n",
        "# Top-Down Semi-Join Reduction\n",
        "def top_down_semi_join(tree, post_order, relations):\n",
        "    def semi_join_filter(R, index, values):\n",
        "        return {t for t in R if t[index] in values}\n",
        "\n",
        "    def get_common_indices(parent, child):\n",
        "        print(f\"Getting common indices between {parent} and {child}\")\n",
        "        if parent == 'R1' and child == 'R2':\n",
        "            return 1, 0\n",
        "        if parent == 'R2' and child == 'R3':\n",
        "            return 1, 0\n",
        "        raise ValueError(f\"No common attribute found between {parent} and {child}\")\n",
        "\n",
        "    # Traverse from top to bottom (root to leaf)\n",
        "    for node in post_order[::-1]:  # Reversed traversal\n",
        "        for child in tree[node]:\n",
        "            parent_idx, child_idx = get_common_indices(node, child)\n",
        "            parent_values = {t[parent_idx] for t in relations[node]}\n",
        "            relations[child] = semi_join_filter(relations[child], child_idx, parent_values)\n",
        "\n",
        "    return relations\n",
        "\n",
        "# Apply Top-Down Semi-Join Reduction\n",
        "relations = top_down_semi_join(join_tree, post_order, relations)\n",
        "print(\"Relations After Top-Down Semi-Join:\")\n",
        "for node in post_order:\n",
        "    print(f\"{node}: {relations[node]}\")\n",
        "\n",
        "# Final Join and Project Function\n",
        "def final_join_and_project(relations, join_tree, post_order):\n",
        "    def get_common_indices(parent, child):\n",
        "        print(f\"Getting common indices between {parent} and {child}\")\n",
        "        if parent == 'R1' and child == 'R2':\n",
        "            return 1, 0  # Common attribute is at index 1 in R1, index 0 in R2\n",
        "        if parent == 'R2' and child == 'R3':\n",
        "            return 2, 0  # Updated: Common attribute is at index 2 in the join result and index 0 in R3\n",
        "        raise ValueError(f\"No common attribute found between {parent} and {child}\")\n",
        "\n",
        "    root_relation = relations['R1']\n",
        "    joined_results = set()\n",
        "\n",
        "    # Traverse from root to leaf nodes\n",
        "    for parent in post_order[::-1]:  # Traverse from root to leaf\n",
        "        children = join_tree[parent]\n",
        "        for child in children:\n",
        "            parent_idx, child_idx = get_common_indices(parent, child)\n",
        "            print(f\"Joining {parent} on index {parent_idx} with {child} on index {child_idx}\")\n",
        "            temp_results = set()\n",
        "            for p in root_relation:\n",
        "                for c in relations[child]:\n",
        "                    print(f\"Parent Tuple: {p}, Child Tuple: {c}\")  # Debug print to see tuples\n",
        "                    if p[parent_idx] == c[child_idx]:\n",
        "                        temp_results.add(p + c[1:])\n",
        "            root_relation = temp_results  # Update root_relation with the intermediate results\n",
        "            print(f\"Join with {child}: {root_relation}\")  # Debug print\n",
        "\n",
        "    return root_relation\n",
        "\n",
        "# Apply final join and projection\n",
        "final_result = final_join_and_project(relations, join_tree, post_order)\n",
        "print(\"Final Joined Relations:\")\n",
        "for record in final_result:\n",
        "  print(record)"
      ],
      "metadata": {
        "colab": {
          "base_uri": "https://localhost:8080/"
        },
        "id": "3HKTQHsyNGad",
        "outputId": "eac57a9d-e8a8-4c76-92bf-d2f3609ec25d"
      },
      "execution_count": 57,
      "outputs": [
        {
          "output_type": "stream",
          "name": "stdout",
          "text": [
            "Mapped Relations: {'R1': {('4', '6'), ('7', '2'), ('1', '2')}, 'R2': {('6', '5'), ('2', '21'), ('9', '3')}, 'R3': {('21', '8'), ('5', '13'), ('3', '19')}}\n",
            "Generated Join Tree: {'R1': ['R2'], 'R2': ['R3'], 'R3': []}\n",
            "Visited R3, Associated Records: {('21', '8'), ('5', '13'), ('3', '19')}\n",
            "Visited R2, Associated Records: {('6', '5'), ('2', '21'), ('9', '3')}\n",
            "Visited R1, Associated Records: {('4', '6'), ('7', '2'), ('1', '2')}\n",
            "Post-order Traversal: ['R3', 'R2', 'R1']\n",
            "Getting common indices between R1 and R2\n",
            "Getting common indices between R2 and R3\n",
            "Relations After Bottom-Up Semi-Join:\n",
            "R3: {('21', '8'), ('5', '13'), ('3', '19')}\n",
            "R2: {('9', '3'), ('6', '5'), ('2', '21')}\n",
            "R1: {('4', '6'), ('7', '2'), ('1', '2')}\n",
            "Getting common indices between R1 and R2\n",
            "Getting common indices between R2 and R3\n",
            "Relations After Top-Down Semi-Join:\n",
            "R3: {('21', '8'), ('5', '13')}\n",
            "R2: {('6', '5'), ('2', '21')}\n",
            "R1: {('4', '6'), ('7', '2'), ('1', '2')}\n",
            "Getting common indices between R1 and R2\n",
            "Joining R1 on index 1 with R2 on index 0\n",
            "Parent Tuple: ('4', '6'), Child Tuple: ('6', '5')\n",
            "Parent Tuple: ('4', '6'), Child Tuple: ('2', '21')\n",
            "Parent Tuple: ('7', '2'), Child Tuple: ('6', '5')\n",
            "Parent Tuple: ('7', '2'), Child Tuple: ('2', '21')\n",
            "Parent Tuple: ('1', '2'), Child Tuple: ('6', '5')\n",
            "Parent Tuple: ('1', '2'), Child Tuple: ('2', '21')\n",
            "Join with R2: {('4', '6', '5'), ('1', '2', '21'), ('7', '2', '21')}\n",
            "Getting common indices between R2 and R3\n",
            "Joining R2 on index 2 with R3 on index 0\n",
            "Parent Tuple: ('4', '6', '5'), Child Tuple: ('21', '8')\n",
            "Parent Tuple: ('4', '6', '5'), Child Tuple: ('5', '13')\n",
            "Parent Tuple: ('1', '2', '21'), Child Tuple: ('21', '8')\n",
            "Parent Tuple: ('1', '2', '21'), Child Tuple: ('5', '13')\n",
            "Parent Tuple: ('7', '2', '21'), Child Tuple: ('21', '8')\n",
            "Parent Tuple: ('7', '2', '21'), Child Tuple: ('5', '13')\n",
            "Join with R3: {('4', '6', '5', '13'), ('1', '2', '21', '8'), ('7', '2', '21', '8')}\n",
            "Final Joined Relations:\n",
            "('4', '6', '5', '13')\n",
            "('1', '2', '21', '8')\n",
            "('7', '2', '21', '8')\n"
          ]
        }
      ]
    },
    {
      "cell_type": "markdown",
      "source": [
        "# Problem 3"
      ],
      "metadata": {
        "id": "4WSwiVLp2S17"
      }
    },
    {
      "cell_type": "code",
      "source": [
        "# Generate synthetic data for relations\n",
        "def generate_relation(num_tuples, attribute_range):\n",
        "    return [(random.randint(1, attribute_range), random.randint(1, attribute_range)) for _ in range(num_tuples)]\n",
        "\n",
        "# Hash join function\n",
        "def hash_join(R1, R2, R1_join_idx, R2_join_idx):\n",
        "    # Create hash table for R2\n",
        "    hash_table = {}\n",
        "    for record in R2:\n",
        "        key = record[R2_join_idx]\n",
        "        if key not in hash_table:\n",
        "            hash_table[key] = []\n",
        "        hash_table[key].append(record)\n",
        "\n",
        "    # Execute the join\n",
        "    join_result = []\n",
        "    for record in R1:\n",
        "        key = record[R1_join_idx]\n",
        "        if key in hash_table:  # Checking if key exists in the hash table\n",
        "            for matching_record in hash_table[key]:\n",
        "                # Concatenate tuples excluding the join key from the second relation\n",
        "                join_result.append(record + matching_record[1:])\n",
        "\n",
        "    return join_result\n",
        "\n",
        "def seq_join(relations,k):\n",
        "  # Perform iterative joins\n",
        "  result = relations[0]  # Start with the first relation\n",
        "  for i in range(1, k):\n",
        "    result = hash_join(result, relations[i], i, 0)  # Join on the last attribute of result and the first of the next relation\n",
        "  return result"
      ],
      "metadata": {
        "id": "UzXgi6ZMJ8YE"
      },
      "execution_count": 61,
      "outputs": []
    },
    {
      "cell_type": "code",
      "source": [
        "\n",
        "# Generate synthetic data for relations\n",
        "def generate_relation(num_tuples, attribute_range):\n",
        "    return [(random.randint(1, attribute_range), random.randint(1, attribute_range)) for _ in range(num_tuples)]\n",
        "# Number of relations\n",
        "k = 5  # Example with 5 relations for simplicity\n",
        "attribute_range = 5  # Attribute values range from 1 to 5\n",
        "num_tuples = 10  # Each relation has 10 tuples\n",
        "\n",
        "# Generate relations\n",
        "relations = [generate_relation(num_tuples, attribute_range) for _ in range(k)]\n"
      ],
      "metadata": {
        "id": "K8Exko82L3Df"
      },
      "execution_count": 62,
      "outputs": []
    },
    {
      "cell_type": "code",
      "source": [
        "# Output the final join result\n",
        "print(\"Final join result:\", seq_join(relations,k))\n",
        "len(seq_join(relations,k))"
      ],
      "metadata": {
        "colab": {
          "base_uri": "https://localhost:8080/"
        },
        "id": "OJgSetQHL9HJ",
        "outputId": "592b260c-c5b9-4fa7-cff3-cdfcf0367f62"
      },
      "execution_count": 64,
      "outputs": [
        {
          "output_type": "stream",
          "name": "stdout",
          "text": [
            "Final join result: [(5, 2, 2, 1, 1, 4), (5, 2, 2, 1, 1, 1), (5, 2, 2, 1, 1, 4), (5, 2, 2, 1, 3, 4), (5, 2, 2, 1, 3, 1), (5, 2, 2, 5, 2, 1), (5, 2, 2, 5, 2, 2), (5, 2, 2, 5, 2, 5), (5, 2, 2, 1, 1, 4), (5, 2, 2, 1, 1, 1), (5, 2, 2, 1, 1, 4), (5, 2, 2, 1, 3, 4), (5, 2, 2, 1, 3, 1), (5, 2, 3, 4, 2, 1), (5, 2, 3, 4, 2, 2), (5, 2, 3, 4, 2, 5), (5, 2, 3, 4, 2, 1), (5, 2, 3, 4, 2, 2), (5, 2, 3, 4, 2, 5), (5, 2, 3, 4, 4, 4), (5, 2, 3, 4, 4, 2), (5, 2, 3, 4, 2, 1), (5, 2, 3, 4, 2, 2), (5, 2, 3, 4, 2, 5), (5, 2, 3, 4, 2, 1), (5, 2, 3, 4, 2, 2), (5, 2, 3, 4, 2, 5), (5, 2, 3, 4, 4, 4), (5, 2, 3, 4, 4, 2), (5, 2, 3, 1, 1, 4), (5, 2, 3, 1, 1, 1), (5, 2, 3, 1, 1, 4), (5, 2, 3, 1, 3, 4), (5, 2, 3, 1, 3, 1), (5, 1, 2, 1, 1, 4), (5, 1, 2, 1, 1, 1), (5, 1, 2, 1, 1, 4), (5, 1, 2, 1, 3, 4), (5, 1, 2, 1, 3, 1), (5, 1, 2, 5, 2, 1), (5, 1, 2, 5, 2, 2), (5, 1, 2, 5, 2, 5), (5, 1, 2, 1, 1, 4), (5, 1, 2, 1, 1, 1), (5, 1, 2, 1, 1, 4), (5, 1, 2, 1, 3, 4), (5, 1, 2, 1, 3, 1), (5, 1, 5, 2, 1, 4), (5, 1, 5, 2, 1, 1), (5, 1, 5, 2, 1, 4), (5, 1, 5, 2, 3, 4), (5, 1, 5, 2, 3, 1), (5, 1, 5, 4, 2, 1), (5, 1, 5, 4, 2, 2), (5, 1, 5, 4, 2, 5), (5, 1, 5, 4, 2, 1), (5, 1, 5, 4, 2, 2), (5, 1, 5, 4, 2, 5), (5, 1, 5, 4, 4, 4), (5, 1, 5, 4, 4, 2), (5, 1, 5, 5, 2, 1), (5, 1, 5, 5, 2, 2), (5, 1, 5, 5, 2, 5), (3, 5, 1, 2, 1, 4), (3, 5, 1, 2, 1, 1), (3, 5, 1, 2, 1, 4), (3, 5, 1, 2, 3, 4), (3, 5, 1, 2, 3, 1), (3, 5, 5, 2, 1, 4), (3, 5, 5, 2, 1, 1), (3, 5, 5, 2, 1, 4), (3, 5, 5, 2, 3, 4), (3, 5, 5, 2, 3, 1), (3, 5, 5, 4, 2, 1), (3, 5, 5, 4, 2, 2), (3, 5, 5, 4, 2, 5), (3, 5, 5, 4, 2, 1), (3, 5, 5, 4, 2, 2), (3, 5, 5, 4, 2, 5), (3, 5, 5, 4, 4, 4), (3, 5, 5, 4, 4, 2), (3, 5, 5, 5, 2, 1), (3, 5, 5, 5, 2, 2), (3, 5, 5, 5, 2, 5), (5, 2, 2, 1, 1, 4), (5, 2, 2, 1, 1, 1), (5, 2, 2, 1, 1, 4), (5, 2, 2, 1, 3, 4), (5, 2, 2, 1, 3, 1), (5, 2, 2, 5, 2, 1), (5, 2, 2, 5, 2, 2), (5, 2, 2, 5, 2, 5), (5, 2, 2, 1, 1, 4), (5, 2, 2, 1, 1, 1), (5, 2, 2, 1, 1, 4), (5, 2, 2, 1, 3, 4), (5, 2, 2, 1, 3, 1), (5, 2, 3, 4, 2, 1), (5, 2, 3, 4, 2, 2), (5, 2, 3, 4, 2, 5), (5, 2, 3, 4, 2, 1), (5, 2, 3, 4, 2, 2), (5, 2, 3, 4, 2, 5), (5, 2, 3, 4, 4, 4), (5, 2, 3, 4, 4, 2), (5, 2, 3, 4, 2, 1), (5, 2, 3, 4, 2, 2), (5, 2, 3, 4, 2, 5), (5, 2, 3, 4, 2, 1), (5, 2, 3, 4, 2, 2), (5, 2, 3, 4, 2, 5), (5, 2, 3, 4, 4, 4), (5, 2, 3, 4, 4, 2), (5, 2, 3, 1, 1, 4), (5, 2, 3, 1, 1, 1), (5, 2, 3, 1, 1, 4), (5, 2, 3, 1, 3, 4), (5, 2, 3, 1, 3, 1), (2, 3, 2, 1, 1, 4), (2, 3, 2, 1, 1, 1), (2, 3, 2, 1, 1, 4), (2, 3, 2, 1, 3, 4), (2, 3, 2, 1, 3, 1), (2, 3, 2, 5, 2, 1), (2, 3, 2, 5, 2, 2), (2, 3, 2, 5, 2, 5), (2, 3, 2, 1, 1, 4), (2, 3, 2, 1, 1, 1), (2, 3, 2, 1, 1, 4), (2, 3, 2, 1, 3, 4), (2, 3, 2, 1, 3, 1), (2, 5, 1, 2, 1, 4), (2, 5, 1, 2, 1, 1), (2, 5, 1, 2, 1, 4), (2, 5, 1, 2, 3, 4), (2, 5, 1, 2, 3, 1), (2, 5, 5, 2, 1, 4), (2, 5, 5, 2, 1, 1), (2, 5, 5, 2, 1, 4), (2, 5, 5, 2, 3, 4), (2, 5, 5, 2, 3, 1), (2, 5, 5, 4, 2, 1), (2, 5, 5, 4, 2, 2), (2, 5, 5, 4, 2, 5), (2, 5, 5, 4, 2, 1), (2, 5, 5, 4, 2, 2), (2, 5, 5, 4, 2, 5), (2, 5, 5, 4, 4, 4), (2, 5, 5, 4, 4, 2), (2, 5, 5, 5, 2, 1), (2, 5, 5, 5, 2, 2), (2, 5, 5, 5, 2, 5), (5, 1, 2, 1, 1, 4), (5, 1, 2, 1, 1, 1), (5, 1, 2, 1, 1, 4), (5, 1, 2, 1, 3, 4), (5, 1, 2, 1, 3, 1), (5, 1, 2, 5, 2, 1), (5, 1, 2, 5, 2, 2), (5, 1, 2, 5, 2, 5), (5, 1, 2, 1, 1, 4), (5, 1, 2, 1, 1, 1), (5, 1, 2, 1, 1, 4), (5, 1, 2, 1, 3, 4), (5, 1, 2, 1, 3, 1), (5, 1, 5, 2, 1, 4), (5, 1, 5, 2, 1, 1), (5, 1, 5, 2, 1, 4), (5, 1, 5, 2, 3, 4), (5, 1, 5, 2, 3, 1), (5, 1, 5, 4, 2, 1), (5, 1, 5, 4, 2, 2), (5, 1, 5, 4, 2, 5), (5, 1, 5, 4, 2, 1), (5, 1, 5, 4, 2, 2), (5, 1, 5, 4, 2, 5), (5, 1, 5, 4, 4, 4), (5, 1, 5, 4, 4, 2), (5, 1, 5, 5, 2, 1), (5, 1, 5, 5, 2, 2), (5, 1, 5, 5, 2, 5), (5, 3, 2, 1, 1, 4), (5, 3, 2, 1, 1, 1), (5, 3, 2, 1, 1, 4), (5, 3, 2, 1, 3, 4), (5, 3, 2, 1, 3, 1), (5, 3, 2, 5, 2, 1), (5, 3, 2, 5, 2, 2), (5, 3, 2, 5, 2, 5), (5, 3, 2, 1, 1, 4), (5, 3, 2, 1, 1, 1), (5, 3, 2, 1, 1, 4), (5, 3, 2, 1, 3, 4), (5, 3, 2, 1, 3, 1), (4, 1, 2, 1, 1, 4), (4, 1, 2, 1, 1, 1), (4, 1, 2, 1, 1, 4), (4, 1, 2, 1, 3, 4), (4, 1, 2, 1, 3, 1), (4, 1, 2, 5, 2, 1), (4, 1, 2, 5, 2, 2), (4, 1, 2, 5, 2, 5), (4, 1, 2, 1, 1, 4), (4, 1, 2, 1, 1, 1), (4, 1, 2, 1, 1, 4), (4, 1, 2, 1, 3, 4), (4, 1, 2, 1, 3, 1), (4, 1, 5, 2, 1, 4), (4, 1, 5, 2, 1, 1), (4, 1, 5, 2, 1, 4), (4, 1, 5, 2, 3, 4), (4, 1, 5, 2, 3, 1), (4, 1, 5, 4, 2, 1), (4, 1, 5, 4, 2, 2), (4, 1, 5, 4, 2, 5), (4, 1, 5, 4, 2, 1), (4, 1, 5, 4, 2, 2), (4, 1, 5, 4, 2, 5), (4, 1, 5, 4, 4, 4), (4, 1, 5, 4, 4, 2), (4, 1, 5, 5, 2, 1), (4, 1, 5, 5, 2, 2), (4, 1, 5, 5, 2, 5), (1, 3, 2, 1, 1, 4), (1, 3, 2, 1, 1, 1), (1, 3, 2, 1, 1, 4), (1, 3, 2, 1, 3, 4), (1, 3, 2, 1, 3, 1), (1, 3, 2, 5, 2, 1), (1, 3, 2, 5, 2, 2), (1, 3, 2, 5, 2, 5), (1, 3, 2, 1, 1, 4), (1, 3, 2, 1, 1, 1), (1, 3, 2, 1, 1, 4), (1, 3, 2, 1, 3, 4), (1, 3, 2, 1, 3, 1)]\n"
          ]
        },
        {
          "output_type": "execute_result",
          "data": {
            "text/plain": [
              "236"
            ]
          },
          "metadata": {},
          "execution_count": 64
        }
      ]
    },
    {
      "cell_type": "markdown",
      "source": [
        "# Problem 4"
      ],
      "metadata": {
        "id": "_0OuwRoSMI9U"
      }
    },
    {
      "cell_type": "code",
      "source": [
        "def generate_datasets():\n",
        "    R1 = [(i, random.randint(1, 5000)) for i in range(1, 101)]  # (i, x)\n",
        "    R2 = [(random.randint(1, 5000), j) for j in range(1, 101)]  # (y, j)\n",
        "    R3 = [(l, l) for l in range(1, 101)]  # (l, l)\n",
        "    return R1, R2, R3"
      ],
      "metadata": {
        "id": "yVVTFa1QMPZ3"
      },
      "execution_count": 99,
      "outputs": []
    },
    {
      "cell_type": "code",
      "source": [
        "# Generate the datasets\n",
        "R1, R2, R3 = generate_datasets()\n",
        "relation3=[R1,R2,R3]\n",
        "print(\"R1 Dataset: \",R1)\n",
        "print(\"R2 Dataset: \",R2)\n",
        "print(\"R3 Dataset: \",R3)"
      ],
      "metadata": {
        "colab": {
          "base_uri": "https://localhost:8080/"
        },
        "id": "F1oxKQTOMTlR",
        "outputId": "da190e25-2d04-45dd-b8a3-5db67c76bcfe"
      },
      "execution_count": 100,
      "outputs": [
        {
          "output_type": "stream",
          "name": "stdout",
          "text": [
            "R1 Dataset:  [(1, 2404), (2, 4392), (3, 3029), (4, 1847), (5, 3101), (6, 1121), (7, 3425), (8, 4583), (9, 4652), (10, 340), (11, 2301), (12, 3831), (13, 1417), (14, 1621), (15, 4225), (16, 3555), (17, 2181), (18, 518), (19, 100), (20, 27), (21, 4880), (22, 2777), (23, 1861), (24, 4104), (25, 2763), (26, 2564), (27, 3947), (28, 2195), (29, 1429), (30, 749), (31, 3202), (32, 2282), (33, 1921), (34, 2632), (35, 4834), (36, 4944), (37, 132), (38, 267), (39, 4765), (40, 1806), (41, 3908), (42, 4372), (43, 637), (44, 2146), (45, 3501), (46, 409), (47, 2497), (48, 4004), (49, 3364), (50, 769), (51, 2406), (52, 1820), (53, 3733), (54, 4139), (55, 4281), (56, 2146), (57, 2260), (58, 1739), (59, 3745), (60, 420), (61, 3246), (62, 3074), (63, 675), (64, 4442), (65, 3698), (66, 2879), (67, 3405), (68, 2101), (69, 3393), (70, 3829), (71, 1077), (72, 3177), (73, 1916), (74, 3311), (75, 4534), (76, 551), (77, 3013), (78, 2433), (79, 714), (80, 4256), (81, 3054), (82, 4240), (83, 4989), (84, 4680), (85, 275), (86, 490), (87, 1222), (88, 3710), (89, 3895), (90, 1368), (91, 4726), (92, 902), (93, 91), (94, 4236), (95, 2524), (96, 2741), (97, 336), (98, 3723), (99, 4605), (100, 3155)]\n",
            "R2 Dataset:  [(168, 1), (2377, 2), (1935, 3), (2977, 4), (3375, 5), (3510, 6), (273, 7), (2765, 8), (300, 9), (1867, 10), (2032, 11), (3639, 12), (2188, 13), (3481, 14), (4851, 15), (4172, 16), (2013, 17), (1731, 18), (222, 19), (3247, 20), (3958, 21), (3605, 22), (1729, 23), (183, 24), (3315, 25), (3859, 26), (986, 27), (4490, 28), (1112, 29), (1500, 30), (1503, 31), (3446, 32), (3362, 33), (3895, 34), (4708, 35), (2304, 36), (666, 37), (133, 38), (4194, 39), (3704, 40), (4163, 41), (4154, 42), (3530, 43), (2696, 44), (1787, 45), (4116, 46), (2700, 47), (4898, 48), (383, 49), (3173, 50), (3857, 51), (1682, 52), (4692, 53), (3398, 54), (1675, 55), (2496, 56), (1386, 57), (4220, 58), (4127, 59), (3946, 60), (3276, 61), (198, 62), (2580, 63), (2644, 64), (180, 65), (2480, 66), (4678, 67), (1131, 68), (1139, 69), (967, 70), (3731, 71), (481, 72), (2150, 73), (4596, 74), (3462, 75), (637, 76), (4466, 77), (3289, 78), (3628, 79), (244, 80), (3336, 81), (3202, 82), (1688, 83), (1531, 84), (502, 85), (572, 86), (3295, 87), (1335, 88), (4734, 89), (122, 90), (3888, 91), (1571, 92), (4754, 93), (4763, 94), (1453, 95), (4170, 96), (657, 97), (4642, 98), (4396, 99), (1309, 100)]\n",
            "R3 Dataset:  [(1, 1), (2, 2), (3, 3), (4, 4), (5, 5), (6, 6), (7, 7), (8, 8), (9, 9), (10, 10), (11, 11), (12, 12), (13, 13), (14, 14), (15, 15), (16, 16), (17, 17), (18, 18), (19, 19), (20, 20), (21, 21), (22, 22), (23, 23), (24, 24), (25, 25), (26, 26), (27, 27), (28, 28), (29, 29), (30, 30), (31, 31), (32, 32), (33, 33), (34, 34), (35, 35), (36, 36), (37, 37), (38, 38), (39, 39), (40, 40), (41, 41), (42, 42), (43, 43), (44, 44), (45, 45), (46, 46), (47, 47), (48, 48), (49, 49), (50, 50), (51, 51), (52, 52), (53, 53), (54, 54), (55, 55), (56, 56), (57, 57), (58, 58), (59, 59), (60, 60), (61, 61), (62, 62), (63, 63), (64, 64), (65, 65), (66, 66), (67, 67), (68, 68), (69, 69), (70, 70), (71, 71), (72, 72), (73, 73), (74, 74), (75, 75), (76, 76), (77, 77), (78, 78), (79, 79), (80, 80), (81, 81), (82, 82), (83, 83), (84, 84), (85, 85), (86, 86), (87, 87), (88, 88), (89, 89), (90, 90), (91, 91), (92, 92), (93, 93), (94, 94), (95, 95), (96, 96), (97, 97), (98, 98), (99, 99), (100, 100)]\n"
          ]
        }
      ]
    },
    {
      "cell_type": "markdown",
      "source": [
        "Implementing Problem-2 Algorithm with above generated dataset"
      ],
      "metadata": {
        "id": "OkcJfyNm5F6K"
      }
    },
    {
      "cell_type": "code",
      "source": [
        "# Function to map relation keys to nodes based on query\n",
        "def map_relations_to_nodes(relations, query):\n",
        "    node_mapping = {}\n",
        "    index = 1\n",
        "    for relation_key in query:\n",
        "        if relation_key in relations:\n",
        "            node_mapping[f\"R{index}\"] = relations[relation_key]\n",
        "            index += 1\n",
        "    return node_mapping\n",
        "\n",
        "# Function to create a join tree from relations\n",
        "def create_join_tree_from_relations(relations):\n",
        "    tree = {}\n",
        "    nodes = list(relations.keys())\n",
        "    for i, node in enumerate(nodes):\n",
        "        next_node = nodes[i + 1] if i + 1 < len(nodes) else None\n",
        "        tree[node] = [next_node] if next_node else []\n",
        "    return tree\n",
        "\n",
        "# Function to perform post-order traversal\n",
        "def post_order_traversal_with_records(tree, node, relations, visited=None):\n",
        "    if visited is None:\n",
        "        visited = []\n",
        "    for child in tree[node]:\n",
        "        if child:\n",
        "            post_order_traversal_with_records(tree, child, relations, visited)\n",
        "    visited.append(node)\n",
        "    return visited\n",
        "\n",
        "# Function for bottom-up semi-join reduction\n",
        "def bottom_up_semi_join(tree, post_order, relations):\n",
        "    def semi_join_filter(R, index, values):\n",
        "        return {t for t in R if t[index] in values}\n",
        "\n",
        "    def get_common_indices(parent, child):\n",
        "        if parent == 'R1' and child == 'R2':\n",
        "            return 1, 0\n",
        "        if parent == 'R2' and child == 'R3':\n",
        "            return 1, 0\n",
        "        raise ValueError(f\"No common attribute found between {parent} and {child}\")\n",
        "\n",
        "    for node in reversed(post_order):\n",
        "        if not tree[node]:\n",
        "            continue\n",
        "        for child in tree[node]:\n",
        "            parent_idx, child_idx = get_common_indices(node, child)\n",
        "            child_values = {t[child_idx] for t in relations[child]}\n",
        "            relations[node] = semi_join_filter(relations[node], parent_idx, child_values)\n",
        "\n",
        "    return relations\n",
        "\n",
        "# Function for top-down semi-join reduction\n",
        "def top_down_semi_join(tree, post_order, relations):\n",
        "    def semi_join_filter(R, index, values):\n",
        "        return {t for t in R if t[index] in values}\n",
        "\n",
        "    def get_common_indices(parent, child):\n",
        "        if parent == 'R1' and child == 'R2':\n",
        "            return 1, 0\n",
        "        if parent == 'R2' and child == 'R3':\n",
        "            return 1, 0\n",
        "        raise ValueError(f\"No common attribute found between {parent} and {child}\")\n",
        "\n",
        "    for node in post_order[::-1]:  # Reversed traversal\n",
        "        for child in tree[node]:\n",
        "            parent_idx, child_idx = get_common_indices(node, child)\n",
        "            parent_values = {t[parent_idx] for t in relations[node]}\n",
        "            relations[child] = semi_join_filter(relations[child], child_idx, parent_values)\n",
        "\n",
        "    return relations\n",
        "\n",
        "# Function to perform final join and project\n",
        "def final_join_and_project(relations, join_tree, post_order):\n",
        "    def get_common_indices(parent, child):\n",
        "        if parent == 'R1' and child == 'R2':\n",
        "            return 1, 0\n",
        "        if parent == 'R2' and child == 'R3':\n",
        "            return 2, 0\n",
        "        raise ValueError(f\"No common attribute found between {parent} and {child}\")\n",
        "\n",
        "    root_relation = relations['R1']\n",
        "    joined_results = set()\n",
        "\n",
        "    for parent in post_order[::-1]:  # Traverse from root to leaf\n",
        "        children = join_tree[parent]\n",
        "        for child in children:\n",
        "            parent_idx, child_idx = get_common_indices(parent, child)\n",
        "            temp_results = set()\n",
        "            for p in root_relation:\n",
        "                for c in relations[child]:\n",
        "                    if p[parent_idx] == c[child_idx]:\n",
        "                        temp_results.add(p + c[1:])\n",
        "            root_relation = temp_results  # Update root_relation with the intermediate results\n",
        "\n",
        "    return root_relation\n",
        "\n",
        "# Function to execute the whole operation with externally passed relations\n",
        "def execute_operation(R1, R2, R3):\n",
        "    Relations = {\n",
        "        ('A1', 'A2'): R1,\n",
        "        ('A2', 'A3'): R2,\n",
        "        ('A3', 'A4'): R3,\n",
        "    }\n",
        "    queries = [(('A1', 'A2'), ('A2', 'A3'), ('A3', 'A4'))]\n",
        "\n",
        "    relations = map_relations_to_nodes(Relations, queries[0])\n",
        "    join_tree = create_join_tree_from_relations(relations)\n",
        "    post_order = post_order_traversal_with_records(join_tree, 'R1', relations)\n",
        "\n",
        "    relations = bottom_up_semi_join(join_tree, post_order, relations)\n",
        "    relations = top_down_semi_join(join_tree, post_order, relations)\n",
        "    final_result = final_join_and_project(relations, join_tree, post_order)\n",
        "\n",
        "    return final_result\n",
        "\n",
        "# Apply final join and projection\n",
        "start_time = time.time()\n",
        "final_result = execute_operation(R1, R2, R3)\n",
        "end_time = time.time()\n",
        "print(\"Problem 2 final set:\", final_result)\n",
        "print(\"Problem 2 answer length:\", len(final_result))\n",
        "print(\"Problem 2 running time:\", end_time - start_time)"
      ],
      "metadata": {
        "colab": {
          "base_uri": "https://localhost:8080/"
        },
        "id": "qldTj0EiMjWp",
        "outputId": "3b3a4491-d773-4677-f733-c35561cea6a7"
      },
      "execution_count": 101,
      "outputs": [
        {
          "output_type": "stream",
          "name": "stdout",
          "text": [
            "Problem 2 final set: {(31, 3202, 82, 82), (43, 637, 76, 76), (89, 3895, 34, 34)}\n",
            "Problem 2 answer length: 3\n",
            "Problem 2 running time: 0.0001876354217529297\n"
          ]
        }
      ]
    },
    {
      "cell_type": "markdown",
      "source": [
        "Implementing Problem 3 Algorithm with above generated dataset"
      ],
      "metadata": {
        "id": "aTFnoTap46HB"
      }
    },
    {
      "cell_type": "code",
      "source": [
        "# Perform the joins\n",
        "def run_sequential_joins_4(R1, R2, R3):\n",
        "  R1_2 = hash_join(R1, R2, 1, 0)  # Join R1 and R2 on R1.x and R2.y\n",
        "  R1_3 = hash_join(R1_2, R3, 2, 0)  # Final join with R3 on R1_2.j and R3.l\n",
        "  return R1_3\n",
        "\n",
        "import time\n",
        "# Timing and running Problem 3's solution\n",
        "start_time = time.time()\n",
        "results_problem3 = run_sequential_joins_4(R1, R2, R3)\n",
        "end_time = time.time()\n",
        "print(\"Problem 3 results:\", results_problem3)\n",
        "print(\"Problem 3 running time:\", end_time - start_time)\n",
        "print(\"Problem 3 output lentgth: \", len(results_problem3))  # Show the resulting tuples and count how many results were obtained"
      ],
      "metadata": {
        "colab": {
          "base_uri": "https://localhost:8080/"
        },
        "id": "a_ks0YOrMWFe",
        "outputId": "954947f5-f1ec-4448-a698-80f702d819ac"
      },
      "execution_count": 102,
      "outputs": [
        {
          "output_type": "stream",
          "name": "stdout",
          "text": [
            "Problem 3 results: [(31, 3202, 82, 82), (43, 637, 76, 76), (89, 3895, 34, 34)]\n",
            "Problem 3 running time: 0.0004050731658935547\n",
            "Problem 3 output lentgth:  3\n"
          ]
        }
      ]
    },
    {
      "cell_type": "markdown",
      "source": [
        "# Problem 5"
      ],
      "metadata": {
        "id": "x-q8xIXL4IQH"
      }
    },
    {
      "cell_type": "markdown",
      "source": [
        "Creating the Dataset"
      ],
      "metadata": {
        "id": "CLCdzGv84LKv"
      }
    },
    {
      "cell_type": "code",
      "source": [
        "# Generate the dataset as specified\n",
        "def generate_dataset_problem_5():\n",
        "    # Relation R1\n",
        "    R1 = [(i, 5) for i in range(1, 1001)] + [(i, 7) for i in range(1001, 2001)]\n",
        "    R1.append((2001, 2002))\n",
        "    random.shuffle(R1)\n",
        "\n",
        "    # Relation R2\n",
        "    R2 = [(5, j) for j in range(1, 1001)] + [(7, i) for i in range(1001, 2001)]\n",
        "    R2.append((2002, 8))\n",
        "    random.shuffle(R2)\n",
        "\n",
        "    # Relation R3\n",
        "    R3 = [(random.randint(2002, 3000), random.randint(1, 3000)) for _ in range(2000)]\n",
        "    R3.append((8, 30))\n",
        "    random.shuffle(R3)\n",
        "\n",
        "    return R1, R2, R3\n"
      ],
      "metadata": {
        "id": "otsXXFb4YBEE"
      },
      "execution_count": 103,
      "outputs": []
    },
    {
      "cell_type": "code",
      "source": [
        "\n",
        "R1, R2, R3 = generate_dataset_problem_5()\n",
        "print(\"R1 Dataset: \",R1)\n",
        "print(\"R2 Dataset: \",R2)\n",
        "print(\"R3 Dataset: \",R3)"
      ],
      "metadata": {
        "colab": {
          "base_uri": "https://localhost:8080/"
        },
        "id": "YOSniyrGYGqY",
        "outputId": "dd3f276d-9f54-45be-c488-d695be77c325"
      },
      "execution_count": 104,
      "outputs": [
        {
          "output_type": "stream",
          "name": "stdout",
          "text": [
            "R1 Dataset:  [(217, 5), (437, 5), (49, 5), (125, 5), (1993, 7), (225, 5), (201, 5), (1832, 7), (1324, 7), (1124, 7), (1490, 7), (899, 5), (237, 5), (661, 5), (1799, 7), (309, 5), (1553, 7), (1225, 7), (239, 5), (1605, 7), (1346, 7), (37, 5), (1132, 7), (994, 5), (420, 5), (1992, 7), (279, 5), (96, 5), (1577, 7), (1749, 7), (355, 5), (997, 5), (402, 5), (1451, 7), (881, 5), (1460, 7), (1914, 7), (390, 5), (672, 5), (923, 5), (768, 5), (667, 5), (1586, 7), (1944, 7), (515, 5), (1220, 7), (169, 5), (916, 5), (284, 5), (828, 5), (1568, 7), (84, 5), (663, 5), (1847, 7), (767, 5), (688, 5), (1883, 7), (1073, 7), (275, 5), (469, 5), (373, 5), (342, 5), (1761, 7), (1591, 7), (349, 5), (118, 5), (1420, 7), (1806, 7), (1472, 7), (1710, 7), (553, 5), (533, 5), (1371, 7), (111, 5), (1957, 7), (1864, 7), (1911, 7), (1522, 7), (1867, 7), (814, 5), (563, 5), (400, 5), (1377, 7), (902, 5), (1093, 7), (1550, 7), (1442, 7), (979, 5), (1141, 7), (46, 5), (254, 5), (855, 5), (1406, 7), (815, 5), (1649, 7), (848, 5), (1037, 7), (1562, 7), (987, 5), (42, 5), (1538, 7), (1925, 7), (634, 5), (873, 5), (92, 5), (1496, 7), (1384, 7), (1835, 7), (122, 5), (1216, 7), (841, 5), (1343, 7), (1643, 7), (1641, 7), (1857, 7), (260, 5), (202, 5), (823, 5), (1707, 7), (991, 5), (913, 5), (1258, 7), (71, 5), (1374, 7), (1489, 7), (1067, 7), (1245, 7), (1877, 7), (124, 5), (1098, 7), (1363, 7), (1223, 7), (1140, 7), (953, 5), (1955, 7), (967, 5), (1152, 7), (785, 5), (1613, 7), (774, 5), (1064, 7), (303, 5), (1148, 7), (221, 5), (887, 5), (1380, 7), (1381, 7), (1402, 7), (1030, 7), (287, 5), (1563, 7), (362, 5), (554, 5), (738, 5), (1971, 7), (30, 5), (280, 5), (1020, 7), (233, 5), (708, 5), (1535, 7), (725, 5), (520, 5), (531, 5), (592, 5), (1901, 7), (1803, 7), (525, 5), (833, 5), (1358, 7), (106, 5), (367, 5), (933, 5), (178, 5), (1494, 7), (1890, 7), (1379, 7), (878, 5), (952, 5), (1235, 7), (464, 5), (513, 5), (1125, 7), (156, 5), (665, 5), (1983, 7), (393, 5), (1071, 7), (436, 5), (627, 5), (502, 5), (934, 5), (370, 5), (288, 5), (1462, 7), (1593, 7), (626, 5), (1458, 7), (119, 5), (523, 5), (1819, 7), (116, 5), (467, 5), (176, 5), (404, 5), (1849, 7), (1736, 7), (20, 5), (1951, 7), (493, 5), (1181, 7), (1154, 7), (1515, 7), (1870, 7), (318, 5), (1241, 7), (983, 5), (628, 5), (752, 5), (1727, 7), (511, 5), (1373, 7), (1414, 7), (483, 5), (532, 5), (208, 5), (621, 5), (574, 5), (1861, 7), (1317, 7), (1440, 7), (1197, 7), (1536, 7), (1339, 7), (1702, 7), (183, 5), (1297, 7), (686, 5), (416, 5), (982, 5), (81, 5), (904, 5), (1284, 7), (1401, 7), (484, 5), (1753, 7), (1906, 7), (1573, 7), (1169, 7), (212, 5), (733, 5), (705, 5), (805, 5), (1520, 7), (1653, 7), (756, 5), (1424, 7), (1780, 7), (1164, 7), (1844, 7), (1282, 7), (876, 5), (591, 5), (69, 5), (1804, 7), (1623, 7), (430, 5), (1891, 7), (1606, 7), (629, 5), (1445, 7), (1627, 7), (1807, 7), (364, 5), (1147, 7), (1038, 7), (775, 5), (1112, 7), (682, 5), (360, 5), (358, 5), (1046, 7), (865, 5), (45, 5), (1949, 7), (94, 5), (1561, 7), (197, 5), (946, 5), (1838, 7), (728, 5), (1791, 7), (449, 5), (1895, 7), (150, 5), (1948, 7), (989, 5), (1177, 7), (1956, 7), (353, 5), (193, 5), (470, 5), (1711, 7), (742, 5), (939, 5), (1950, 7), (113, 5), (466, 5), (1001, 7), (883, 5), (1721, 7), (719, 5), (897, 5), (644, 5), (203, 5), (597, 5), (701, 5), (1967, 7), (1924, 7), (325, 5), (1564, 7), (1688, 7), (906, 5), (954, 5), (268, 5), (1163, 7), (1364, 7), (1903, 7), (1262, 7), (1733, 7), (928, 5), (188, 5), (1829, 7), (1898, 7), (1493, 7), (1450, 7), (1085, 7), (1625, 7), (965, 5), (1917, 7), (1427, 7), (1775, 7), (1476, 7), (1278, 7), (1176, 7), (1912, 7), (413, 5), (160, 5), (98, 5), (1304, 7), (915, 5), (1032, 7), (144, 5), (267, 5), (1301, 7), (372, 5), (1765, 7), (1664, 7), (569, 5), (47, 5), (477, 5), (1699, 7), (1712, 7), (1792, 7), (1680, 7), (380, 5), (1305, 7), (1321, 7), (1534, 7), (426, 5), (1267, 7), (860, 5), (1763, 7), (1077, 7), (1585, 7), (300, 5), (691, 5), (802, 5), (1435, 7), (1024, 7), (387, 5), (1839, 7), (1035, 7), (1772, 7), (256, 5), (165, 5), (1833, 7), (1326, 7), (1750, 7), (154, 5), (1692, 7), (1551, 7), (977, 5), (905, 5), (488, 5), (1661, 7), (1788, 7), (105, 5), (238, 5), (471, 5), (475, 5), (460, 5), (1999, 7), (1447, 7), (729, 5), (313, 5), (1826, 7), (1068, 7), (1048, 7), (57, 5), (432, 5), (541, 5), (945, 5), (173, 5), (834, 5), (1003, 7), (250, 5), (843, 5), (1263, 7), (1897, 7), (840, 5), (1259, 7), (801, 5), (1066, 7), (948, 5), (649, 5), (499, 5), (1033, 7), (898, 5), (1758, 7), (343, 5), (1100, 7), (1483, 7), (1454, 7), (1465, 7), (143, 5), (1198, 7), (1237, 7), (16, 5), (115, 5), (922, 5), (1370, 7), (496, 5), (1062, 7), (1044, 7), (973, 5), (171, 5), (998, 5), (537, 5), (1186, 7), (1086, 7), (1768, 7), (1041, 7), (862, 5), (1941, 7), (109, 5), (810, 5), (1518, 7), (970, 5), (1175, 7), (319, 5), (1012, 7), (1296, 7), (1444, 7), (599, 5), (126, 5), (1696, 7), (1946, 7), (1028, 7), (1744, 7), (1034, 7), (714, 5), (1910, 7), (421, 5), (1667, 7), (839, 5), (120, 5), (1488, 7), (681, 5), (1446, 7), (771, 5), (1385, 7), (468, 5), (1642, 7), (1700, 7), (1961, 7), (640, 5), (1416, 7), (435, 5), (1747, 7), (603, 5), (1300, 7), (152, 5), (1988, 7), (242, 5), (870, 5), (1801, 7), (263, 5), (1327, 7), (680, 5), (1858, 7), (1357, 7), (527, 5), (844, 5), (1709, 7), (1755, 7), (1855, 7), (1329, 7), (1626, 7), (648, 5), (181, 5), (392, 5), (543, 5), (74, 5), (1254, 7), (790, 5), (299, 5), (551, 5), (755, 5), (346, 5), (458, 5), (396, 5), (740, 5), (894, 5), (1153, 7), (1174, 7), (1574, 7), (482, 5), (1635, 7), (655, 5), (895, 5), (361, 5), (1546, 7), (1388, 7), (336, 5), (660, 5), (1782, 7), (809, 5), (1694, 7), (937, 5), (851, 5), (1837, 7), (1822, 7), (761, 5), (961, 5), (1281, 7), (929, 5), (1277, 7), (1283, 7), (918, 5), (720, 5), (981, 5), (995, 5), (1089, 7), (428, 5), (1295, 7), (1532, 7), (1921, 7), (52, 5), (123, 5), (857, 5), (1631, 7), (158, 5), (1217, 7), (1926, 7), (886, 5), (1601, 7), (890, 5), (1376, 7), (795, 5), (1884, 7), (709, 5), (1880, 7), (1719, 7), (1260, 7), (401, 5), (1740, 7), (550, 5), (759, 5), (1428, 7), (411, 5), (379, 5), (1226, 7), (205, 5), (1632, 7), (394, 5), (1840, 7), (1640, 7), (936, 5), (1013, 7), (1213, 7), (596, 5), (853, 5), (1279, 7), (1466, 7), (1433, 7), (674, 5), (927, 5), (1461, 7), (1690, 7), (1940, 7), (539, 5), (514, 5), (1609, 7), (66, 5), (1294, 7), (1022, 7), (1634, 7), (1183, 7), (350, 5), (166, 5), (1391, 7), (944, 5), (1285, 7), (730, 5), (544, 5), (1464, 7), (1584, 7), (141, 5), (1659, 7), (1746, 7), (1070, 7), (831, 5), (75, 5), (1049, 7), (1409, 7), (827, 5), (1773, 7), (1398, 7), (576, 5), (296, 5), (1976, 7), (1109, 7), (1503, 7), (1411, 7), (547, 5), (600, 5), (562, 5), (1331, 7), (642, 5), (134, 5), (1298, 7), (391, 5), (666, 5), (985, 5), (228, 5), (1351, 7), (1170, 7), (222, 5), (304, 5), (1597, 7), (427, 5), (1344, 7), (765, 5), (1842, 7), (289, 5), (700, 5), (1566, 7), (1430, 7), (1368, 7), (604, 5), (737, 5), (438, 5), (1171, 7), (614, 5), (1354, 7), (80, 5), (1958, 7), (285, 5), (1361, 7), (589, 5), (1902, 7), (1549, 7), (1369, 7), (1990, 7), (536, 5), (1131, 7), (214, 5), (601, 5), (1995, 7), (1657, 7), (1572, 7), (1492, 7), (1764, 7), (459, 5), (588, 5), (290, 5), (808, 5), (422, 5), (1669, 7), (414, 5), (650, 5), (1729, 7), (679, 5), (521, 5), (1793, 7), (869, 5), (1929, 7), (866, 5), (1184, 7), (1602, 7), (1716, 7), (1319, 7), (1328, 7), (1608, 7), (813, 5), (1487, 7), (1514, 7), (439, 5), (172, 5), (1899, 7), (376, 5), (723, 5), (445, 5), (664, 5), (692, 5), (1705, 7), (1612, 7), (1422, 7), (136, 5), (1938, 7), (1126, 7), (846, 5), (656, 5), (1713, 7), (797, 5), (295, 5), (1798, 7), (139, 5), (1499, 7), (1875, 7), (1342, 7), (1537, 7), (321, 5), (1904, 7), (1054, 7), (36, 5), (1943, 7), (1650, 7), (54, 5), (371, 5), (572, 5), (213, 5), (1211, 7), (1777, 7), (29, 5), (908, 5), (1052, 7), (412, 5), (947, 5), (1570, 7), (1395, 7), (1737, 7), (1009, 7), (425, 5), (78, 5), (209, 5), (224, 5), (1735, 7), (1185, 7), (461, 5), (505, 5), (132, 5), (1787, 7), (743, 5), (641, 5), (888, 5), (1918, 7), (159, 5), (1754, 7), (972, 5), (986, 5), (292, 5), (1026, 7), (734, 5), (1854, 7), (31, 5), (1734, 7), (227, 5), (1276, 7), (207, 5), (72, 5), (1843, 7), (624, 5), (1161, 7), (1512, 7), (447, 5), (332, 5), (454, 5), (59, 5), (1751, 7), (130, 5), (351, 5), (880, 5), (276, 5), (337, 5), (1677, 7), (1273, 7), (1603, 7), (495, 5), (689, 5), (1531, 7), (623, 5), (153, 5), (1697, 7), (606, 5), (1952, 7), (1019, 7), (676, 5), (1830, 7), (305, 5), (875, 5), (142, 5), (1189, 7), (1233, 7), (529, 5), (1118, 7), (1622, 7), (1937, 7), (1882, 7), (194, 5), (1678, 7), (1000, 5), (1193, 7), (1960, 7), (1318, 7), (258, 5), (1002, 7), (949, 5), (1113, 7), (187, 5), (1201, 7), (1383, 7), (140, 5), (1102, 7), (1509, 7), (1745, 7), (347, 5), (548, 5), (739, 5), (1665, 7), (1524, 7), (1396, 7), (637, 5), (1110, 7), (1129, 7), (450, 5), (170, 5), (1652, 7), (192, 5), (1866, 7), (1480, 7), (633, 5), (386, 5), (1939, 7), (1449, 7), (1636, 7), (1160, 7), (892, 5), (1742, 7), (1776, 7), (330, 5), (872, 5), (1748, 7), (893, 5), (41, 5), (1143, 7), (297, 5), (941, 5), (1135, 7), (216, 5), (1530, 7), (699, 5), (1703, 7), (218, 5), (491, 5), (716, 5), (619, 5), (1025, 7), (1851, 7), (148, 5), (1042, 7), (1671, 7), (195, 5), (223, 5), (1065, 7), (501, 5), (1137, 7), (1157, 7), (618, 5), (1405, 7), (168, 5), (912, 5), (1218, 7), (103, 5), (1887, 7), (1194, 7), (7, 5), (1463, 7), (251, 5), (980, 5), (1310, 7), (1121, 7), (749, 5), (1456, 7), (1437, 7), (1963, 7), (1516, 7), (1332, 7), (1007, 7), (1555, 7), (1856, 7), (791, 5), (51, 5), (480, 5), (1881, 7), (1018, 7), (8, 5), (561, 5), (406, 5), (959, 5), (573, 5), (1208, 7), (1797, 7), (976, 5), (507, 5), (622, 5), (731, 5), (331, 5), (903, 5), (200, 5), (1221, 7), (568, 5), (1146, 7), (907, 5), (1412, 7), (339, 5), (440, 5), (220, 5), (1965, 7), (415, 5), (736, 5), (868, 5), (1823, 7), (1309, 7), (1508, 7), (408, 5), (1399, 7), (590, 5), (653, 5), (1207, 7), (1080, 7), (777, 5), (1477, 7), (1662, 7), (1523, 7), (1365, 7), (127, 5), (472, 5), (741, 5), (1825, 7), (1249, 7), (1970, 7), (1470, 7), (1708, 7), (962, 5), (712, 5), (1519, 7), (1893, 7), (1932, 7), (1571, 7), (219, 5), (1023, 7), (1619, 7), (1307, 7), (1942, 7), (385, 5), (1675, 7), (58, 5), (1495, 7), (1060, 7), (453, 5), (315, 5), (1417, 7), (1878, 7), (252, 5), (215, 5), (77, 5), (1474, 7), (262, 5), (1338, 7), (133, 5), (1091, 7), (1467, 7), (1074, 7), (451, 5), (1542, 7), (356, 5), (56, 5), (2001, 2002), (1099, 7), (1202, 7), (1962, 7), (1579, 7), (434, 5), (1387, 7), (974, 5), (651, 5), (744, 5), (696, 5), (236, 5), (452, 5), (1341, 7), (1784, 7), (698, 5), (204, 5), (1182, 7), (1560, 7), (73, 5), (1919, 7), (374, 5), (517, 5), (1966, 7), (129, 5), (724, 5), (1173, 7), (269, 5), (33, 5), (1056, 7), (864, 5), (1998, 7), (1689, 7), (1502, 7), (22, 5), (917, 5), (63, 5), (1815, 7), (1423, 7), (286, 5), (861, 5), (1871, 7), (1436, 7), (1959, 7), (25, 5), (779, 5), (1795, 7), (645, 5), (108, 5), (1014, 7), (1360, 7), (253, 5), (306, 5), (1096, 7), (344, 5), (322, 5), (1771, 7), (1303, 7), (677, 5), (580, 5), (581, 5), (433, 5), (718, 5), (713, 5), (798, 5), (1497, 7), (1860, 7), (255, 5), (1253, 7), (1600, 7), (1410, 7), (1478, 7), (585, 5), (577, 5), (586, 5), (1859, 7), (1111, 7), (281, 5), (560, 5), (1419, 7), (1257, 7), (1192, 7), (1010, 7), (715, 5), (1629, 7), (1681, 7), (89, 5), (1432, 7), (1527, 7), (1128, 7), (1308, 7), (383, 5), (230, 5), (474, 5), (751, 5), (958, 5), (1122, 7), (943, 5), (1242, 7), (1969, 7), (1592, 7), (1974, 7), (48, 5), (1863, 7), (748, 5), (294, 5), (60, 5), (486, 5), (1695, 7), (338, 5), (1506, 7), (90, 5), (444, 5), (1598, 7), (248, 5), (17, 5), (545, 5), (879, 5), (180, 5), (1088, 7), (1620, 7), (91, 5), (760, 5), (18, 5), (1558, 7), (1457, 7), (811, 5), (812, 5), (86, 5), (1255, 7), (806, 5), (1781, 7), (678, 5), (100, 5), (822, 5), (1059, 7), (796, 5), (443, 5), (1731, 7), (1614, 7), (1138, 7), (1616, 7), (1717, 7), (266, 5), (1658, 7), (1556, 7), (1723, 7), (1167, 7), (788, 5), (283, 5), (28, 5), (1468, 7), (1180, 7), (1982, 7), (770, 5), (1953, 7), (509, 5), (369, 5), (835, 5), (1243, 7), (1590, 7), (794, 5), (996, 5), (1752, 7), (1654, 7), (500, 5), (1796, 7), (1323, 7), (800, 5), (593, 5), (1934, 7), (909, 5), (164, 5), (1400, 7), (282, 5), (1090, 7), (1757, 7), (1482, 7), (1813, 7), (1265, 7), (745, 5), (559, 5), (1569, 7), (1848, 7), (15, 5), (1525, 7), (1393, 7), (643, 5), (1286, 7), (1386, 7), (326, 5), (932, 5), (1725, 7), (67, 5), (1630, 7), (1896, 7), (245, 5), (382, 5), (494, 5), (1266, 7), (334, 5), (703, 5), (1984, 7), (1149, 7), (694, 5), (1134, 7), (1789, 7), (1101, 7), (687, 5), (198, 5), (1666, 7), (776, 5), (799, 5), (298, 5), (409, 5), (189, 5), (1426, 7), (1674, 7), (578, 5), (1108, 7), (190, 5), (1834, 7), (85, 5), (345, 5), (1714, 7), (1778, 7), (1526, 7), (1879, 7), (1036, 7), (1841, 7), (999, 5), (885, 5), (110, 5), (1039, 7), (1031, 7), (43, 5), (540, 5), (615, 5), (960, 5), (1607, 7), (1372, 7), (1779, 7), (1543, 7), (1687, 7), (856, 5), (702, 5), (485, 5), (1991, 7), (424, 5), (1230, 7), (896, 5), (1945, 7), (783, 5), (1986, 7), (693, 5), (1931, 7), (323, 5), (1865, 7), (1770, 7), (311, 5), (1790, 7), (1491, 7), (1448, 7), (911, 5), (44, 5), (1724, 7), (818, 5), (1136, 7), (1115, 7), (762, 5), (1053, 7), (489, 5), (82, 5), (329, 5), (807, 5), (784, 5), (1206, 7), (429, 5), (50, 5), (1288, 7), (1730, 7), (365, 5), (307, 5), (1119, 7), (1628, 7), (1306, 7), (38, 5), (566, 5), (1905, 7), (241, 5), (639, 5), (654, 5), (638, 5), (1557, 7), (1441, 7), (1204, 7), (1479, 7), (584, 5), (1610, 7), (1996, 7), (969, 5), (1008, 7), (97, 5), (1595, 7), (240, 5), (1234, 7), (1644, 7), (750, 5), (804, 5), (1269, 7), (1886, 7), (534, 5), (1646, 7), (658, 5), (1698, 7), (162, 5), (1116, 7), (710, 5), (706, 5), (3, 5), (1043, 7), (726, 5), (1144, 7), (1397, 7), (1240, 7), (76, 5), (1670, 7), (395, 5), (1486, 7), (1676, 7), (549, 5), (161, 5), (711, 5), (1215, 7), (1103, 7), (341, 5), (490, 5), (990, 5), (184, 5), (732, 5), (1767, 7), (1452, 7), (1290, 7), (1894, 7), (147, 5), (1547, 7), (157, 5), (1500, 7), (847, 5), (964, 5), (11, 5), (1827, 7), (646, 5), (1415, 7), (1599, 7), (852, 5), (1095, 7), (910, 5), (53, 5), (884, 5), (1011, 7), (555, 5), (1, 5), (1248, 7), (1818, 7), (587, 5), (1655, 7), (564, 5), (1617, 7), (1994, 7), (1739, 7), (1720, 7), (1539, 7), (83, 5), (942, 5), (431, 5), (397, 5), (992, 5), (1057, 7), (407, 5), (1210, 7), (146, 5), (1224, 7), (1196, 7), (1274, 7), (684, 5), (1916, 7), (93, 5), (1935, 7), (1885, 7), (1179, 7), (177, 5), (1786, 7), (463, 5), (128, 5), (717, 5), (1403, 7), (1621, 7), (348, 5), (1316, 7), (403, 5), (1501, 7), (1004, 7), (1017, 7), (1872, 7), (27, 5), (199, 5), (829, 5), (647, 5), (1268, 7), (1805, 7), (988, 5), (398, 5), (1345, 7), (1594, 7), (462, 5), (1682, 7), (335, 5), (247, 5), (528, 5), (1006, 7), (630, 5), (1575, 7), (635, 5), (14, 5), (595, 5), (1738, 7), (1335, 7), (314, 5), (984, 5), (683, 5), (1172, 7), (882, 5), (1078, 7), (206, 5), (838, 5), (837, 5), (1261, 7), (919, 5), (6, 5), (1287, 7), (504, 5), (747, 5), (1350, 7), (971, 5), (175, 5), (9, 5), (270, 5), (1980, 7), (1824, 7), (758, 5), (1475, 7), (1513, 7), (1117, 7), (1165, 7), (257, 5), (821, 5), (1271, 7), (1145, 7), (535, 5), (1275, 7), (210, 5), (1247, 7), (1633, 7), (874, 5), (1615, 7), (1647, 7), (1836, 7), (1920, 7), (690, 5), (479, 5), (1704, 7), (1063, 7), (114, 5), (310, 5), (1691, 7), (1453, 7), (1272, 7), (675, 5), (24, 5), (608, 5), (278, 5), (1908, 7), (1367, 7), (328, 5), (609, 5), (786, 5), (1375, 7), (1668, 7), (1320, 7), (891, 5), (1107, 7), (1256, 7), (1964, 7), (1766, 7), (1876, 7), (963, 5), (1114, 7), (1756, 7), (1637, 7), (659, 5), (1016, 7), (1178, 7), (1800, 7), (419, 5), (1892, 7), (243, 5), (616, 5), (446, 5), (145, 5), (1156, 7), (1498, 7), (583, 5), (70, 5), (465, 5), (1355, 7), (1336, 7), (625, 5), (138, 5), (1484, 7), (1933, 7), (1651, 7), (817, 5), (956, 5), (1673, 7), (1913, 7), (1337, 7), (102, 5), (610, 5), (594, 5), (137, 5), (10, 5), (61, 5), (21, 5), (825, 5), (259, 5), (1581, 7), (174, 5), (1228, 7), (1928, 7), (1528, 7), (1082, 7), (1814, 7), (1853, 7), (671, 5), (196, 5), (1874, 7), (1246, 7), (516, 5), (1072, 7), (101, 5), (354, 5), (1076, 7), (522, 5), (506, 5), (249, 5), (617, 5), (26, 5), (889, 5), (763, 5), (384, 5), (1252, 7), (924, 5), (1015, 7), (1455, 7), (951, 5), (1055, 7), (1139, 7), (819, 5), (978, 5), (1505, 7), (1133, 7), (1540, 7), (657, 5), (442, 5), (508, 5), (1123, 7), (1504, 7), (1236, 7), (1510, 7), (1205, 7), (317, 5), (1718, 7), (1820, 7), (1209, 7), (1693, 7), (773, 5), (707, 5), (388, 5), (363, 5), (1624, 7), (1195, 7), (1166, 7), (930, 5), (149, 5), (816, 5), (854, 5), (787, 5), (1728, 7), (264, 5), (1270, 7), (1155, 7), (1638, 7), (1821, 7), (378, 5), (793, 5), (1075, 7), (1239, 7), (381, 5), (526, 5), (104, 5), (1533, 7), (277, 5), (1817, 7), (1366, 7), (1732, 7), (1162, 7), (636, 5), (1191, 7), (764, 5), (265, 5), (151, 5), (1199, 7), (582, 5), (1715, 7), (1084, 7), (1828, 7), (1915, 7), (1238, 7), (1987, 7), (826, 5), (781, 5), (79, 5), (877, 5), (473, 5), (261, 5), (405, 5), (312, 5), (842, 5), (1656, 7), (1459, 7), (567, 5), (757, 5), (1831, 7), (1812, 7), (1021, 7), (926, 5), (1977, 7), (1469, 7), (722, 5), (244, 5), (1907, 7), (1120, 7), (1045, 7), (558, 5), (1438, 7), (820, 5), (498, 5), (34, 5), (1392, 7), (571, 5), (1596, 7), (753, 5), (1618, 7), (901, 5), (1092, 7), (1434, 7), (163, 5), (1544, 7), (1027, 7), (524, 5), (871, 5), (1565, 7), (1431, 7), (456, 5), (727, 5), (721, 5), (87, 5), (632, 5), (1413, 7), (1567, 7), (273, 5), (652, 5), (769, 5), (497, 5), (602, 5), (1545, 7), (271, 5), (2, 5), (1852, 7), (1559, 7), (1330, 7), (1888, 7), (1250, 7), (512, 5), (121, 5), (1443, 7), (1672, 7), (1686, 7), (1972, 7), (925, 5), (1168, 7), (546, 5), (1130, 7), (375, 5), (19, 5), (510, 5), (746, 5), (940, 5), (457, 5), (1845, 7), (185, 5), (1200, 7), (39, 5), (1222, 7), (836, 5), (441, 5), (766, 5), (1347, 7), (1922, 7), (611, 5), (293, 5), (1862, 7), (1356, 7), (1660, 7), (605, 5), (1529, 7), (1507, 7), (23, 5), (366, 5), (167, 5), (1981, 7), (993, 5), (1683, 7), (1394, 7), (1069, 7), (685, 5), (519, 5), (1315, 7), (1794, 7), (1816, 7), (1291, 7), (782, 5), (1219, 7), (1645, 7), (668, 5), (448, 5), (552, 5), (575, 5), (542, 5), (1378, 7), (399, 5), (863, 5), (359, 5), (1989, 7), (1552, 7), (1302, 7), (117, 5), (935, 5), (2000, 7), (1280, 7), (492, 5), (35, 5), (1722, 7), (274, 5), (1923, 7), (68, 5), (1142, 7), (32, 5), (272, 5), (803, 5), (832, 5), (968, 5), (1639, 7), (1973, 7), (226, 5), (1759, 7), (789, 5), (1229, 7), (1473, 7), (231, 5), (1404, 7), (1214, 7), (1979, 7), (1927, 7), (1106, 7), (859, 5), (1900, 7), (182, 5), (565, 5), (1293, 7), (957, 5), (1325, 7), (1314, 7), (377, 5), (1158, 7), (695, 5), (1187, 7), (1352, 7), (1040, 7), (1058, 7), (302, 5), (1985, 7), (1947, 7), (1868, 7), (1353, 7), (1968, 7), (1541, 7), (669, 5), (1079, 7), (1726, 7), (613, 5), (1706, 7), (607, 5), (1578, 7), (1783, 7), (1334, 7), (357, 5), (1127, 7), (850, 5), (1231, 7), (340, 5), (1083, 7), (308, 5), (824, 5), (327, 5), (931, 5), (135, 5), (1760, 7), (1774, 7), (1312, 7), (1061, 7), (65, 5), (1105, 7), (1289, 7), (1051, 7), (64, 5), (417, 5), (99, 5), (1802, 7), (914, 5), (88, 5), (612, 5), (1292, 7), (845, 5), (320, 5), (1936, 7), (1909, 7), (975, 5), (235, 5), (95, 5), (1587, 7), (920, 5), (410, 5), (4, 5), (673, 5), (191, 5), (1047, 7), (1340, 7), (1741, 7), (1846, 7), (291, 5), (1348, 7), (1481, 7), (1190, 7), (1582, 7), (1808, 7), (518, 5), (1743, 7), (1333, 7), (778, 5), (211, 5), (107, 5), (1850, 7), (1554, 7), (1548, 7), (1769, 7), (1188, 7), (1081, 7), (1322, 7), (1809, 7), (704, 5), (234, 5), (1389, 7), (455, 5), (1359, 7), (556, 5), (1313, 7), (772, 5), (1299, 7), (792, 5), (12, 5), (1762, 7), (1029, 7), (966, 5), (849, 5), (229, 5), (1930, 7), (1485, 7), (955, 5), (155, 5), (1517, 7), (1684, 7), (1390, 7), (1421, 7), (1785, 7), (1604, 7), (301, 5), (1429, 7), (112, 5), (1663, 7), (503, 5), (1611, 7), (1349, 7), (570, 5), (1589, 7), (1521, 7), (1050, 7), (1869, 7), (1150, 7), (476, 5), (557, 5), (333, 5), (1087, 7), (1244, 7), (530, 5), (754, 5), (5, 5), (389, 5), (900, 5), (1104, 7), (1679, 7), (697, 5), (1264, 7), (131, 5), (368, 5), (1227, 7), (780, 5), (55, 5), (921, 5), (1997, 7), (1975, 7), (1159, 7), (1588, 7), (735, 5), (579, 5), (232, 5), (40, 5), (1418, 7), (1232, 7), (1311, 7), (1408, 7), (620, 5), (670, 5), (487, 5), (1580, 7), (1382, 7), (179, 5), (1811, 7), (481, 5), (1362, 7), (1954, 7), (1407, 7), (1097, 7), (1212, 7), (1425, 7), (1471, 7), (423, 5), (62, 5), (324, 5), (598, 5), (1203, 7), (830, 5), (352, 5), (538, 5), (1251, 7), (631, 5), (1701, 7), (1685, 7), (867, 5), (1094, 7), (13, 5), (1889, 7), (1873, 7), (1511, 7), (938, 5), (186, 5), (950, 5), (478, 5), (1648, 7), (1583, 7), (418, 5), (1576, 7), (1810, 7), (1978, 7), (662, 5), (1439, 7), (858, 5), (316, 5), (1151, 7), (246, 5), (1005, 7)]\n",
            "R2 Dataset:  [(5, 333), (5, 439), (5, 917), (7, 1120), (5, 849), (7, 1343), (7, 1977), (7, 1459), (7, 1799), (7, 1222), (7, 1816), (7, 1670), (5, 547), (5, 312), (7, 1428), (7, 1583), (5, 762), (5, 122), (5, 163), (7, 1969), (7, 1616), (5, 73), (5, 563), (7, 1566), (5, 273), (5, 565), (5, 489), (5, 124), (5, 578), (5, 115), (5, 589), (5, 391), (7, 1291), (5, 989), (5, 260), (5, 919), (7, 1035), (7, 1179), (7, 1217), (7, 1874), (7, 1433), (7, 1611), (5, 170), (7, 1113), (7, 1470), (7, 1221), (7, 1562), (5, 354), (7, 1582), (7, 1814), (5, 531), (5, 504), (5, 58), (7, 1589), (7, 1330), (7, 1072), (5, 605), (7, 1244), (5, 19), (5, 81), (7, 1421), (5, 648), (5, 576), (7, 1483), (5, 79), (5, 434), (5, 298), (7, 1712), (5, 886), (5, 492), (5, 46), (5, 41), (7, 1424), (7, 1823), (7, 1809), (5, 435), (7, 1190), (5, 254), (7, 1932), (5, 597), (7, 1240), (7, 1008), (7, 1763), (7, 1920), (5, 975), (5, 949), (5, 210), (5, 319), (7, 1024), (5, 334), (5, 450), (5, 990), (7, 1109), (5, 724), (7, 1520), (5, 979), (7, 1038), (5, 633), (5, 407), (7, 1248), (5, 955), (7, 1645), (7, 1545), (7, 1659), (7, 1112), (7, 1132), (5, 759), (5, 117), (7, 1519), (5, 601), (7, 1711), (5, 699), (5, 83), (7, 1406), (7, 1838), (7, 1013), (5, 957), (5, 390), (7, 1439), (7, 1524), (5, 553), (5, 204), (5, 301), (5, 486), (7, 1452), (5, 318), (7, 1477), (5, 20), (5, 526), (5, 174), (5, 243), (7, 1512), (5, 666), (7, 1938), (7, 1671), (7, 1279), (5, 445), (5, 584), (7, 1626), (7, 1201), (7, 1077), (5, 901), (5, 937), (5, 328), (7, 1418), (7, 1063), (7, 1061), (5, 86), (5, 794), (7, 1430), (5, 638), (7, 1835), (5, 866), (5, 716), (5, 932), (7, 1254), (5, 835), (7, 1401), (7, 1460), (7, 1886), (7, 1370), (5, 559), (5, 55), (7, 1033), (7, 1491), (7, 1168), (5, 729), (7, 1811), (5, 741), (7, 1908), (7, 1741), (7, 1322), (5, 532), (7, 1086), (7, 1894), (7, 1539), (7, 1510), (7, 1623), (5, 457), (7, 1745), (7, 1156), (5, 110), (5, 231), (5, 914), (5, 248), (5, 982), (7, 1088), (7, 1325), (7, 1897), (7, 1273), (7, 1287), (7, 1548), (7, 1856), (5, 934), (5, 641), (7, 1910), (5, 184), (7, 1622), (5, 735), (7, 1526), (5, 709), (7, 1605), (7, 1815), (7, 1046), (5, 178), (7, 1929), (7, 1782), (5, 916), (7, 1819), (5, 560), (7, 1735), (5, 820), (5, 352), (5, 424), (7, 1002), (5, 116), (7, 1200), (5, 791), (7, 1560), (7, 1386), (7, 1639), (5, 635), (7, 1014), (7, 1913), (5, 536), (5, 118), (7, 1585), (5, 803), (5, 902), (5, 832), (5, 313), (5, 222), (7, 1654), (7, 1350), (7, 1242), (7, 1223), (5, 668), (5, 727), (7, 1137), (7, 1994), (5, 127), (5, 994), (7, 1631), (5, 462), (7, 1169), (7, 1593), (7, 1218), (5, 508), (7, 1769), (5, 374), (7, 1859), (5, 960), (5, 753), (7, 1817), (5, 978), (7, 1398), (7, 1308), (7, 1627), (5, 496), (7, 1847), (5, 768), (5, 294), (7, 1638), (7, 1391), (5, 876), (7, 1105), (7, 1297), (7, 1050), (7, 1069), (5, 138), (5, 802), (7, 1090), (5, 991), (7, 1525), (7, 1074), (7, 1451), (5, 92), (7, 1939), (7, 1007), (5, 230), (5, 366), (5, 552), (5, 596), (7, 1979), (7, 1718), (7, 1980), (7, 1785), (7, 1339), (7, 1613), (7, 1565), (7, 1251), (5, 67), (7, 1598), (5, 530), (7, 1724), (7, 1998), (5, 767), (7, 1884), (5, 841), (5, 62), (7, 1134), (5, 509), (7, 1766), (7, 1140), (5, 520), (5, 858), (5, 874), (7, 1334), (5, 151), (5, 262), (7, 1039), (5, 271), (7, 1032), (5, 211), (5, 241), (7, 1733), (7, 1329), (7, 1434), (5, 443), (5, 188), (7, 1068), (7, 1171), (5, 410), (7, 1081), (5, 603), (5, 609), (7, 1261), (5, 826), (5, 732), (7, 1042), (5, 652), (7, 1034), (7, 1417), (5, 575), (7, 1972), (7, 1426), (5, 202), (5, 482), (5, 84), (7, 1408), (5, 865), (7, 1528), (5, 342), (5, 141), (5, 737), (5, 49), (5, 748), (5, 72), (7, 1812), (7, 1730), (5, 809), (7, 1108), (5, 473), (7, 1594), (7, 1336), (7, 1701), (5, 884), (5, 104), (7, 1946), (7, 1005), (5, 252), (7, 1253), (7, 1606), (5, 883), (5, 747), (5, 645), (7, 1744), (7, 1983), (7, 1207), (7, 1610), (5, 258), (7, 1328), (7, 1725), (5, 701), (7, 1656), (5, 224), (7, 1587), (5, 74), (7, 1607), (7, 1079), (5, 358), (5, 920), (5, 703), (7, 1073), (7, 1340), (5, 290), (7, 1681), (5, 571), (7, 1164), (5, 393), (5, 926), (7, 1636), (7, 1775), (7, 1480), (7, 1364), (5, 893), (5, 12), (7, 1060), (7, 1959), (7, 1679), (7, 1569), (5, 528), (5, 404), (5, 43), (5, 255), (5, 113), (7, 1161), (7, 1542), (7, 1723), (7, 1136), (7, 1233), (7, 1581), (5, 265), (7, 1985), (5, 194), (5, 702), (5, 37), (7, 1924), (5, 300), (5, 183), (7, 1107), (7, 1558), (5, 936), (5, 945), (5, 543), (5, 516), (7, 1365), (7, 1055), (7, 1647), (7, 1366), (7, 1440), (7, 1705), (7, 1694), (7, 1743), (7, 1714), (7, 1773), (5, 13), (7, 1435), (5, 948), (7, 1461), (7, 1903), (5, 474), (7, 1106), (7, 1832), (5, 346), (5, 36), (7, 1415), (7, 1144), (7, 1762), (5, 869), (7, 1878), (7, 1666), (7, 1289), (7, 1027), (5, 924), (5, 209), (7, 1620), (5, 661), (7, 1784), (5, 685), (7, 1188), (7, 1795), (7, 1349), (7, 1062), (5, 284), (7, 1618), (5, 805), (5, 752), (7, 1837), (7, 1774), (5, 35), (5, 583), (5, 389), (5, 459), (5, 332), (7, 1760), (5, 825), (5, 91), (7, 1111), (7, 1798), (5, 175), (7, 1756), (5, 365), (7, 1372), (5, 220), (5, 256), (5, 834), (5, 344), (7, 1883), (5, 472), (7, 1312), (5, 468), (7, 1945), (7, 1546), (7, 1563), (5, 101), (5, 804), (5, 950), (7, 1982), (5, 911), (7, 1513), (5, 939), (7, 1993), (5, 401), (7, 1890), (7, 1423), (7, 1318), (7, 1750), (5, 626), (7, 1940), (7, 1346), (5, 850), (7, 1437), (5, 723), (5, 292), (7, 1166), (5, 477), (5, 480), (5, 790), (5, 619), (5, 719), (5, 140), (7, 1236), (7, 1082), (7, 1551), (5, 769), (5, 814), (5, 913), (5, 461), (5, 904), (5, 317), (5, 363), (5, 632), (5, 527), (7, 1791), (5, 754), (5, 795), (5, 542), (7, 1282), (7, 1975), (7, 1476), (5, 386), (5, 700), (7, 1653), (7, 1580), (7, 1353), (5, 23), (5, 698), (5, 3), (5, 64), (5, 87), (7, 1981), (7, 1845), (7, 1091), (5, 383), (5, 217), (7, 1138), (5, 765), (7, 1984), (5, 725), (7, 1250), (5, 705), (7, 1796), (7, 1468), (7, 1696), (7, 1374), (5, 696), (7, 1713), (5, 595), (5, 47), (7, 1966), (5, 643), (5, 237), (5, 921), (7, 1202), (7, 1104), (7, 1442), (5, 784), (5, 627), (7, 1658), (5, 947), (7, 1058), (7, 1204), (5, 981), (5, 416), (7, 1097), (7, 1280), (7, 1102), (7, 1347), (7, 1172), (7, 1092), (7, 1182), (7, 1842), (5, 90), (5, 310), (5, 28), (7, 1148), (7, 1231), (5, 161), (7, 1375), (5, 933), (5, 102), (5, 162), (5, 862), (7, 1570), (7, 1758), (7, 1538), (5, 446), (5, 697), (7, 1355), (7, 1828), (7, 1283), (5, 232), (5, 397), (7, 1226), (5, 143), (7, 1781), (5, 330), (7, 1873), (7, 1732), (5, 910), (7, 1767), (5, 299), (7, 1706), (5, 647), (5, 710), (5, 227), (5, 219), (7, 1094), (5, 63), (5, 847), (7, 1599), (5, 860), (5, 746), (7, 1191), (7, 1117), (5, 963), (7, 1177), (5, 771), (5, 667), (5, 394), (7, 1351), (7, 1219), (5, 918), (5, 470), (7, 1382), (7, 1066), (7, 1385), (7, 1949), (5, 111), (7, 1411), (5, 682), (7, 1125), (5, 351), (5, 339), (7, 1850), (7, 1344), (7, 1669), (5, 817), (7, 1142), (5, 281), (5, 891), (7, 1992), (5, 692), (7, 1054), (5, 218), (5, 179), (7, 1604), (7, 1413), (5, 720), (7, 1852), (7, 1492), (5, 545), (5, 10), (5, 756), (5, 958), (7, 1065), (5, 721), (7, 1497), (7, 1790), (5, 303), (5, 408), (7, 1501), (7, 1869), (5, 165), (7, 1463), (5, 631), (5, 712), (5, 491), (7, 1571), (5, 288), (5, 953), (5, 21), (7, 1973), (7, 1729), (7, 1414), (5, 915), (7, 1900), (7, 1369), (7, 1749), (7, 1757), (5, 71), (5, 574), (7, 1084), (7, 1462), (7, 1263), (5, 96), (7, 1923), (7, 1016), (7, 1544), (5, 326), (5, 409), (5, 974), (5, 45), (5, 455), (7, 1436), (5, 889), (5, 959), (7, 1450), (5, 837), (5, 471), (5, 431), (7, 1381), (7, 1608), (7, 1926), (7, 1825), (7, 1813), (5, 16), (7, 1818), (7, 1186), (7, 1788), (5, 533), (5, 157), (7, 1541), (5, 306), (5, 707), (5, 51), (5, 653), (7, 1976), (7, 1807), (7, 1071), (7, 1129), (5, 1), (5, 761), (5, 192), (7, 1615), (7, 1187), (7, 1403), (5, 715), (5, 314), (5, 586), (5, 856), (7, 1429), (7, 1141), (5, 787), (7, 1271), (5, 912), (7, 1885), (5, 864), (5, 15), (7, 1849), (7, 1783), (7, 1834), (5, 923), (5, 246), (7, 1841), (5, 952), (7, 1806), (5, 743), (5, 636), (5, 677), (5, 789), (5, 100), (5, 861), (7, 1496), (5, 999), (5, 600), (5, 572), (7, 1412), (7, 1197), (7, 1889), (7, 1867), (7, 1987), (5, 658), (5, 573), (5, 510), (5, 353), (7, 1651), (7, 1276), (7, 1458), (5, 977), (5, 229), (5, 625), (5, 569), (7, 1044), (5, 815), (5, 657), (5, 88), (5, 909), (5, 38), (7, 1301), (5, 132), (7, 1040), (5, 751), (7, 1228), (5, 466), (5, 420), (5, 843), (5, 481), (7, 1511), (5, 269), (5, 672), (7, 1155), (7, 1080), (7, 1857), (5, 781), (7, 1309), (5, 130), (7, 1215), (7, 1275), (5, 628), (7, 1855), (7, 1151), (5, 249), (5, 338), (7, 1396), (5, 295), (5, 637), (5, 875), (5, 308), (5, 25), (5, 75), (5, 18), (5, 554), (7, 1789), (5, 30), (7, 1941), (5, 537), (7, 1397), (7, 1572), (7, 1009), (7, 1031), (7, 1001), (7, 1935), (5, 369), (7, 1388), (5, 954), (7, 1485), (7, 1905), (5, 297), (7, 1303), (5, 811), (5, 929), (7, 1568), (5, 135), (7, 1306), (7, 1227), (5, 659), (7, 1220), (7, 1057), (7, 1384), (5, 454), (7, 1521), (7, 1363), (5, 199), (5, 322), (5, 793), (7, 1311), (7, 1577), (5, 684), (5, 356), (7, 1808), (7, 1963), (5, 722), (5, 105), (5, 801), (5, 382), (7, 1467), (5, 119), (7, 1523), (7, 1133), (7, 1352), (7, 1690), (5, 568), (7, 1699), (5, 744), (7, 1266), (7, 1469), (7, 1089), (7, 1851), (5, 33), (7, 1640), (7, 1252), (7, 1020), (5, 621), (7, 1685), (5, 198), (7, 1698), (5, 992), (7, 1051), (5, 335), (5, 483), (7, 1237), (7, 1420), (5, 14), (7, 1500), (7, 1710), (7, 1827), (5, 180), (7, 1943), (7, 1165), (7, 1030), (7, 1076), (7, 1637), (5, 144), (5, 166), (5, 676), (5, 812), (7, 1612), (7, 1041), (7, 1377), (5, 968), (5, 738), (5, 514), (7, 1688), (7, 1590), (5, 418), (5, 484), (5, 8), (5, 145), (5, 550), (5, 139), (5, 498), (5, 103), (7, 1278), (5, 824), (5, 279), (5, 689), (7, 1824), (5, 614), (7, 1360), (5, 419), (7, 1494), (7, 1378), (7, 1576), (7, 1800), (7, 1917), (5, 898), (7, 1609), (7, 1956), (7, 1004), (5, 456), (7, 1465), (7, 1017), (7, 1290), (5, 42), (5, 267), (5, 185), (5, 882), (5, 432), (7, 1405), (7, 1915), (5, 388), (5, 839), (7, 1686), (7, 1070), (7, 1183), (5, 114), (5, 282), (5, 944), (5, 987), (7, 1853), (7, 1307), (5, 85), (5, 44), (7, 1010), (7, 1230), (5, 488), (7, 1100), (5, 895), (7, 1238), (5, 266), (7, 1901), (5, 376), (7, 1474), (5, 371), (5, 670), (5, 779), (7, 1048), (5, 414), (7, 1532), (7, 1801), (7, 1457), (5, 89), (5, 742), (7, 1211), (7, 1858), (7, 1464), (7, 1267), (5, 150), (5, 908), (5, 304), (5, 517), (7, 1914), (5, 373), (7, 1703), (7, 1970), (5, 412), (5, 940), (5, 680), (5, 962), (7, 1419), (5, 463), (7, 1167), (5, 349), (5, 749), (7, 1742), (5, 644), (7, 1110), (5, 606), (7, 1534), (7, 1797), (5, 32), (7, 1860), (7, 1770), (5, 579), (5, 800), (5, 873), (5, 736), (7, 1652), (7, 1629), (5, 134), (5, 997), (7, 1158), (7, 1454), (7, 1234), (7, 1552), (7, 1087), (7, 1175), (7, 1018), (5, 360), (5, 662), (5, 343), (5, 691), (7, 1241), (5, 519), (7, 1556), (7, 1720), (7, 1243), (5, 380), (7, 1584), (7, 1319), (7, 1676), (7, 1957), (7, 1721), (7, 1444), (7, 1902), (5, 487), (5, 156), (5, 99), (5, 582), (5, 714), (7, 1147), (7, 1830), (7, 1367), (5, 347), (7, 1320), (7, 1270), (5, 777), (7, 1978), (5, 618), (7, 1023), (7, 1861), (7, 1145), (5, 490), (5, 147), (5, 385), (5, 878), (5, 604), (5, 780), (7, 1006), (7, 1955), (7, 1045), (7, 1331), (5, 894), (5, 437), (5, 154), (5, 993), (7, 1489), (5, 650), (5, 613), (5, 941), (5, 272), (5, 245), (7, 1394), (7, 1649), (5, 181), (7, 1067), (7, 1387), (7, 1399), (5, 951), (5, 622), (7, 1912), (7, 1764), (5, 634), (5, 201), (5, 277), (7, 1854), (5, 238), (7, 1870), (5, 177), (7, 1872), (5, 985), (7, 1821), (7, 1224), (7, 1277), (5, 783), (7, 1114), (7, 1348), (7, 1600), (5, 995), (7, 1296), (5, 980), (5, 126), (5, 872), (5, 153), (5, 405), (7, 1997), (5, 430), (7, 1634), (5, 320), (5, 535), (5, 620), (5, 675), (7, 1028), (5, 529), (5, 411), (5, 250), (7, 1246), (7, 2000), (7, 1314), (7, 1777), (7, 1776), (7, 1928), (7, 1707), (7, 1390), (7, 1988), (7, 1149), (5, 855), (7, 1085), (7, 1338), (5, 80), (7, 1887), (5, 639), (5, 98), (5, 52), (7, 1292), (5, 580), (5, 22), (5, 821), (7, 1578), (5, 187), (7, 1778), (5, 515), (5, 152), (7, 1962), (7, 1438), (7, 1011), (7, 1358), (5, 146), (5, 128), (7, 1216), (5, 544), (7, 1118), (7, 1154), (5, 94), (5, 577), (5, 206), (7, 1665), (7, 1272), (7, 1239), (7, 1268), (5, 859), (5, 976), (5, 442), (5, 557), (7, 1591), (5, 475), (5, 464), (5, 399), (5, 167), (5, 70), (5, 558), (7, 1719), (5, 506), (5, 822), (5, 233), (7, 1843), (7, 1170), (5, 717), (5, 348), (5, 221), (5, 798), (5, 215), (5, 68), (5, 228), (5, 452), (5, 674), (7, 1995), (7, 1294), (7, 1128), (7, 1443), (7, 1848), (5, 925), (5, 840), (7, 1286), (7, 1235), (7, 1162), (7, 1643), (5, 785), (7, 1803), (7, 1916), (5, 225), (5, 164), (7, 1036), (5, 538), (7, 1792), (7, 1738), (5, 441), (5, 24), (7, 1844), (7, 1502), (7, 1820), (5, 285), (5, 943), (5, 223), (7, 1446), (5, 392), (5, 421), (7, 1567), (5, 706), (5, 608), (7, 1341), (7, 1746), (7, 1549), (5, 296), (7, 1488), (7, 1687), (5, 377), (5, 813), (7, 1891), (7, 1337), (7, 1213), (7, 1288), (5, 816), (7, 1617), (7, 1911), (5, 270), (5, 242), (7, 1466), (7, 1176), (5, 564), (7, 1863), (7, 1475), (7, 1139), (7, 1499), (7, 1771), (7, 1644), (7, 1772), (7, 1780), (7, 1099), (7, 1866), (7, 1472), (5, 9), (5, 341), (5, 966), (5, 121), (7, 1722), (7, 1482), (5, 971), (7, 1354), (7, 1019), (5, 48), (5, 502), (5, 60), (7, 1958), (5, 946), (7, 1327), (7, 1056), (7, 1471), (7, 1379), (5, 171), (7, 1555), (7, 1324), (5, 726), (7, 1515), (7, 1804), (7, 1574), (7, 1119), (7, 1247), (7, 1262), (5, 485), (7, 1209), (5, 964), (7, 1159), (5, 607), (7, 1974), (7, 1103), (7, 1968), (5, 208), (5, 846), (7, 1692), (7, 1184), (7, 1380), (5, 879), (7, 1025), (5, 673), (7, 1573), (5, 842), (5, 587), (5, 436), (7, 1675), (5, 664), (5, 460), (7, 1121), (7, 1402), (5, 403), (5, 857), (7, 1321), (7, 1632), (7, 1313), (5, 321), (5, 168), (5, 973), (5, 694), (7, 1507), (5, 610), (5, 309), (7, 1214), (7, 1012), (5, 796), (5, 415), (5, 594), (5, 316), (7, 1495), (5, 695), (7, 1130), (7, 1181), (7, 1299), (5, 261), (5, 836), (7, 1948), (7, 1150), (7, 1677), (5, 693), (5, 478), (5, 651), (7, 1736), (5, 807), (5, 555), (5, 905), (7, 1765), (5, 327), (7, 1389), (7, 1192), (7, 1395), (5, 511), (5, 449), (5, 757), (5, 969), (5, 546), (5, 216), (7, 1868), (5, 853), (5, 854), (7, 1269), (5, 125), (7, 1047), (7, 1704), (7, 1726), (5, 758), (5, 323), (5, 799), (7, 1768), (5, 548), (7, 1655), (7, 1153), (5, 681), (5, 760), (7, 1536), (7, 1727), (7, 1672), (7, 1682), (7, 1588), (7, 1880), (7, 1708), (7, 1484), (5, 967), (7, 1274), (5, 364), (7, 1737), (7, 1409), (7, 1836), (7, 1937), (7, 1174), (7, 1952), (5, 567), (5, 497), (7, 1281), (5, 970), (7, 1373), (7, 1304), (5, 930), (5, 896), (7, 1931), (7, 1715), (7, 1619), (7, 1531), (7, 1455), (7, 1898), (5, 396), (5, 880), (5, 881), (7, 1049), (7, 1196), (5, 541), (5, 355), (5, 11), (7, 1550), (5, 907), (7, 1895), (5, 611), (7, 1695), (5, 819), (7, 1026), (5, 381), (7, 1755), (7, 1691), (5, 259), (5, 683), (7, 1904), (7, 1392), (5, 844), (5, 688), (7, 1933), (7, 1225), (7, 1595), (5, 325), (5, 440), (5, 240), (5, 776), (7, 1630), (5, 372), (5, 745), (7, 1793), (7, 1315), (7, 1871), (5, 395), (5, 207), (7, 1180), (5, 458), (5, 429), (5, 629), (7, 1095), (7, 1504), (5, 426), (5, 234), (7, 1505), (5, 95), (7, 1258), (7, 1359), (7, 1650), (5, 57), (7, 1342), (7, 1918), (7, 1805), (7, 1543), (5, 97), (5, 361), (7, 1362), (5, 378), (5, 268), (7, 1203), (5, 476), (7, 1503), (5, 65), (5, 77), (7, 1794), (7, 1961), (5, 278), (7, 1561), (7, 1731), (7, 1064), (5, 422), (5, 512), (7, 1829), (5, 823), (7, 1516), (5, 40), (5, 291), (7, 1160), (7, 1989), (5, 655), (5, 525), (5, 155), (5, 646), (5, 212), (5, 76), (7, 1596), (5, 838), (7, 1752), (7, 1748), (5, 315), (7, 1621), (5, 197), (5, 196), (7, 1673), (5, 345), (5, 283), (5, 669), (7, 1383), (5, 39), (7, 1648), (7, 1527), (7, 1416), (7, 1326), (5, 687), (5, 885), (7, 1787), (7, 1533), (5, 112), (5, 400), (5, 379), (7, 1557), (5, 69), (5, 828), (5, 26), (5, 402), (7, 1684), (7, 1448), (5, 368), (5, 540), (5, 763), (7, 1759), (7, 1478), (5, 501), (7, 1641), (7, 1345), (7, 1185), (5, 877), (5, 293), (5, 5), (7, 1335), (7, 1123), (7, 1950), (5, 833), (5, 109), (5, 931), (7, 1559), (5, 678), (7, 1846), (5, 617), (5, 867), (5, 656), (7, 1075), (7, 1833), (5, 831), (7, 1376), (7, 1260), (7, 1693), (5, 200), (5, 935), (7, 1575), (5, 159), (7, 1124), (7, 1702), (5, 31), (5, 213), (7, 1293), (5, 350), (5, 845), (7, 1096), (7, 1689), (5, 888), (7, 1697), (5, 513), (5, 133), (5, 189), (5, 665), (5, 173), (7, 1986), (5, 423), (5, 640), (5, 176), (5, 499), (5, 984), (7, 1664), (7, 1635), (7, 1481), (5, 205), (5, 123), (5, 106), (7, 1029), (7, 1646), (7, 1083), (7, 1431), (5, 107), (5, 398), (7, 1053), (5, 195), (5, 871), (7, 1802), (7, 1333), (7, 1015), (5, 903), (5, 500), (5, 585), (5, 660), (7, 1930), (5, 29), (5, 593), (5, 17), (7, 1410), (5, 275), (7, 1680), (5, 438), (5, 649), (7, 1208), (7, 1925), (7, 1059), (7, 1078), (7, 1740), (7, 1205), (7, 1601), (7, 1427), (5, 534), (5, 235), (5, 191), (5, 733), (5, 305), (5, 406), (7, 1189), (5, 599), (5, 988), (7, 1407), (5, 766), (5, 172), (7, 1425), (7, 1934), (7, 1498), (5, 775), (7, 1754), (5, 740), (5, 518), (5, 136), (7, 1971), (5, 494), (7, 1547), (5, 961), (5, 616), (5, 2), (7, 1907), (5, 469), (7, 1840), (7, 1093), (5, 370), (5, 289), (5, 986), (5, 818), (7, 1728), (5, 524), (7, 1400), (5, 591), (7, 1597), (5, 556), (7, 1602), (7, 1964), (7, 1479), (7, 1493), (7, 1896), (5, 704), (7, 1875), (7, 1642), (7, 1909), (5, 367), (5, 6), (5, 663), (7, 1122), (7, 1753), (7, 1624), (5, 444), (5, 54), (5, 93), (7, 1245), (5, 612), (5, 190), (7, 1831), (5, 539), (7, 1942), (5, 899), (7, 1404), (5, 996), (5, 375), (7, 1310), (5, 324), (7, 1553), (7, 1194), (5, 730), (5, 686), (7, 1298), (7, 1255), (5, 782), (7, 1317), (7, 1506), (7, 1906), (7, 1537), (7, 1603), (7, 1198), (7, 1163), (5, 137), (2002, 8), (5, 778), (7, 1786), (7, 1540), (7, 1003), (5, 505), (5, 786), (7, 1126), (5, 226), (5, 108), (7, 1667), (5, 772), (7, 1657), (5, 287), (5, 630), (5, 890), (5, 739), (5, 810), (5, 623), (5, 938), (5, 129), (5, 718), (7, 1592), (5, 503), (5, 433), (5, 337), (7, 1264), (5, 56), (5, 602), (5, 562), (5, 247), (5, 827), (7, 1668), (5, 566), (7, 1951), (7, 1302), (5, 307), (5, 671), (7, 1877), (7, 1259), (7, 1810), (5, 972), (7, 1881), (5, 34), (7, 1517), (7, 1265), (5, 734), (5, 1000), (5, 863), (5, 453), (7, 1135), (5, 868), (5, 897), (7, 1486), (5, 428), (5, 149), (5, 82), (7, 1115), (7, 1206), (7, 1257), (5, 551), (5, 451), (7, 1862), (7, 1393), (5, 274), (5, 263), (7, 1717), (7, 1739), (7, 1625), (7, 1999), (5, 66), (7, 1662), (5, 357), (5, 570), (5, 493), (5, 808), (7, 1530), (5, 642), (5, 286), (5, 4), (5, 160), (5, 892), (5, 848), (5, 851), (5, 774), (7, 1529), (7, 1229), (5, 253), (5, 942), (5, 927), (5, 773), (5, 852), (5, 387), (7, 1143), (5, 239), (5, 384), (7, 1678), (7, 1449), (7, 1919), (7, 1199), (7, 1876), (7, 1487), (7, 1178), (5, 61), (7, 1535), (5, 713), (7, 1300), (7, 1747), (7, 1893), (5, 311), (7, 1663), (5, 59), (7, 1579), (5, 413), (5, 495), (7, 1305), (7, 1882), (5, 592), (5, 830), (7, 1098), (5, 257), (7, 1761), (7, 1473), (7, 1660), (7, 1212), (5, 264), (7, 1508), (5, 53), (5, 590), (5, 922), (7, 1661), (7, 1899), (7, 1422), (5, 417), (7, 1152), (7, 1674), (5, 523), (7, 1210), (7, 1953), (5, 120), (7, 1822), (7, 1432), (5, 792), (7, 1996), (7, 1368), (5, 561), (7, 1716), (7, 1922), (7, 1564), (7, 1614), (5, 467), (5, 203), (7, 1826), (5, 588), (7, 1709), (7, 1323), (5, 148), (7, 1131), (7, 1960), (5, 829), (5, 193), (7, 1361), (7, 1052), (5, 158), (5, 340), (7, 1839), (5, 331), (5, 27), (5, 690), (5, 7), (5, 906), (5, 131), (5, 870), (5, 236), (7, 1249), (7, 1892), (7, 1518), (5, 549), (5, 998), (7, 1285), (7, 1954), (5, 169), (7, 1332), (5, 581), (7, 1116), (5, 731), (7, 1173), (7, 1295), (7, 1965), (5, 708), (5, 251), (7, 1490), (5, 362), (7, 1927), (5, 522), (7, 1453), (5, 965), (7, 1734), (5, 788), (7, 1628), (5, 598), (7, 1944), (5, 425), (7, 1865), (5, 956), (5, 50), (5, 797), (7, 1633), (5, 887), (7, 1195), (5, 507), (7, 1101), (5, 521), (7, 1514), (7, 1284), (5, 711), (7, 1127), (5, 142), (5, 764), (7, 1509), (7, 1751), (5, 770), (5, 186), (5, 615), (5, 359), (7, 1947), (5, 465), (7, 1683), (5, 336), (7, 1316), (5, 624), (7, 1991), (7, 1445), (7, 1888), (5, 755), (7, 1967), (5, 679), (5, 182), (7, 1700), (7, 1157), (5, 280), (5, 78), (7, 1456), (7, 1990), (7, 1522), (7, 1586), (7, 1146), (5, 806), (7, 1043), (5, 214), (5, 479), (5, 900), (7, 1357), (5, 302), (7, 1371), (7, 1441), (7, 1864), (7, 1232), (5, 329), (7, 1879), (7, 1447), (5, 928), (5, 750), (7, 1021), (7, 1936), (7, 1193), (5, 728), (5, 244), (7, 1779), (5, 427), (7, 1356), (7, 1037), (7, 1022), (7, 1554), (5, 448), (5, 983), (5, 654), (7, 1256), (5, 276), (7, 1921), (5, 447)]\n",
            "R3 Dataset:  [(2890, 1725), (2439, 2193), (2330, 427), (2631, 342), (2886, 805), (2006, 990), (2003, 1205), (2603, 1756), (2642, 282), (2800, 2610), (2224, 216), (2811, 2979), (2126, 2852), (2492, 1631), (2773, 330), (2214, 1703), (2526, 1437), (2068, 789), (2680, 1716), (2702, 1175), (2619, 993), (2372, 2840), (2733, 196), (2491, 2627), (2186, 888), (2965, 32), (2580, 2105), (2413, 2773), (2010, 1927), (2647, 656), (2457, 2596), (2448, 2024), (2033, 2065), (2199, 84), (2785, 2449), (2159, 596), (2689, 1579), (2100, 180), (2349, 687), (2670, 2065), (2360, 1554), (2335, 1244), (2737, 673), (2396, 392), (2079, 998), (2692, 770), (2557, 2982), (2502, 2032), (2641, 821), (2439, 2479), (2140, 2917), (2933, 1378), (2925, 1247), (2538, 1489), (2167, 1884), (2896, 1729), (2602, 469), (2099, 835), (2814, 312), (2313, 2731), (2181, 1165), (2299, 572), (2281, 1672), (2248, 2717), (2355, 1004), (2460, 2637), (2010, 2280), (2705, 2685), (2054, 43), (2364, 780), (2108, 1417), (2356, 863), (2043, 2488), (2977, 258), (2986, 282), (2541, 895), (2608, 2894), (2425, 557), (2345, 2864), (2383, 2925), (2498, 1678), (2332, 1412), (2615, 1749), (2268, 1911), (2371, 2515), (2447, 1983), (2928, 1577), (2499, 1755), (2332, 493), (2371, 179), (2983, 215), (2354, 371), (2651, 2059), (2329, 1724), (2627, 1636), (2476, 204), (2727, 621), (2029, 2634), (2002, 1150), (2338, 2658), (2540, 675), (2451, 1685), (2034, 1712), (2377, 190), (2523, 457), (2383, 1489), (2769, 1252), (2905, 2393), (2974, 1365), (2090, 2657), (2960, 2160), (2250, 1951), (2595, 96), (2656, 2029), (2593, 1423), (2367, 2974), (2344, 918), (2476, 677), (2629, 141), (2143, 2031), (2719, 2447), (2780, 454), (2575, 2652), (2986, 2448), (2816, 2799), (2891, 213), (2645, 650), (2600, 2727), (2978, 739), (2073, 2459), (2060, 2959), (2203, 1149), (2876, 2895), (2314, 544), (2685, 290), (2617, 394), (2616, 686), (2618, 2769), (2403, 2818), (2852, 2355), (2769, 845), (2546, 1727), (2317, 60), (2606, 2004), (2437, 1771), (2391, 2822), (2891, 853), (2797, 1401), (2699, 1731), (2266, 1651), (2577, 937), (2270, 1963), (2428, 1123), (2277, 1643), (2674, 2658), (2532, 1283), (2974, 303), (2038, 2021), (2265, 2154), (2985, 2644), (2942, 1502), (2436, 2339), (2256, 2332), (2951, 90), (2362, 1497), (2574, 1392), (2493, 1905), (2943, 475), (2450, 145), (2598, 2585), (2341, 2773), (2439, 1962), (2042, 141), (2924, 7), (2169, 2292), (2465, 118), (2384, 2494), (2275, 1398), (2977, 882), (2442, 2446), (2422, 911), (2778, 430), (2860, 2485), (2827, 1229), (2637, 2209), (2107, 1715), (2340, 2968), (2062, 2877), (2786, 1041), (2725, 904), (2576, 895), (2009, 2858), (2227, 302), (2235, 1645), (2539, 1367), (2750, 196), (2223, 1546), (2386, 1353), (2070, 1429), (2233, 2895), (2821, 506), (2550, 2694), (2863, 1452), (2774, 1574), (2320, 1375), (2865, 2587), (2563, 507), (2522, 1866), (2069, 2266), (2006, 830), (2790, 1711), (2227, 1993), (2297, 2080), (2823, 992), (2339, 2457), (2385, 761), (2852, 2251), (2667, 624), (2200, 349), (2915, 2926), (2830, 728), (2181, 2959), (2566, 2570), (2066, 439), (2937, 2297), (2873, 1141), (2711, 1970), (2075, 1468), (2100, 1257), (2027, 2097), (2516, 881), (2860, 509), (2739, 2841), (2132, 2882), (2124, 2288), (2719, 755), (2903, 227), (2739, 2041), (2088, 2501), (2852, 2607), (2738, 2957), (2381, 1629), (2627, 2374), (2962, 410), (2498, 1406), (2982, 1675), (2684, 1465), (2179, 2158), (2372, 2646), (2967, 398), (2669, 2619), (2807, 2614), (2173, 2842), (2075, 2701), (2302, 46), (2209, 2650), (2293, 1959), (2648, 2800), (2809, 2624), (2691, 2037), (2699, 1547), (2304, 372), (2400, 471), (2146, 2808), (2431, 37), (2776, 1767), (2954, 604), (2407, 786), (2080, 2753), (2358, 1199), (2483, 1838), (2135, 1686), (2419, 1734), (2666, 2902), (2869, 16), (2051, 580), (2633, 2152), (2448, 2683), (2446, 2768), (2269, 2306), (2860, 770), (2769, 2385), (2273, 616), (2510, 1732), (2258, 381), (2575, 691), (2341, 2985), (2971, 869), (2176, 2435), (2240, 2341), (2792, 1634), (2482, 1868), (2540, 2724), (2629, 1079), (2617, 1261), (2488, 1372), (2502, 937), (2191, 1888), (2783, 214), (2628, 1652), (2472, 2783), (2071, 1132), (2625, 1682), (2997, 2985), (2722, 2964), (2171, 2988), (2963, 1161), (2062, 1259), (2540, 2826), (2102, 580), (2810, 72), (2552, 1572), (2947, 1805), (2344, 2774), (2444, 973), (2856, 268), (2832, 1888), (2010, 2510), (2701, 1304), (2428, 1065), (2926, 327), (2515, 2050), (2823, 2360), (2945, 1598), (2527, 643), (2070, 2409), (2809, 2112), (2842, 2438), (2830, 1116), (2394, 1351), (2614, 1639), (2466, 1753), (2767, 1097), (2492, 2691), (2660, 2461), (2464, 1489), (2723, 762), (2811, 2647), (2791, 2398), (2056, 1606), (2909, 1754), (2928, 792), (2005, 2991), (2473, 2347), (2991, 1398), (2933, 890), (2660, 2064), (2749, 1256), (2033, 191), (2206, 1304), (2890, 1624), (2217, 2616), (2238, 1464), (2828, 2540), (2393, 2913), (2937, 821), (2909, 1829), (2246, 2691), (2938, 638), (2780, 1059), (2585, 1422), (2497, 1982), (2954, 2754), (2830, 2308), (2179, 1738), (2565, 2468), (2211, 1393), (2233, 1464), (2035, 2918), (2147, 387), (2010, 579), (2163, 1893), (2660, 2940), (2447, 296), (2764, 992), (2353, 95), (2091, 2810), (2338, 2666), (2216, 1407), (2752, 34), (2537, 825), (2500, 1659), (2498, 1095), (2385, 1734), (2753, 1150), (2667, 1561), (2493, 1563), (2267, 2589), (2689, 997), (2102, 2978), (2830, 264), (2098, 1277), (2259, 1232), (2092, 806), (2179, 2766), (2413, 2732), (2315, 2655), (2757, 1559), (2574, 2016), (2369, 561), (2324, 1105), (2781, 1625), (2479, 2091), (2122, 793), (2300, 2379), (2605, 2914), (2299, 11), (2158, 1974), (2202, 2183), (2880, 2450), (2696, 128), (2326, 1930), (2505, 366), (2412, 2670), (2862, 2986), (2268, 2933), (2996, 138), (2819, 2145), (2146, 793), (2656, 1871), (2560, 1514), (2359, 2698), (2537, 1832), (2134, 331), (2748, 2682), (2227, 1306), (2031, 2105), (2877, 72), (2317, 2057), (2777, 2536), (2286, 2218), (2808, 2175), (2593, 1546), (2758, 2567), (2164, 754), (2020, 506), (2954, 831), (2060, 2642), (2854, 1444), (2866, 533), (2385, 1916), (2621, 519), (2750, 2063), (2839, 753), (2850, 362), (2241, 950), (2163, 2840), (2413, 699), (2499, 2449), (2245, 2960), (2801, 1880), (2038, 2598), (2359, 2924), (2362, 2017), (2558, 2459), (2807, 1320), (2245, 439), (2054, 796), (2633, 1620), (2064, 36), (2270, 53), (2217, 488), (2650, 2596), (2240, 1261), (2638, 1804), (2700, 2919), (2545, 1430), (2062, 2548), (2330, 65), (2619, 1768), (2737, 1357), (2098, 2285), (2372, 1520), (2545, 2084), (2715, 2333), (2311, 1218), (2226, 1965), (2092, 312), (2568, 21), (2597, 2517), (2420, 2898), (2047, 637), (2921, 2089), (2266, 1872), (2023, 2237), (2739, 1891), (2861, 454), (2258, 549), (2742, 599), (2458, 2804), (2622, 2498), (2411, 66), (2459, 931), (2695, 2819), (2329, 2343), (2053, 1545), (2528, 1405), (2860, 2689), (2554, 586), (2616, 2824), (2558, 897), (2991, 1942), (2958, 1757), (2586, 1950), (2350, 1123), (2645, 1060), (2979, 340), (2792, 2801), (2725, 739), (2529, 2831), (2416, 2194), (2145, 891), (2739, 1559), (2312, 2971), (2482, 385), (2678, 1898), (2223, 1779), (2456, 2135), (2436, 839), (2900, 615), (2434, 2484), (2359, 2264), (2873, 1138), (2778, 804), (2248, 83), (2602, 1536), (2304, 1371), (2811, 1270), (2282, 1302), (2246, 875), (2860, 1331), (2574, 178), (2571, 1897), (2965, 243), (2360, 362), (2606, 370), (2119, 2758), (2867, 2685), (2384, 859), (2938, 2008), (2565, 2625), (2595, 312), (2661, 2209), (2366, 1485), (2280, 1965), (2697, 984), (2434, 716), (2169, 1157), (2229, 1045), (2685, 1301), (2914, 2935), (2013, 1415), (2782, 1135), (2812, 881), (2381, 1802), (2564, 1242), (2339, 497), (2667, 981), (2775, 1542), (2340, 1785), (2572, 1947), (2621, 2945), (2372, 2055), (2429, 1458), (2671, 2585), (2283, 701), (2692, 2120), (2537, 1244), (2490, 2727), (2969, 1758), (2902, 2957), (2868, 356), (2938, 2774), (2490, 1167), (2263, 204), (2722, 55), (2276, 2512), (2938, 2480), (2712, 202), (2598, 151), (2981, 715), (2138, 709), (2430, 1806), (2098, 336), (2852, 1949), (2447, 2358), (2910, 873), (2591, 1948), (2496, 1535), (2801, 207), (2650, 2870), (2640, 2192), (2443, 552), (2809, 843), (2229, 1770), (2197, 2493), (2365, 330), (2748, 930), (2249, 1190), (2158, 226), (2097, 2804), (2822, 2260), (2714, 2972), (2584, 1563), (2497, 2834), (2470, 1133), (2263, 2092), (2720, 954), (2419, 2477), (2749, 1008), (2786, 851), (2683, 1287), (2700, 1849), (2856, 1359), (2623, 709), (2175, 768), (2381, 1229), (2942, 2911), (2633, 1095), (2034, 2441), (2313, 2786), (2792, 1304), (2854, 2022), (2408, 2324), (2113, 1588), (2894, 1424), (2645, 2623), (2656, 802), (2019, 2158), (2223, 2777), (2265, 342), (2690, 411), (2782, 468), (2889, 2194), (2252, 953), (2010, 2511), (2877, 1706), (2178, 2426), (2325, 2061), (2140, 1942), (2097, 71), (2111, 551), (2894, 2891), (2346, 2716), (2346, 1644), (2543, 789), (2403, 1968), (2965, 1192), (2044, 2941), (2645, 2438), (2141, 496), (2144, 1901), (2870, 1968), (2528, 293), (2145, 2734), (2531, 389), (2409, 2883), (2650, 2555), (2661, 2078), (2828, 2546), (2383, 1632), (2689, 419), (2558, 1772), (2301, 2419), (2989, 213), (2808, 1040), (2361, 2066), (2494, 77), (2354, 1465), (2815, 2680), (2606, 1444), (2287, 1327), (2387, 1495), (2826, 2352), (2267, 2875), (2315, 1485), (2320, 2182), (2448, 2520), (2680, 1832), (2735, 1142), (2858, 2032), (2226, 1042), (2216, 1322), (2317, 301), (2520, 615), (2247, 1737), (2995, 2912), (2876, 1677), (2195, 1062), (2098, 1671), (2675, 2175), (2889, 1464), (2866, 684), (2531, 2650), (2804, 2683), (2339, 2569), (2187, 664), (2270, 1156), (2061, 2365), (2064, 452), (2351, 838), (2538, 961), (2863, 1264), (2412, 1429), (2849, 526), (2649, 2805), (2948, 1933), (2868, 1744), (2304, 2766), (2543, 1696), (2883, 593), (2802, 2305), (2746, 895), (2910, 458), (2926, 1979), (2617, 1366), (2106, 2158), (2446, 1281), (2817, 1676), (2461, 2558), (2060, 595), (2501, 5), (2038, 385), (2766, 1264), (2956, 1836), (2368, 1058), (2184, 882), (2766, 1545), (2377, 624), (2380, 2180), (2420, 2499), (2379, 1656), (2322, 2854), (2656, 231), (2992, 184), (2438, 2023), (2641, 2349), (2406, 2854), (2643, 955), (2806, 1410), (2109, 2201), (2516, 76), (2150, 2372), (2353, 1001), (2618, 231), (2884, 2796), (2322, 2803), (2086, 2201), (2423, 2760), (2481, 2050), (2610, 2884), (2453, 2169), (2515, 2326), (2235, 2772), (2428, 1257), (2375, 175), (2675, 579), (2004, 770), (2939, 2794), (2574, 1385), (2535, 2897), (2262, 2997), (2354, 1387), (2976, 1142), (2073, 570), (2271, 1848), (2241, 385), (2026, 1169), (2364, 2106), (2270, 2844), (2793, 1641), (2133, 566), (2111, 2009), (2833, 53), (2731, 1370), (2405, 698), (2380, 2490), (2416, 1345), (2404, 2188), (2178, 2472), (2283, 34), (2768, 1567), (2328, 526), (2081, 323), (2273, 2031), (2592, 940), (2213, 1468), (2594, 151), (2354, 455), (2832, 184), (2205, 2729), (2086, 1347), (2621, 1835), (2903, 65), (2425, 1271), (2936, 1095), (2265, 2863), (2157, 2815), (2050, 974), (2917, 373), (2285, 1225), (2047, 1060), (2795, 688), (2485, 581), (2752, 2050), (2267, 1883), (2080, 2071), (2899, 2551), (2616, 766), (2820, 2598), (2032, 297), (2396, 312), (2562, 417), (2353, 2460), (2044, 1790), (2749, 1051), (2418, 2515), (2803, 786), (2872, 2437), (2492, 1006), (2832, 2909), (2297, 1620), (2481, 2869), (2849, 2176), (2601, 632), (2514, 2924), (2604, 962), (2469, 468), (2931, 337), (2673, 2431), (2172, 2958), (2520, 813), (2600, 2069), (2549, 2718), (2543, 1521), (2675, 758), (2165, 2721), (2616, 763), (2954, 553), (2951, 2939), (2457, 1437), (2551, 1982), (2588, 2902), (2159, 1006), (2020, 1905), (2686, 127), (2933, 734), (2587, 95), (2851, 1469), (2098, 2820), (2672, 2692), (2192, 651), (2116, 583), (2433, 961), (2781, 2265), (2197, 826), (2553, 1326), (2763, 220), (2905, 381), (2202, 2231), (2021, 1140), (2471, 404), (2739, 347), (2666, 854), (2699, 2247), (2397, 748), (2219, 1126), (2150, 2265), (2025, 851), (2799, 2124), (2814, 945), (2675, 2991), (2782, 2343), (2457, 2205), (2432, 2481), (2941, 422), (2506, 866), (2941, 2846), (2797, 92), (2987, 1777), (2143, 2407), (2044, 2087), (2702, 2905), (2964, 1570), (2089, 1341), (2466, 1394), (2159, 2054), (2790, 2086), (2519, 1731), (2304, 2095), (2049, 2665), (2299, 999), (2042, 230), (2635, 2020), (2827, 2736), (2388, 2115), (2825, 2596), (2027, 1299), (8, 30), (2605, 99), (2651, 1999), (2288, 854), (2041, 2772), (2970, 381), (2602, 1322), (2495, 755), (2982, 2845), (2039, 1429), (2996, 2270), (2586, 1651), (2186, 2353), (2104, 999), (2631, 2923), (2125, 2054), (2237, 252), (2590, 1898), (2557, 888), (2937, 37), (2202, 1324), (2280, 1803), (2756, 323), (2418, 2900), (2107, 2823), (2736, 2198), (2826, 1873), (2766, 1991), (2318, 2028), (2442, 2427), (2650, 1587), (2383, 922), (2708, 2523), (2531, 1343), (2745, 11), (2531, 2639), (2150, 518), (2398, 2143), (2808, 1304), (2126, 2965), (2970, 2718), (2237, 976), (2880, 2426), (2861, 866), (2974, 1619), (2072, 1626), (2032, 2716), (2420, 1649), (2809, 338), (2363, 2360), (2221, 2085), (2245, 2202), (2006, 2081), (2474, 1891), (2288, 1003), (2378, 2718), (2767, 1731), (2675, 1196), (2832, 153), (2277, 2297), (2773, 1832), (2455, 893), (2646, 1363), (2539, 1930), (2322, 1665), (2454, 1551), (2161, 2742), (2853, 1969), (2020, 2762), (2599, 991), (2179, 260), (2785, 169), (2581, 847), (2506, 2743), (2332, 2285), (2444, 2232), (2025, 1718), (2701, 2472), (2868, 2150), (2550, 2312), (2837, 993), (2941, 2401), (2176, 351), (2547, 361), (2715, 2390), (2993, 978), (2747, 1335), (2033, 2168), (2901, 113), (2624, 1516), (2119, 1594), (2092, 994), (2392, 1787), (2129, 453), (2461, 901), (2884, 151), (2816, 2298), (2104, 195), (2441, 1129), (2253, 1401), (2761, 2684), (2995, 1315), (2297, 102), (2206, 386), (2222, 2547), (2275, 1714), (2024, 1775), (2051, 886), (2743, 1645), (2715, 2606), (2141, 197), (2200, 2587), (2332, 2471), (2445, 316), (2881, 221), (2310, 1999), (2118, 111), (2093, 239), (2391, 1214), (2301, 1419), (2303, 10), (2829, 1303), (2689, 2667), (2248, 2395), (2665, 2379), (2430, 1469), (2279, 2034), (2221, 2538), (2474, 1502), (2612, 1085), (2070, 886), (2557, 1619), (2123, 2003), (2354, 612), (2942, 833), (2846, 917), (2940, 700), (2703, 2996), (2882, 2291), (2685, 1560), (2339, 1978), (2762, 2809), (2961, 1735), (2840, 2881), (2269, 1865), (2833, 1072), (2627, 2621), (2650, 1817), (2503, 1883), (2752, 893), (2551, 2913), (2819, 2412), (2857, 2533), (2735, 394), (2545, 158), (2576, 981), (2118, 849), (2164, 2665), (2841, 2312), (2875, 1162), (2635, 2064), (2620, 677), (2512, 321), (2399, 1004), (2005, 1269), (2361, 381), (2084, 356), (2202, 911), (2756, 1384), (2069, 1150), (2605, 2546), (2600, 211), (2043, 2520), (2581, 2194), (2458, 1883), (2227, 2109), (2457, 1780), (2616, 52), (2936, 2282), (2935, 2941), (2397, 2802), (2965, 1169), (2305, 43), (2685, 2787), (2665, 118), (2228, 78), (2152, 2901), (2897, 2074), (2936, 1007), (2311, 1819), (2075, 2762), (2728, 2499), (2882, 1511), (2204, 961), (2532, 2920), (2620, 2590), (2613, 2421), (2633, 1669), (2154, 12), (2697, 1728), (2991, 1528), (2184, 2130), (2430, 1641), (2337, 2481), (2946, 1151), (2285, 2726), (2475, 1864), (2358, 773), (2556, 2069), (2206, 1014), (2402, 2721), (2799, 1090), (2287, 2238), (2731, 546), (2278, 1680), (2388, 2207), (2026, 2966), (2770, 2014), (2585, 2865), (2754, 1108), (2727, 2516), (2224, 2282), (2008, 622), (2604, 239), (2716, 1338), (2384, 802), (2067, 452), (2428, 2651), (2526, 770), (2286, 2988), (2764, 707), (2605, 2208), (2433, 1914), (2890, 998), (2659, 69), (2442, 1844), (2084, 2395), (2229, 2831), (2785, 1412), (2794, 579), (2049, 176), (2731, 823), (2326, 286), (2084, 1529), (2921, 736), (2814, 836), (2248, 1223), (2592, 742), (2957, 243), (2859, 362), (2675, 2018), (2408, 2621), (2098, 2230), (2152, 326), (2339, 2954), (2711, 2487), (2575, 2343), (2811, 963), (2639, 1085), (2779, 2118), (2375, 113), (2623, 2068), (2147, 1272), (2179, 746), (2442, 131), (2746, 1221), (2438, 437), (2333, 1399), (2095, 2027), (2075, 199), (2923, 310), (2483, 787), (2322, 1286), (2234, 775), (2926, 1750), (2833, 639), (2398, 1342), (2064, 675), (2202, 222), (2422, 687), (2426, 601), (2857, 1254), (2006, 155), (2799, 2627), (2022, 558), (2809, 854), (2234, 266), (2495, 1373), (2811, 1376), (2692, 2602), (2123, 2778), (2068, 1869), (2546, 1592), (2680, 1199), (2323, 1596), (2827, 1557), (2710, 949), (2350, 2596), (2496, 237), (2604, 1469), (2086, 2730), (2106, 1031), (2129, 1806), (2043, 2473), (2420, 1821), (2679, 1447), (2836, 1261), (2413, 1747), (2194, 2342), (2316, 1848), (2616, 710), (2470, 2869), (2102, 852), (2049, 2339), (2708, 403), (2395, 2013), (2340, 229), (2755, 417), (2289, 1966), (2478, 1720), (2293, 2989), (2764, 1269), (2342, 2627), (2151, 300), (2140, 2579), (2095, 1033), (2695, 1434), (2087, 2593), (2576, 2013), (2451, 992), (2420, 2094), (2143, 1373), (2696, 2375), (2651, 2298), (2552, 842), (2029, 1026), (2969, 548), (2714, 704), (2018, 2545), (2526, 2632), (2325, 661), (2321, 644), (2793, 1076), (2301, 575), (2796, 2204), (2631, 1077), (2552, 2903), (2701, 2395), (2288, 264), (2887, 2773), (2509, 916), (2251, 2296), (2165, 1589), (2625, 2773), (2206, 1221), (2102, 2432), (2580, 2772), (2058, 1453), (2270, 1105), (2227, 2821), (2340, 2210), (2551, 1503), (2701, 741), (2106, 1378), (2786, 1649), (2391, 751), (2386, 247), (2714, 2710), (2131, 1149), (2893, 898), (2571, 1566), (2823, 2251), (2804, 1252), (2422, 2267), (2265, 416), (2844, 191), (2780, 2954), (2201, 1178), (2959, 2532), (2891, 684), (2562, 693), (2361, 2874), (2027, 360), (2329, 353), (2933, 1852), (2252, 1668), (2909, 1955), (2385, 2159), (2702, 1222), (2265, 855), (2068, 1058), (2494, 2643), (2314, 1602), (2011, 1145), (2372, 967), (2223, 2046), (2609, 2092), (2337, 1802), (2003, 1232), (2867, 441), (2702, 337), (2253, 81), (2974, 1982), (2453, 525), (2480, 781), (2887, 462), (2852, 1407), (2845, 2564), (2114, 1452), (2173, 1357), (2988, 617), (2034, 1459), (2408, 351), (2692, 1556), (2031, 1126), (2696, 2032), (2091, 1212), (2540, 1756), (2807, 1216), (2881, 2784), (2655, 742), (2075, 1367), (2800, 2896), (2681, 1282), (2246, 1924), (2106, 2995), (2460, 2154), (2646, 1685), (2861, 1927), (2108, 1662), (2879, 2135), (2736, 409), (2637, 1355), (2225, 1999), (2188, 521), (2955, 1651), (2886, 2279), (2660, 54), (2806, 708), (2551, 2408), (2372, 1727), (2526, 1094), (2715, 1915), (2364, 1642), (2653, 822), (2766, 594), (2932, 1171), (2988, 881), (2854, 2026), (2998, 1102), (2856, 2916), (2440, 1818), (2902, 1464), (2865, 2424), (2092, 2351), (2230, 1404), (2729, 2417), (2545, 683), (2967, 1608), (2455, 340), (2535, 2710), (2650, 2143), (2614, 914), (2523, 2029), (2394, 1309), (2181, 2180), (2687, 1072), (2118, 2709), (2434, 1497), (2015, 2042), (2780, 1022), (2822, 1826), (2964, 104), (2174, 2443), (2418, 1457), (2118, 1829), (2427, 38), (2642, 2220), (2508, 850), (2192, 2228), (2438, 2693), (2360, 2148), (2963, 501), (2308, 1239), (2672, 2241), (2130, 2958), (2165, 58), (2682, 542), (2755, 2109), (2308, 1019), (2924, 2495), (2704, 393), (2909, 1562), (2349, 844), (2157, 1777), (2517, 922), (2719, 437), (2636, 2895), (2110, 556), (2934, 1320), (2319, 655), (2669, 219), (2962, 2873), (2262, 426), (2137, 1931), (2144, 2712), (2080, 1926), (2864, 1751), (2996, 2157), (2259, 1304), (2968, 82), (2653, 771), (2167, 1154), (2776, 737), (2661, 945), (2917, 2857), (2558, 1851), (2795, 2547), (2878, 643), (2712, 850), (2446, 989), (2802, 1676), (2184, 2167), (2387, 1888), (2991, 2996), (2473, 1981), (2453, 329), (2254, 1046), (2869, 1231), (2329, 516), (2004, 1827), (2179, 130), (2845, 587), (2447, 1483), (2312, 1880), (2328, 245), (2521, 291), (2094, 834), (2462, 1807), (2769, 1083), (2488, 444), (2389, 1740), (2289, 939), (2257, 2980), (2419, 603), (2263, 1461), (2875, 2344), (2252, 1151), (2564, 569), (2299, 1100), (2576, 2497), (2093, 651), (2629, 2987), (2994, 1508), (2180, 577), (2413, 2710), (2652, 1415), (2577, 118), (2678, 612), (2705, 2754), (2742, 2273), (2134, 544), (2711, 569), (2984, 2304), (2784, 2654), (2997, 429), (2659, 2535), (2382, 2114), (2355, 2543), (2924, 729), (2371, 2126), (2031, 2338), (2508, 2274), (2161, 642), (2930, 582), (2949, 2797), (2182, 2025), (2070, 2791), (2344, 2019), (2764, 1698), (2437, 381), (2257, 1446), (2698, 2449), (2944, 2625), (2690, 670), (2782, 2425), (2441, 2130), (2427, 1867), (2903, 1561), (2781, 1183), (2201, 1727), (2194, 323), (2486, 1495), (2059, 1042), (2129, 1232), (2470, 511), (2861, 2058), (2987, 984), (2754, 528), (2040, 2080), (2239, 1328), (2180, 2565), (2509, 470), (2666, 195), (2255, 2370), (2538, 1151), (2718, 1665), (2979, 599), (2777, 2984), (2112, 1162), (2960, 1916), (2653, 1193), (2251, 2555), (2319, 2824), (2174, 1215), (2046, 1083), (2474, 105), (2205, 5), (2722, 825), (2570, 2929), (2949, 2036), (2522, 264), (2146, 1710), (2761, 753), (2663, 700), (2950, 2091), (2617, 1464), (2024, 326), (2894, 1285), (2054, 1876), (2498, 2478), (2910, 2963), (2875, 2632), (2769, 2504), (2975, 2548), (2333, 69), (2412, 2429), (2681, 196), (2313, 1482), (2280, 35), (2358, 2523), (2707, 2767), (2508, 2828), (2154, 2259), (2577, 724), (2639, 1953), (2278, 2655), (2129, 2278), (2401, 1392), (2375, 600), (2330, 916), (2665, 468), (2785, 917), (2692, 1002), (2791, 2254), (2359, 861), (2203, 1229), (2371, 2953), (2455, 2982), (2085, 1957), (2098, 322), (2281, 1708), (2565, 1009), (2553, 1904), (2925, 682), (2655, 1419), (2818, 2956), (2945, 494), (2689, 2184), (2661, 687), (2976, 981), (2381, 281), (2317, 2445), (2310, 1147), (2860, 1971), (2378, 1672), (2909, 157), (2829, 1507), (2846, 2063), (2773, 500), (2353, 86), (2682, 2252), (3000, 2198), (2006, 1229), (2872, 579), (2551, 1929), (2067, 2891), (2139, 1230), (2632, 2418), (2819, 2633), (2797, 1364), (2293, 423), (2821, 2309), (2888, 34), (2114, 505), (2949, 516), (2041, 778), (2107, 1380), (2616, 233), (2548, 2633), (2129, 209), (2447, 1819), (2254, 1494), (2005, 116), (2605, 804), (2104, 2235), (2567, 118), (2948, 1645), (2529, 1288), (2580, 1588), (2025, 1967), (2569, 2929), (2296, 2347), (2736, 856), (2710, 210), (2703, 2826), (2264, 1876), (2402, 2563), (2941, 513), (2110, 1794), (2318, 391), (2903, 274), (2428, 397), (2211, 1164), (2706, 798), (2569, 1351), (2399, 1283), (2594, 969), (2645, 2130), (2002, 2674), (2141, 2255), (2706, 2768), (2689, 2918), (2614, 1867), (2410, 1640), (2445, 2037), (2375, 804), (2698, 992), (2339, 1097), (2897, 1233), (2549, 322), (2145, 562), (2859, 155), (2100, 183), (2833, 1990), (2487, 881), (2574, 1439), (2185, 1962), (2758, 138), (2436, 1824), (2658, 1559), (2337, 1408), (2095, 2244), (2018, 1674), (2800, 2469), (2084, 108), (2400, 2700), (2715, 2513), (2352, 329), (2979, 1635), (2415, 2568), (2897, 2122), (2325, 1140), (2387, 1945), (2846, 1591), (2746, 2157), (2070, 1038), (2603, 903), (2796, 2647), (2299, 2003), (2800, 948), (2343, 1081), (2290, 866), (2484, 2880), (2759, 943), (2704, 2676), (2928, 436), (2106, 39), (2388, 2944), (2466, 2862), (2566, 2289), (2161, 450), (2411, 1854), (2782, 56), (2939, 347), (2808, 1602), (2549, 2183), (2423, 1638), (2684, 2576), (2446, 1434), (2582, 188), (2348, 314), (2881, 937), (2660, 1034), (2895, 1109), (2118, 2979), (2682, 2398), (2073, 246), (2018, 72), (2786, 1179), (2861, 2671), (2059, 2084), (2599, 2720), (2462, 1102), (2943, 2278), (2959, 493), (2002, 1900), (2104, 2658), (2209, 2989), (2435, 569), (2091, 2198), (2290, 103), (2035, 552), (2220, 2261), (2910, 641), (2939, 2749), (2535, 2688), (2502, 1125), (2724, 615), (2832, 477), (2253, 1192), (2329, 1871), (2336, 1070), (2761, 1646), (2646, 1041), (2192, 2938), (2971, 2843), (2394, 2541), (2053, 2547), (2461, 730), (2721, 441), (2808, 1134), (2607, 1635), (2260, 2362), (2835, 1097), (2430, 1771), (2257, 344), (2418, 1213), (2621, 721), (2194, 1663), (2479, 757), (2617, 1626), (2025, 2894), (2034, 2304), (2068, 1378), (2358, 1729), (2313, 1037), (2440, 2245), (2002, 1216), (2248, 632), (2833, 1180), (2359, 2620), (2716, 194), (2668, 2911), (2429, 1740), (2615, 2830), (2433, 206), (2123, 2094), (2388, 2133), (2412, 1467), (2441, 2249), (2838, 1083), (2249, 1968), (2855, 1288), (2865, 576), (2350, 171), (2814, 1947), (2006, 2943), (2420, 968), (2752, 2391), (2913, 1792), (2454, 1025), (2838, 2693), (2191, 962), (2160, 707), (2825, 410), (2882, 1682), (2553, 2477), (2040, 2414), (2046, 1180), (2659, 440), (2480, 160), (2372, 1336), (2888, 1578), (2590, 1334), (2513, 315), (2811, 1252), (2881, 986), (2261, 1859), (2055, 2156), (2926, 2508), (2809, 133), (2741, 1079), (2963, 2714), (2292, 1339), (2403, 1228), (2278, 2354), (2838, 1331), (2459, 707), (2387, 133), (2655, 1520), (2361, 789), (2969, 2602), (2630, 2159), (2491, 1174), (2105, 80), (2081, 1885), (2370, 2432), (2233, 2067), (2584, 944), (2476, 1912), (2080, 1278), (2881, 610), (2317, 1985), (2262, 784), (2077, 844), (2392, 2451), (2609, 719), (2052, 1076), (2519, 1693), (2412, 1220), (2972, 710), (2454, 2636), (2228, 517), (2898, 362), (2427, 580), (2018, 1575), (2676, 162), (2492, 1239), (2243, 1799), (2158, 2346), (2614, 1377), (2897, 1311), (2629, 1117), (2636, 2218), (2774, 186), (2760, 2535), (2366, 2614), (2832, 2045), (2234, 462), (2220, 663), (2314, 2715), (2092, 1953), (2851, 2385), (2358, 1219), (2947, 2061), (2552, 2496), (2019, 850), (2102, 2678), (2842, 89), (2669, 852), (2267, 837), (2036, 2003), (2320, 187), (2641, 2798), (2404, 2207), (2785, 1564), (2632, 64), (2566, 2387), (2051, 2326), (2008, 537), (2779, 2757), (2755, 1006), (2630, 2271), (2782, 684), (2395, 994), (2619, 753), (2495, 2414), (2640, 974), (2157, 974), (2419, 1459), (2881, 1571), (2600, 512), (2585, 1188), (2052, 354), (2876, 2178), (2663, 1373), (2549, 2716), (2115, 294), (2392, 1773), (2090, 16), (2779, 2218), (2122, 2738), (2158, 2911), (2529, 46), (2866, 1920), (2025, 362), (2937, 2588), (2375, 2613), (2781, 1743), (2983, 137), (2975, 2942), (2614, 1070), (2160, 1935), (2224, 2488), (2702, 953), (2129, 2125), (2500, 2740), (2174, 172), (2102, 963), (2122, 2528), (2015, 262), (2329, 1275), (2864, 33), (2609, 684), (2976, 2786), (2027, 2249), (2982, 1482), (2627, 2643), (2084, 452), (2718, 2551), (2613, 1250), (2991, 1534), (2150, 2499), (2471, 27), (2773, 2366), (2066, 1728), (2751, 228), (2769, 1496), (2351, 2847), (2800, 1308), (2969, 567), (2768, 1835), (2953, 1743), (2524, 2634), (2741, 2659), (2448, 1273), (2468, 202), (2698, 401), (2964, 1527), (2006, 2230), (2187, 2368), (2454, 1607), (2107, 69), (2040, 2876), (2875, 1225), (2039, 503), (2163, 598), (2910, 2398), (2176, 526), (2089, 1069), (2862, 2407), (2632, 2021), (2724, 2775), (2905, 2373), (2697, 1887), (2866, 2418), (2274, 2509), (2562, 604), (2436, 1054), (2708, 323), (2884, 997), (2994, 2809), (2522, 2449), (2262, 2989), (2489, 1595), (2668, 704), (2895, 2669), (2841, 2534), (2010, 205), (2780, 1002), (2188, 2895), (2451, 2250), (2626, 2964), (2096, 2630), (2947, 2534), (2485, 2336), (2411, 2702), (2222, 1040), (2557, 2020), (2653, 543), (2068, 1373), (2405, 2022), (2759, 807), (2890, 793), (2137, 2823), (2251, 2986), (2687, 527), (2972, 2114), (2241, 344), (2709, 1382), (2485, 1520), (2691, 728), (2892, 514), (2240, 1944), (2769, 1212), (2471, 88), (2491, 2837), (2414, 1865), (2972, 2433), (2504, 1753), (2097, 2330), (2365, 2106), (2025, 1449), (2357, 1744), (2018, 1528), (2915, 1610), (2267, 1489), (2744, 412), (2070, 845), (2568, 2539), (2924, 1594), (2391, 2685)]\n"
          ]
        }
      ]
    },
    {
      "cell_type": "markdown",
      "source": [
        "Implementing Problem-2 Algorithm with above generated dataset"
      ],
      "metadata": {
        "id": "h4-GZ35s5ScU"
      }
    },
    {
      "cell_type": "code",
      "source": [
        "# Apply final join and projection\n",
        "start_time = time.time()\n",
        "final_result = execute_operation(R1, R2, R3)\n",
        "end_time = time.time()\n",
        "print(\"Problem 2 final set:\", final_result)\n",
        "print(\"Problem 2 running time:\", end_time - start_time)\n",
        "print(\"Problem 2 answer length:\", len(final_result))"
      ],
      "metadata": {
        "colab": {
          "base_uri": "https://localhost:8080/"
        },
        "id": "-w2jxfo54osa",
        "outputId": "2bd38700-2026-4285-db50-46ecff6d0468"
      },
      "execution_count": 108,
      "outputs": [
        {
          "output_type": "stream",
          "name": "stdout",
          "text": [
            "Problem 2 final set: {(868, 5, 8, 30), (70, 5, 8, 30), (636, 5, 8, 30), (929, 5, 8, 30), (926, 5, 8, 30), (161, 5, 8, 30), (408, 5, 8, 30), (77, 5, 8, 30), (464, 5, 8, 30), (792, 5, 8, 30), (572, 5, 8, 30), (347, 5, 8, 30), (865, 5, 8, 30), (654, 5, 8, 30), (39, 5, 8, 30), (557, 5, 8, 30), (947, 5, 8, 30), (540, 5, 8, 30), (944, 5, 8, 30), (332, 5, 8, 30), (329, 5, 8, 30), (315, 5, 8, 30), (312, 5, 8, 30), (440, 5, 8, 30), (847, 5, 8, 30), (850, 5, 8, 30), (388, 5, 8, 30), (833, 5, 8, 30), (80, 5, 8, 30), (420, 5, 8, 30), (723, 5, 8, 30), (476, 5, 8, 30), (251, 5, 8, 30), (461, 5, 8, 30), (377, 5, 8, 30), (16, 5, 8, 30), (764, 5, 8, 30), (895, 5, 8, 30), (670, 5, 8, 30), (667, 5, 8, 30), (875, 5, 8, 30), (872, 5, 8, 30), (354, 5, 8, 30), (778, 5, 8, 30), (775, 5, 8, 30), (257, 5, 8, 30), (647, 5, 8, 30), (316, 5, 8, 30), (313, 5, 8, 30), (857, 5, 8, 30), (88, 5, 8, 30), (398, 5, 8, 30), (395, 5, 8, 30), (606, 5, 8, 30), (735, 5, 8, 30), (298, 5, 8, 30), (295, 5, 8, 30), (714, 5, 8, 30), (176, 5, 8, 30), (776, 5, 8, 30), (164, 5, 8, 30), (237, 5, 8, 30), (26, 5, 8, 30), (234, 5, 8, 30), (319, 5, 8, 30), (987, 5, 8, 30), (965, 5, 8, 30), (323, 5, 8, 30), (713, 5, 8, 30), (727, 5, 8, 30), (633, 5, 8, 30), (630, 5, 8, 30), (616, 5, 8, 30), (613, 5, 8, 30), (255, 5, 8, 30), (112, 5, 8, 30), (923, 5, 8, 30), (95, 5, 8, 30), (98, 5, 8, 30), (721, 5, 8, 30), (186, 5, 8, 30), (704, 5, 8, 30), (496, 5, 8, 30), (153, 5, 8, 30), (259, 5, 8, 30), (34, 5, 8, 30), (244, 5, 8, 30), (634, 5, 8, 30), (113, 5, 8, 30), (762, 5, 8, 30), (147, 5, 8, 30), (537, 5, 8, 30), (19, 5, 8, 30), (92, 5, 8, 30), (951, 5, 8, 30), (948, 5, 8, 30), (183, 5, 8, 30), (180, 5, 8, 30), (640, 5, 8, 30), (262, 5, 8, 30), (933, 5, 8, 30), (930, 5, 8, 30), (916, 5, 8, 30), (165, 5, 8, 30), (168, 5, 8, 30), (989, 5, 8, 30), (468, 5, 8, 30), (374, 5, 8, 30), (676, 5, 8, 30), (969, 5, 8, 30), (562, 5, 8, 30), (690, 5, 8, 30), (465, 5, 8, 30), (855, 5, 8, 30), (852, 5, 8, 30), (334, 5, 8, 30), (983, 5, 8, 30), (20, 5, 8, 30), (755, 5, 8, 30), (544, 5, 8, 30), (462, 5, 8, 30), (102, 5, 8, 30), (99, 5, 8, 30), (5, 5, 8, 30), (523, 5, 8, 30), (2, 5, 8, 30), (193, 5, 8, 30), (861, 5, 8, 30), (858, 5, 8, 30), (483, 5, 8, 30), (480, 5, 8, 30), (917, 5, 8, 30), (396, 5, 8, 30), (38, 5, 8, 30), (689, 5, 8, 30), (9, 5, 8, 30), (381, 5, 8, 30), (894, 5, 8, 30), (797, 5, 8, 30), (674, 5, 8, 30), (777, 5, 8, 30), (882, 5, 8, 30), (683, 5, 8, 30), (862, 5, 8, 30), (27, 5, 8, 30), (765, 5, 8, 30), (545, 5, 8, 30), (417, 5, 8, 30), (320, 5, 8, 30), (710, 5, 8, 30), (838, 5, 8, 30), (317, 5, 8, 30), (402, 5, 8, 30), (610, 5, 8, 30), (68, 5, 8, 30), (411, 5, 8, 30), (798, 5, 8, 30), (48, 5, 8, 30), (341, 5, 8, 30), (466, 5, 8, 30), (338, 5, 8, 30), (449, 5, 8, 30), (241, 5, 8, 30), (530, 5, 8, 30), (655, 5, 8, 30), (117, 5, 8, 30), (635, 5, 8, 30), (945, 5, 8, 30), (638, 5, 8, 30), (717, 5, 8, 30), (623, 5, 8, 30), (620, 5, 8, 30), (726, 5, 8, 30), (501, 5, 8, 30), (385, 5, 8, 30), (363, 5, 8, 30), (711, 5, 8, 30), (266, 5, 8, 30), (784, 5, 8, 30), (656, 5, 8, 30), (41, 5, 8, 30), (169, 5, 8, 30), (556, 5, 8, 30), (866, 5, 8, 30), (559, 5, 8, 30), (248, 5, 8, 30), (129, 5, 8, 30), (210, 5, 8, 30), (645, 5, 8, 30), (284, 5, 8, 30), (955, 5, 8, 30), (548, 5, 8, 30), (938, 5, 8, 30), (935, 5, 8, 30), (187, 5, 8, 30), (170, 5, 8, 30), (190, 5, 8, 30), (703, 5, 8, 30), (932, 5, 8, 30), (581, 5, 8, 30), (484, 5, 8, 30), (569, 5, 8, 30), (566, 5, 8, 30), (694, 5, 8, 30), (121, 5, 8, 30), (469, 5, 8, 30), (859, 5, 8, 30), (639, 5, 8, 30), (24, 5, 8, 30), (414, 5, 8, 30), (106, 5, 8, 30), (212, 5, 8, 30), (89, 5, 8, 30), (880, 5, 8, 30), (505, 5, 8, 30), (418, 5, 8, 30), (197, 5, 8, 30), (715, 5, 8, 30), (939, 5, 8, 30), (490, 5, 8, 30), (487, 5, 8, 30), (403, 5, 8, 30), (924, 5, 8, 30), (156, 5, 8, 30), (25, 5, 8, 30), (28, 5, 8, 30), (696, 5, 8, 30), (884, 5, 8, 30), (787, 5, 8, 30), (567, 5, 8, 30), (342, 5, 8, 30), (860, 5, 8, 30), (649, 5, 8, 30), (552, 5, 8, 30), (942, 5, 8, 30), (421, 5, 8, 30), (327, 5, 8, 30), (845, 5, 8, 30), (324, 5, 8, 30), (383, 5, 8, 30), (415, 5, 8, 30), (802, 5, 8, 30), (718, 5, 8, 30), (488, 5, 8, 30), (471, 5, 8, 30), (263, 5, 8, 30), (781, 5, 8, 30), (11, 5, 8, 30), (349, 5, 8, 30), (867, 5, 8, 30), (870, 5, 8, 30), (252, 5, 8, 30), (642, 5, 8, 30), (733, 5, 8, 30), (730, 5, 8, 30), (390, 5, 8, 30), (179, 5, 8, 30), (806, 5, 8, 30), (498, 5, 8, 30), (888, 5, 8, 30), (273, 5, 8, 30), (270, 5, 8, 30), (660, 5, 8, 30), (253, 5, 8, 30), (788, 5, 8, 30), (791, 5, 8, 30), (563, 5, 8, 30), (774, 5, 8, 30), (326, 5, 8, 30), (232, 5, 8, 30), (314, 5, 8, 30), (434, 5, 8, 30), (977, 5, 8, 30), (960, 5, 8, 30), (209, 5, 8, 30), (192, 5, 8, 30), (722, 5, 8, 30), (250, 5, 8, 30), (816, 5, 8, 30), (591, 5, 8, 30), (588, 5, 8, 30), (716, 5, 8, 30), (491, 5, 8, 30), (881, 5, 8, 30), (254, 5, 8, 30), (46, 5, 8, 30), (339, 5, 8, 30), (743, 5, 8, 30), (111, 5, 8, 30), (108, 5, 8, 30), (757, 5, 8, 30), (239, 5, 8, 30), (14, 5, 8, 30), (629, 5, 8, 30), (532, 5, 8, 30), (632, 5, 8, 30), (219, 5, 8, 30), (967, 5, 8, 30), (737, 5, 8, 30), (740, 5, 8, 30), (122, 5, 8, 30), (119, 5, 8, 30), (509, 5, 8, 30), (512, 5, 8, 30), (946, 5, 8, 30), (50, 5, 8, 30), (175, 5, 8, 30), (178, 5, 8, 30), (260, 5, 8, 30), (928, 5, 8, 30), (906, 5, 8, 30), (155, 5, 8, 30), (160, 5, 8, 30), (671, 5, 8, 30), (574, 5, 8, 30), (964, 5, 8, 30), (961, 5, 8, 30), (53, 5, 8, 30), (443, 5, 8, 30), (346, 5, 8, 30), (864, 5, 8, 30), (405, 5, 8, 30), (949, 5, 8, 30), (534, 5, 8, 30), (97, 5, 8, 30), (437, 5, 8, 30), (94, 5, 8, 30), (958, 5, 8, 30), (510, 5, 8, 30), (493, 5, 8, 30), (575, 5, 8, 30), (481, 5, 8, 30), (478, 5, 8, 30), (475, 5, 8, 30), (33, 5, 8, 30), (115, 5, 8, 30), (18, 5, 8, 30), (889, 5, 8, 30), (664, 5, 8, 30), (971, 5, 8, 30), (874, 5, 8, 30), (412, 5, 8, 30), (752, 5, 8, 30), (705, 5, 8, 30), (184, 5, 8, 30), (910, 5, 8, 30), (503, 5, 8, 30), (389, 5, 8, 30), (813, 5, 8, 30), (406, 5, 8, 30), (810, 5, 8, 30), (793, 5, 8, 30), (796, 5, 8, 30), (585, 5, 8, 30), (292, 5, 8, 30), (568, 5, 8, 30), (275, 5, 8, 30), (278, 5, 8, 30), (43, 5, 8, 30), (430, 5, 8, 30), (336, 5, 8, 30), (333, 5, 8, 30), (439, 5, 8, 30), (533, 5, 8, 30), (236, 5, 8, 30), (424, 5, 8, 30), (196, 5, 8, 30), (272, 5, 8, 30), (712, 5, 8, 30), (615, 5, 8, 30), (302, 5, 8, 30), (820, 5, 8, 30), (276, 5, 8, 30), (361, 5, 8, 30), (720, 5, 8, 30), (264, 5, 8, 30), (261, 5, 8, 30), (651, 5, 8, 30), (130, 5, 8, 30), (999, 5, 8, 30), (779, 5, 8, 30), (554, 5, 8, 30), (551, 5, 8, 30), (133, 5, 8, 30), (36, 5, 8, 30), (118, 5, 8, 30), (243, 5, 8, 30), (756, 5, 8, 30), (759, 5, 8, 30), (238, 5, 8, 30), (141, 5, 8, 30), (531, 5, 8, 30), (124, 5, 8, 30), (200, 5, 8, 30), (724, 5, 8, 30), (657, 5, 8, 30), (282, 5, 8, 30), (279, 5, 8, 30), (950, 5, 8, 30), (185, 5, 8, 30), (182, 5, 8, 30), (54, 5, 8, 30), (986, 5, 8, 30), (58, 5, 8, 30), (593, 5, 8, 30), (576, 5, 8, 30), (368, 5, 8, 30), (482, 5, 8, 30), (351, 5, 8, 30), (869, 5, 8, 30), (579, 5, 8, 30), (561, 5, 8, 30), (203, 5, 8, 30), (116, 5, 8, 30), (854, 5, 8, 30), (409, 5, 8, 30), (669, 5, 8, 30), (101, 5, 8, 30), (207, 5, 8, 30), (597, 5, 8, 30), (110, 5, 8, 30), (500, 5, 8, 30), (497, 5, 8, 30), (890, 5, 8, 30), (137, 5, 8, 30), (134, 5, 8, 30), (40, 5, 8, 30), (22, 5, 8, 30), (23, 5, 8, 30), (151, 5, 8, 30), (37, 5, 8, 30), (896, 5, 8, 30), (131, 5, 8, 30), (893, 5, 8, 30), (518, 5, 8, 30), (879, 5, 8, 30), (782, 5, 8, 30), (937, 5, 8, 30), (416, 5, 8, 30), (835, 5, 8, 30), (818, 5, 8, 30), (297, 5, 8, 30), (425, 5, 8, 30), (65, 5, 8, 30), (803, 5, 8, 30), (800, 5, 8, 30), (410, 5, 8, 30), (358, 5, 8, 30), (355, 5, 8, 30), (873, 5, 8, 30), (258, 5, 8, 30), (47, 5, 8, 30), (565, 5, 8, 30), (30, 5, 8, 30), (826, 5, 8, 30), (340, 5, 8, 30), (446, 5, 8, 30), (739, 5, 8, 30), (652, 5, 8, 30), (962, 5, 8, 30), (431, 5, 8, 30), (344, 5, 8, 30), (637, 5, 8, 30), (842, 5, 8, 30), (825, 5, 8, 30), (617, 5, 8, 30), (742, 5, 8, 30), (380, 5, 8, 30), (725, 5, 8, 30), (745, 5, 8, 30), (728, 5, 8, 30), (283, 5, 8, 30), (801, 5, 8, 30), (280, 5, 8, 30), (365, 5, 8, 30), (883, 5, 8, 30), (268, 5, 8, 30), (786, 5, 8, 30), (783, 5, 8, 30), (265, 5, 8, 30), (658, 5, 8, 30), (558, 5, 8, 30), (974, 5, 8, 30), (746, 5, 8, 30), (662, 5, 8, 30), (429, 5, 8, 30), (301, 5, 8, 30), (972, 5, 8, 30), (304, 5, 8, 30), (204, 5, 8, 30), (952, 5, 8, 30), (201, 5, 8, 30), (541, 5, 8, 30), (807, 5, 8, 30), (286, 5, 8, 30), (189, 5, 8, 30), (172, 5, 8, 30), (811, 5, 8, 30), (680, 5, 8, 30), (586, 5, 8, 30), (583, 5, 8, 30), (973, 5, 8, 30), (225, 5, 8, 30), (138, 5, 8, 30), (486, 5, 8, 30), (665, 5, 8, 30), (876, 5, 8, 30), (738, 5, 8, 30), (644, 5, 8, 30), (641, 5, 8, 30), (120, 5, 8, 30), (123, 5, 8, 30), (984, 5, 8, 30), (522, 5, 8, 30), (214, 5, 8, 30), (732, 5, 8, 30), (601, 5, 8, 30), (159, 5, 8, 30), (114, 5, 8, 30), (504, 5, 8, 30), (507, 5, 8, 30), (62, 5, 8, 30), (59, 5, 8, 30), (45, 5, 8, 30), (42, 5, 8, 30), (173, 5, 8, 30), (915, 5, 8, 30), (901, 5, 8, 30), (898, 5, 8, 30), (150, 5, 8, 30), (804, 5, 8, 30), (750, 5, 8, 30), (886, 5, 8, 30), (666, 5, 8, 30), (135, 5, 8, 30), (51, 5, 8, 30), (959, 5, 8, 30), (438, 5, 8, 30), (956, 5, 8, 30), (731, 5, 8, 30), (529, 5, 8, 30), (84, 5, 8, 30), (953, 5, 8, 30), (432, 5, 8, 30), (819, 5, 8, 30), (822, 5, 8, 30), (72, 5, 8, 30), (590, 5, 8, 30), (69, 5, 8, 30), (573, 5, 8, 30), (52, 5, 8, 30), (459, 5, 8, 30), (362, 5, 8, 30), (359, 5, 8, 30), (345, 5, 8, 30), (587, 5, 8, 30), (570, 5, 8, 30), (473, 5, 8, 30), (678, 5, 8, 30), (453, 5, 8, 30), (450, 5, 8, 30), (366, 5, 8, 30), (8, 5, 8, 30), (887, 5, 8, 30), (659, 5, 8, 30), (966, 5, 8, 30), (494, 5, 8, 30), (407, 5, 8, 30), (747, 5, 8, 30), (823, 5, 8, 30), (387, 5, 8, 30), (384, 5, 8, 30), (515, 5, 8, 30), (905, 5, 8, 30), (290, 5, 8, 30), (287, 5, 8, 30), (677, 5, 8, 30), (805, 5, 8, 30), (808, 5, 8, 30), (580, 5, 8, 30), (369, 5, 8, 30), (343, 5, 8, 30), (352, 5, 8, 30), (428, 5, 8, 30), (768, 5, 8, 30), (331, 5, 8, 30), (451, 5, 8, 30), (226, 5, 8, 30), (308, 5, 8, 30), (305, 5, 8, 30), (436, 5, 8, 30), (809, 5, 8, 30), (288, 5, 8, 30), (729, 5, 8, 30), (208, 5, 8, 30), (191, 5, 8, 30), (211, 5, 8, 30), (194, 5, 8, 30), (419, 5, 8, 30), (267, 5, 8, 30), (56, 5, 8, 30), (702, 5, 8, 30), (605, 5, 8, 30), (602, 5, 8, 30), (247, 5, 8, 30), (508, 5, 8, 30), (687, 5, 8, 30), (815, 5, 8, 30), (370, 5, 8, 30), (356, 5, 8, 30), (980, 5, 8, 30), (663, 5, 8, 30), (128, 5, 8, 30), (646, 5, 8, 30), (142, 5, 8, 30), (125, 5, 8, 30), (31, 5, 8, 30), (2001, 2002, 8, 30), (233, 5, 8, 30), (751, 5, 8, 30), (754, 5, 8, 30), (136, 5, 8, 30), (526, 5, 8, 30), (67, 5, 8, 30), (195, 5, 8, 30), (736, 5, 8, 30), (719, 5, 8, 30), (277, 5, 8, 30), (274, 5, 8, 30), (49, 5, 8, 30), (177, 5, 8, 30), (772, 5, 8, 30), (908, 5, 8, 30), (688, 5, 8, 30), (157, 5, 8, 30), (140, 5, 8, 30), (981, 5, 8, 30), (996, 5, 8, 30), (963, 5, 8, 30), (198, 5, 8, 30), (844, 5, 8, 30), (536, 5, 8, 30), (91, 5, 8, 30), (829, 5, 8, 30), (202, 5, 8, 30), (609, 5, 8, 30), (592, 5, 8, 30), (595, 5, 8, 30), (902, 5, 8, 30), (367, 5, 8, 30), (492, 5, 8, 30), (495, 5, 8, 30), (885, 5, 8, 30), (74, 5, 8, 30), (700, 5, 8, 30), (577, 5, 8, 30), (132, 5, 8, 30), (472, 5, 8, 30), (993, 5, 8, 30), (35, 5, 8, 30), (13, 5, 8, 30), (681, 5, 8, 30), (457, 5, 8, 30), (223, 5, 8, 30), (978, 5, 8, 30), (891, 5, 8, 30), (126, 5, 8, 30), (516, 5, 8, 30), (513, 5, 8, 30), (851, 5, 8, 30), (927, 5, 8, 30), (830, 5, 8, 30), (619, 5, 8, 30), (827, 5, 8, 30), (309, 5, 8, 30), (519, 5, 8, 30), (909, 5, 8, 30), (912, 5, 8, 30), (892, 5, 8, 30), (391, 5, 8, 30), (60, 5, 8, 30), (684, 5, 8, 30), (447, 5, 8, 30), (812, 5, 8, 30), (795, 5, 8, 30), (353, 5, 8, 30), (350, 5, 8, 30), (1000, 5, 8, 30), (555, 5, 8, 30), (458, 5, 8, 30), (455, 5, 8, 30), (441, 5, 8, 30), (444, 5, 8, 30), (848, 5, 8, 30), (831, 5, 8, 30), (216, 5, 8, 30), (734, 5, 8, 30), (230, 5, 8, 30), (213, 5, 8, 30), (957, 5, 8, 30), (371, 5, 8, 30), (837, 5, 8, 30), (706, 5, 8, 30), (612, 5, 8, 30), (392, 5, 8, 30), (375, 5, 8, 30), (685, 5, 8, 30), (668, 5, 8, 30), (360, 5, 8, 30), (878, 5, 8, 30), (330, 5, 8, 30), (653, 5, 8, 30), (773, 5, 8, 30), (337, 5, 8, 30), (761, 5, 8, 30), (758, 5, 8, 30), (744, 5, 8, 30), (741, 5, 8, 30), (240, 5, 8, 30), (299, 5, 8, 30), (296, 5, 8, 30), (199, 5, 8, 30), (589, 5, 8, 30), (378, 5, 8, 30), (71, 5, 8, 30), (281, 5, 8, 30), (794, 5, 8, 30), (162, 5, 8, 30), (692, 5, 8, 30), (675, 5, 8, 30), (598, 5, 8, 30), (985, 5, 8, 30), (578, 5, 8, 30), (982, 5, 8, 30), (968, 5, 8, 30), (217, 5, 8, 30), (220, 5, 8, 30), (871, 5, 8, 30), (631, 5, 8, 30), (979, 5, 8, 30), (614, 5, 8, 30), (96, 5, 8, 30), (517, 5, 8, 30), (514, 5, 8, 30), (81, 5, 8, 30), (599, 5, 8, 30), (596, 5, 8, 30), (78, 5, 8, 30), (502, 5, 8, 30), (499, 5, 8, 30), (154, 5, 8, 30), (57, 5, 8, 30), (707, 5, 8, 30), (527, 5, 8, 30), (479, 5, 8, 30), (913, 5, 8, 30), (148, 5, 8, 30), (145, 5, 8, 30), (535, 5, 8, 30), (538, 5, 8, 30), (17, 5, 8, 30), (992, 5, 8, 30), (227, 5, 8, 30), (661, 5, 8, 30), (520, 5, 8, 30), (75, 5, 8, 30), (954, 5, 8, 30), (433, 5, 8, 30), (624, 5, 8, 30), (934, 5, 8, 30), (931, 5, 8, 30), (166, 5, 8, 30), (914, 5, 8, 30), (6, 5, 8, 30), (834, 5, 8, 30), (413, 5, 8, 30), (817, 5, 8, 30), (814, 5, 8, 30), (79, 5, 8, 30), (524, 5, 8, 30), (372, 5, 8, 30), (427, 5, 8, 30), (899, 5, 8, 30), (64, 5, 8, 30), (582, 5, 8, 30), (454, 5, 8, 30), (560, 5, 8, 30), (357, 5, 8, 30), (426, 5, 8, 30), (463, 5, 8, 30), (460, 5, 8, 30), (673, 5, 8, 30), (448, 5, 8, 30), (445, 5, 8, 30), (3, 5, 8, 30), (393, 5, 8, 30), (748, 5, 8, 30), (85, 5, 8, 30), (82, 5, 8, 30), (506, 5, 8, 30), (941, 5, 8, 30), (841, 5, 8, 30), (382, 5, 8, 30), (900, 5, 8, 30), (769, 5, 8, 30), (21, 5, 8, 30), (285, 5, 8, 30), (672, 5, 8, 30), (364, 5, 8, 30), (877, 5, 8, 30), (991, 5, 8, 30), (780, 5, 8, 30), (766, 5, 8, 30), (423, 5, 8, 30), (245, 5, 8, 30), (373, 5, 8, 30), (321, 5, 8, 30), (318, 5, 8, 30), (763, 5, 8, 30), (221, 5, 8, 30), (400, 5, 8, 30), (306, 5, 8, 30), (824, 5, 8, 30), (693, 5, 8, 30), (821, 5, 8, 30), (300, 5, 8, 30), (303, 5, 8, 30), (206, 5, 8, 30), (394, 5, 8, 30), (697, 5, 8, 30), (600, 5, 8, 30), (990, 5, 8, 30), (242, 5, 8, 30), (452, 5, 8, 30), (682, 5, 8, 30), (435, 5, 8, 30), (975, 5, 8, 30), (224, 5, 8, 30), (790, 5, 8, 30), (998, 5, 8, 30), (328, 5, 8, 30), (103, 5, 8, 30), (100, 5, 8, 30), (749, 5, 8, 30), (228, 5, 8, 30), (231, 5, 8, 30), (618, 5, 8, 30), (521, 5, 8, 30), (621, 5, 8, 30), (911, 5, 8, 30), (603, 5, 8, 30), (709, 5, 8, 30), (289, 5, 8, 30), (158, 5, 8, 30), (144, 5, 8, 30), (269, 5, 8, 30), (61, 5, 8, 30), (167, 5, 8, 30), (44, 5, 8, 30), (249, 5, 8, 30), (767, 5, 8, 30), (997, 5, 8, 30), (920, 5, 8, 30), (903, 5, 8, 30), (152, 5, 8, 30), (539, 5, 8, 30), (542, 5, 8, 30), (976, 5, 8, 30), (205, 5, 8, 30), (546, 5, 8, 30), (936, 5, 8, 30), (188, 5, 8, 30), (856, 5, 8, 30), (970, 5, 8, 30), (839, 5, 8, 30), (628, 5, 8, 30), (921, 5, 8, 30), (918, 5, 8, 30), (86, 5, 8, 30), (604, 5, 8, 30), (994, 5, 8, 30), (379, 5, 8, 30), (897, 5, 8, 30), (376, 5, 8, 30), (686, 5, 8, 30), (695, 5, 8, 30), (470, 5, 8, 30), (988, 5, 8, 30), (467, 5, 8, 30), (127, 5, 8, 30), (760, 5, 8, 30), (549, 5, 8, 30), (107, 5, 8, 30), (104, 5, 8, 30), (218, 5, 8, 30), (87, 5, 8, 30), (10, 5, 8, 30), (528, 5, 8, 30), (525, 5, 8, 30), (511, 5, 8, 30), (4, 5, 8, 30), (7, 5, 8, 30), (397, 5, 8, 30), (622, 5, 8, 30), (863, 5, 8, 30), (849, 5, 8, 30), (846, 5, 8, 30), (485, 5, 8, 30), (401, 5, 8, 30), (919, 5, 8, 30), (922, 5, 8, 30), (386, 5, 8, 30), (904, 5, 8, 30), (139, 5, 8, 30), (907, 5, 8, 30), (55, 5, 8, 30), (679, 5, 8, 30), (785, 5, 8, 30), (442, 5, 8, 30), (348, 5, 8, 30), (477, 5, 8, 30), (995, 5, 8, 30), (32, 5, 8, 30), (422, 5, 8, 30), (770, 5, 8, 30), (550, 5, 8, 30), (456, 5, 8, 30), (325, 5, 8, 30), (322, 5, 8, 30), (840, 5, 8, 30), (843, 5, 8, 30), (404, 5, 8, 30), (310, 5, 8, 30), (828, 5, 8, 30), (307, 5, 8, 30), (293, 5, 8, 30), (832, 5, 8, 30), (701, 5, 8, 30), (607, 5, 8, 30), (246, 5, 8, 30), (229, 5, 8, 30), (643, 5, 8, 30), (771, 5, 8, 30), (648, 5, 8, 30), (335, 5, 8, 30), (543, 5, 8, 30), (853, 5, 8, 30), (235, 5, 8, 30), (1, 5, 8, 30), (625, 5, 8, 30), (753, 5, 8, 30), (311, 5, 8, 30), (294, 5, 8, 30), (163, 5, 8, 30), (291, 5, 8, 30), (83, 5, 8, 30), (698, 5, 8, 30), (66, 5, 8, 30), (63, 5, 8, 30), (584, 5, 8, 30), (271, 5, 8, 30), (399, 5, 8, 30), (789, 5, 8, 30), (925, 5, 8, 30), (171, 5, 8, 30), (174, 5, 8, 30), (564, 5, 8, 30), (256, 5, 8, 30), (215, 5, 8, 30), (650, 5, 8, 30), (553, 5, 8, 30), (943, 5, 8, 30), (940, 5, 8, 30), (626, 5, 8, 30), (105, 5, 8, 30), (708, 5, 8, 30), (836, 5, 8, 30), (691, 5, 8, 30), (93, 5, 8, 30), (611, 5, 8, 30), (76, 5, 8, 30), (608, 5, 8, 30), (594, 5, 8, 30), (90, 5, 8, 30), (73, 5, 8, 30), (149, 5, 8, 30), (489, 5, 8, 30), (146, 5, 8, 30), (799, 5, 8, 30), (181, 5, 8, 30), (571, 5, 8, 30), (699, 5, 8, 30), (474, 5, 8, 30), (109, 5, 8, 30), (627, 5, 8, 30), (29, 5, 8, 30), (15, 5, 8, 30), (12, 5, 8, 30), (143, 5, 8, 30), (547, 5, 8, 30), (222, 5, 8, 30)}\n",
            "Problem 2 running time: 0.0036575794219970703\n",
            "Problem 2 answer length: 1001\n"
          ]
        }
      ]
    },
    {
      "cell_type": "markdown",
      "source": [
        "Implementing Problem-3 Algorithm with above generated dataset"
      ],
      "metadata": {
        "id": "fKPeZUeg5UIr"
      }
    },
    {
      "cell_type": "code",
      "source": [
        "# Perform the joins\n",
        "def run_sequential_joins_5(R1, R2, R3):\n",
        "  R1_2 = hash_join(R1, R2, 1, 0)  # Join R1 and R2 on R1.x and R2.y\n",
        "  R1_3 = hash_join(R1_2, R3, 2, 0)  # Final join with R3 on R1_2.j and R3.l\n",
        "  return R1_3\n",
        "\n",
        "import time\n",
        "# Timing and running Problem 3's solution\n",
        "start_time = time.time()\n",
        "results_problem3 = run_sequential_joins_5(R1, R2, R3)\n",
        "end_time = time.time()\n",
        "print(\"Problem 3 results:\", results_problem3)\n",
        "print(\"Problem 3 running time:\", end_time - start_time)\n",
        "print(\"Problem 2 answer length:\", len(results_problem3))"
      ],
      "metadata": {
        "colab": {
          "base_uri": "https://localhost:8080/"
        },
        "id": "nU0ouUdV4h6l",
        "outputId": "9e48e230-484f-43e3-86cf-cf9dd04eda43"
      },
      "execution_count": 107,
      "outputs": [
        {
          "output_type": "stream",
          "name": "stdout",
          "text": [
            "Problem 3 results: [(217, 5, 8, 30), (437, 5, 8, 30), (49, 5, 8, 30), (125, 5, 8, 30), (225, 5, 8, 30), (201, 5, 8, 30), (899, 5, 8, 30), (237, 5, 8, 30), (661, 5, 8, 30), (309, 5, 8, 30), (239, 5, 8, 30), (37, 5, 8, 30), (994, 5, 8, 30), (420, 5, 8, 30), (279, 5, 8, 30), (96, 5, 8, 30), (355, 5, 8, 30), (997, 5, 8, 30), (402, 5, 8, 30), (881, 5, 8, 30), (390, 5, 8, 30), (672, 5, 8, 30), (923, 5, 8, 30), (768, 5, 8, 30), (667, 5, 8, 30), (515, 5, 8, 30), (169, 5, 8, 30), (916, 5, 8, 30), (284, 5, 8, 30), (828, 5, 8, 30), (84, 5, 8, 30), (663, 5, 8, 30), (767, 5, 8, 30), (688, 5, 8, 30), (275, 5, 8, 30), (469, 5, 8, 30), (373, 5, 8, 30), (342, 5, 8, 30), (349, 5, 8, 30), (118, 5, 8, 30), (553, 5, 8, 30), (533, 5, 8, 30), (111, 5, 8, 30), (814, 5, 8, 30), (563, 5, 8, 30), (400, 5, 8, 30), (902, 5, 8, 30), (979, 5, 8, 30), (46, 5, 8, 30), (254, 5, 8, 30), (855, 5, 8, 30), (815, 5, 8, 30), (848, 5, 8, 30), (987, 5, 8, 30), (42, 5, 8, 30), (634, 5, 8, 30), (873, 5, 8, 30), (92, 5, 8, 30), (122, 5, 8, 30), (841, 5, 8, 30), (260, 5, 8, 30), (202, 5, 8, 30), (823, 5, 8, 30), (991, 5, 8, 30), (913, 5, 8, 30), (71, 5, 8, 30), (124, 5, 8, 30), (953, 5, 8, 30), (967, 5, 8, 30), (785, 5, 8, 30), (774, 5, 8, 30), (303, 5, 8, 30), (221, 5, 8, 30), (887, 5, 8, 30), (287, 5, 8, 30), (362, 5, 8, 30), (554, 5, 8, 30), (738, 5, 8, 30), (30, 5, 8, 30), (280, 5, 8, 30), (233, 5, 8, 30), (708, 5, 8, 30), (725, 5, 8, 30), (520, 5, 8, 30), (531, 5, 8, 30), (592, 5, 8, 30), (525, 5, 8, 30), (833, 5, 8, 30), (106, 5, 8, 30), (367, 5, 8, 30), (933, 5, 8, 30), (178, 5, 8, 30), (878, 5, 8, 30), (952, 5, 8, 30), (464, 5, 8, 30), (513, 5, 8, 30), (156, 5, 8, 30), (665, 5, 8, 30), (393, 5, 8, 30), (436, 5, 8, 30), (627, 5, 8, 30), (502, 5, 8, 30), (934, 5, 8, 30), (370, 5, 8, 30), (288, 5, 8, 30), (626, 5, 8, 30), (119, 5, 8, 30), (523, 5, 8, 30), (116, 5, 8, 30), (467, 5, 8, 30), (176, 5, 8, 30), (404, 5, 8, 30), (20, 5, 8, 30), (493, 5, 8, 30), (318, 5, 8, 30), (983, 5, 8, 30), (628, 5, 8, 30), (752, 5, 8, 30), (511, 5, 8, 30), (483, 5, 8, 30), (532, 5, 8, 30), (208, 5, 8, 30), (621, 5, 8, 30), (574, 5, 8, 30), (183, 5, 8, 30), (686, 5, 8, 30), (416, 5, 8, 30), (982, 5, 8, 30), (81, 5, 8, 30), (904, 5, 8, 30), (484, 5, 8, 30), (212, 5, 8, 30), (733, 5, 8, 30), (705, 5, 8, 30), (805, 5, 8, 30), (756, 5, 8, 30), (876, 5, 8, 30), (591, 5, 8, 30), (69, 5, 8, 30), (430, 5, 8, 30), (629, 5, 8, 30), (364, 5, 8, 30), (775, 5, 8, 30), (682, 5, 8, 30), (360, 5, 8, 30), (358, 5, 8, 30), (865, 5, 8, 30), (45, 5, 8, 30), (94, 5, 8, 30), (197, 5, 8, 30), (946, 5, 8, 30), (728, 5, 8, 30), (449, 5, 8, 30), (150, 5, 8, 30), (989, 5, 8, 30), (353, 5, 8, 30), (193, 5, 8, 30), (470, 5, 8, 30), (742, 5, 8, 30), (939, 5, 8, 30), (113, 5, 8, 30), (466, 5, 8, 30), (883, 5, 8, 30), (719, 5, 8, 30), (897, 5, 8, 30), (644, 5, 8, 30), (203, 5, 8, 30), (597, 5, 8, 30), (701, 5, 8, 30), (325, 5, 8, 30), (906, 5, 8, 30), (954, 5, 8, 30), (268, 5, 8, 30), (928, 5, 8, 30), (188, 5, 8, 30), (965, 5, 8, 30), (413, 5, 8, 30), (160, 5, 8, 30), (98, 5, 8, 30), (915, 5, 8, 30), (144, 5, 8, 30), (267, 5, 8, 30), (372, 5, 8, 30), (569, 5, 8, 30), (47, 5, 8, 30), (477, 5, 8, 30), (380, 5, 8, 30), (426, 5, 8, 30), (860, 5, 8, 30), (300, 5, 8, 30), (691, 5, 8, 30), (802, 5, 8, 30), (387, 5, 8, 30), (256, 5, 8, 30), (165, 5, 8, 30), (154, 5, 8, 30), (977, 5, 8, 30), (905, 5, 8, 30), (488, 5, 8, 30), (105, 5, 8, 30), (238, 5, 8, 30), (471, 5, 8, 30), (475, 5, 8, 30), (460, 5, 8, 30), (729, 5, 8, 30), (313, 5, 8, 30), (57, 5, 8, 30), (432, 5, 8, 30), (541, 5, 8, 30), (945, 5, 8, 30), (173, 5, 8, 30), (834, 5, 8, 30), (250, 5, 8, 30), (843, 5, 8, 30), (840, 5, 8, 30), (801, 5, 8, 30), (948, 5, 8, 30), (649, 5, 8, 30), (499, 5, 8, 30), (898, 5, 8, 30), (343, 5, 8, 30), (143, 5, 8, 30), (16, 5, 8, 30), (115, 5, 8, 30), (922, 5, 8, 30), (496, 5, 8, 30), (973, 5, 8, 30), (171, 5, 8, 30), (998, 5, 8, 30), (537, 5, 8, 30), (862, 5, 8, 30), (109, 5, 8, 30), (810, 5, 8, 30), (970, 5, 8, 30), (319, 5, 8, 30), (599, 5, 8, 30), (126, 5, 8, 30), (714, 5, 8, 30), (421, 5, 8, 30), (839, 5, 8, 30), (120, 5, 8, 30), (681, 5, 8, 30), (771, 5, 8, 30), (468, 5, 8, 30), (640, 5, 8, 30), (435, 5, 8, 30), (603, 5, 8, 30), (152, 5, 8, 30), (242, 5, 8, 30), (870, 5, 8, 30), (263, 5, 8, 30), (680, 5, 8, 30), (527, 5, 8, 30), (844, 5, 8, 30), (648, 5, 8, 30), (181, 5, 8, 30), (392, 5, 8, 30), (543, 5, 8, 30), (74, 5, 8, 30), (790, 5, 8, 30), (299, 5, 8, 30), (551, 5, 8, 30), (755, 5, 8, 30), (346, 5, 8, 30), (458, 5, 8, 30), (396, 5, 8, 30), (740, 5, 8, 30), (894, 5, 8, 30), (482, 5, 8, 30), (655, 5, 8, 30), (895, 5, 8, 30), (361, 5, 8, 30), (336, 5, 8, 30), (660, 5, 8, 30), (809, 5, 8, 30), (937, 5, 8, 30), (851, 5, 8, 30), (761, 5, 8, 30), (961, 5, 8, 30), (929, 5, 8, 30), (918, 5, 8, 30), (720, 5, 8, 30), (981, 5, 8, 30), (995, 5, 8, 30), (428, 5, 8, 30), (52, 5, 8, 30), (123, 5, 8, 30), (857, 5, 8, 30), (158, 5, 8, 30), (886, 5, 8, 30), (890, 5, 8, 30), (795, 5, 8, 30), (709, 5, 8, 30), (401, 5, 8, 30), (550, 5, 8, 30), (759, 5, 8, 30), (411, 5, 8, 30), (379, 5, 8, 30), (205, 5, 8, 30), (394, 5, 8, 30), (936, 5, 8, 30), (596, 5, 8, 30), (853, 5, 8, 30), (674, 5, 8, 30), (927, 5, 8, 30), (539, 5, 8, 30), (514, 5, 8, 30), (66, 5, 8, 30), (350, 5, 8, 30), (166, 5, 8, 30), (944, 5, 8, 30), (730, 5, 8, 30), (544, 5, 8, 30), (141, 5, 8, 30), (831, 5, 8, 30), (75, 5, 8, 30), (827, 5, 8, 30), (576, 5, 8, 30), (296, 5, 8, 30), (547, 5, 8, 30), (600, 5, 8, 30), (562, 5, 8, 30), (642, 5, 8, 30), (134, 5, 8, 30), (391, 5, 8, 30), (666, 5, 8, 30), (985, 5, 8, 30), (228, 5, 8, 30), (222, 5, 8, 30), (304, 5, 8, 30), (427, 5, 8, 30), (765, 5, 8, 30), (289, 5, 8, 30), (700, 5, 8, 30), (604, 5, 8, 30), (737, 5, 8, 30), (438, 5, 8, 30), (614, 5, 8, 30), (80, 5, 8, 30), (285, 5, 8, 30), (589, 5, 8, 30), (536, 5, 8, 30), (214, 5, 8, 30), (601, 5, 8, 30), (459, 5, 8, 30), (588, 5, 8, 30), (290, 5, 8, 30), (808, 5, 8, 30), (422, 5, 8, 30), (414, 5, 8, 30), (650, 5, 8, 30), (679, 5, 8, 30), (521, 5, 8, 30), (869, 5, 8, 30), (866, 5, 8, 30), (813, 5, 8, 30), (439, 5, 8, 30), (172, 5, 8, 30), (376, 5, 8, 30), (723, 5, 8, 30), (445, 5, 8, 30), (664, 5, 8, 30), (692, 5, 8, 30), (136, 5, 8, 30), (846, 5, 8, 30), (656, 5, 8, 30), (797, 5, 8, 30), (295, 5, 8, 30), (139, 5, 8, 30), (321, 5, 8, 30), (36, 5, 8, 30), (54, 5, 8, 30), (371, 5, 8, 30), (572, 5, 8, 30), (213, 5, 8, 30), (29, 5, 8, 30), (908, 5, 8, 30), (412, 5, 8, 30), (947, 5, 8, 30), (425, 5, 8, 30), (78, 5, 8, 30), (209, 5, 8, 30), (224, 5, 8, 30), (461, 5, 8, 30), (505, 5, 8, 30), (132, 5, 8, 30), (743, 5, 8, 30), (641, 5, 8, 30), (888, 5, 8, 30), (159, 5, 8, 30), (972, 5, 8, 30), (986, 5, 8, 30), (292, 5, 8, 30), (734, 5, 8, 30), (31, 5, 8, 30), (227, 5, 8, 30), (207, 5, 8, 30), (72, 5, 8, 30), (624, 5, 8, 30), (447, 5, 8, 30), (332, 5, 8, 30), (454, 5, 8, 30), (59, 5, 8, 30), (130, 5, 8, 30), (351, 5, 8, 30), (880, 5, 8, 30), (276, 5, 8, 30), (337, 5, 8, 30), (495, 5, 8, 30), (689, 5, 8, 30), (623, 5, 8, 30), (153, 5, 8, 30), (606, 5, 8, 30), (676, 5, 8, 30), (305, 5, 8, 30), (875, 5, 8, 30), (142, 5, 8, 30), (529, 5, 8, 30), (194, 5, 8, 30), (1000, 5, 8, 30), (258, 5, 8, 30), (949, 5, 8, 30), (187, 5, 8, 30), (140, 5, 8, 30), (347, 5, 8, 30), (548, 5, 8, 30), (739, 5, 8, 30), (637, 5, 8, 30), (450, 5, 8, 30), (170, 5, 8, 30), (192, 5, 8, 30), (633, 5, 8, 30), (386, 5, 8, 30), (892, 5, 8, 30), (330, 5, 8, 30), (872, 5, 8, 30), (893, 5, 8, 30), (41, 5, 8, 30), (297, 5, 8, 30), (941, 5, 8, 30), (216, 5, 8, 30), (699, 5, 8, 30), (218, 5, 8, 30), (491, 5, 8, 30), (716, 5, 8, 30), (619, 5, 8, 30), (148, 5, 8, 30), (195, 5, 8, 30), (223, 5, 8, 30), (501, 5, 8, 30), (618, 5, 8, 30), (168, 5, 8, 30), (912, 5, 8, 30), (103, 5, 8, 30), (7, 5, 8, 30), (251, 5, 8, 30), (980, 5, 8, 30), (749, 5, 8, 30), (791, 5, 8, 30), (51, 5, 8, 30), (480, 5, 8, 30), (8, 5, 8, 30), (561, 5, 8, 30), (406, 5, 8, 30), (959, 5, 8, 30), (573, 5, 8, 30), (976, 5, 8, 30), (507, 5, 8, 30), (622, 5, 8, 30), (731, 5, 8, 30), (331, 5, 8, 30), (903, 5, 8, 30), (200, 5, 8, 30), (568, 5, 8, 30), (907, 5, 8, 30), (339, 5, 8, 30), (440, 5, 8, 30), (220, 5, 8, 30), (415, 5, 8, 30), (736, 5, 8, 30), (868, 5, 8, 30), (408, 5, 8, 30), (590, 5, 8, 30), (653, 5, 8, 30), (777, 5, 8, 30), (127, 5, 8, 30), (472, 5, 8, 30), (741, 5, 8, 30), (962, 5, 8, 30), (712, 5, 8, 30), (219, 5, 8, 30), (385, 5, 8, 30), (58, 5, 8, 30), (453, 5, 8, 30), (315, 5, 8, 30), (252, 5, 8, 30), (215, 5, 8, 30), (77, 5, 8, 30), (262, 5, 8, 30), (133, 5, 8, 30), (451, 5, 8, 30), (356, 5, 8, 30), (56, 5, 8, 30), (2001, 2002, 8, 30), (434, 5, 8, 30), (974, 5, 8, 30), (651, 5, 8, 30), (744, 5, 8, 30), (696, 5, 8, 30), (236, 5, 8, 30), (452, 5, 8, 30), (698, 5, 8, 30), (204, 5, 8, 30), (73, 5, 8, 30), (374, 5, 8, 30), (517, 5, 8, 30), (129, 5, 8, 30), (724, 5, 8, 30), (269, 5, 8, 30), (33, 5, 8, 30), (864, 5, 8, 30), (22, 5, 8, 30), (917, 5, 8, 30), (63, 5, 8, 30), (286, 5, 8, 30), (861, 5, 8, 30), (25, 5, 8, 30), (779, 5, 8, 30), (645, 5, 8, 30), (108, 5, 8, 30), (253, 5, 8, 30), (306, 5, 8, 30), (344, 5, 8, 30), (322, 5, 8, 30), (677, 5, 8, 30), (580, 5, 8, 30), (581, 5, 8, 30), (433, 5, 8, 30), (718, 5, 8, 30), (713, 5, 8, 30), (798, 5, 8, 30), (255, 5, 8, 30), (585, 5, 8, 30), (577, 5, 8, 30), (586, 5, 8, 30), (281, 5, 8, 30), (560, 5, 8, 30), (715, 5, 8, 30), (89, 5, 8, 30), (383, 5, 8, 30), (230, 5, 8, 30), (474, 5, 8, 30), (751, 5, 8, 30), (958, 5, 8, 30), (943, 5, 8, 30), (48, 5, 8, 30), (748, 5, 8, 30), (294, 5, 8, 30), (60, 5, 8, 30), (486, 5, 8, 30), (338, 5, 8, 30), (90, 5, 8, 30), (444, 5, 8, 30), (248, 5, 8, 30), (17, 5, 8, 30), (545, 5, 8, 30), (879, 5, 8, 30), (180, 5, 8, 30), (91, 5, 8, 30), (760, 5, 8, 30), (18, 5, 8, 30), (811, 5, 8, 30), (812, 5, 8, 30), (86, 5, 8, 30), (806, 5, 8, 30), (678, 5, 8, 30), (100, 5, 8, 30), (822, 5, 8, 30), (796, 5, 8, 30), (443, 5, 8, 30), (266, 5, 8, 30), (788, 5, 8, 30), (283, 5, 8, 30), (28, 5, 8, 30), (770, 5, 8, 30), (509, 5, 8, 30), (369, 5, 8, 30), (835, 5, 8, 30), (794, 5, 8, 30), (996, 5, 8, 30), (500, 5, 8, 30), (800, 5, 8, 30), (593, 5, 8, 30), (909, 5, 8, 30), (164, 5, 8, 30), (282, 5, 8, 30), (745, 5, 8, 30), (559, 5, 8, 30), (15, 5, 8, 30), (643, 5, 8, 30), (326, 5, 8, 30), (932, 5, 8, 30), (67, 5, 8, 30), (245, 5, 8, 30), (382, 5, 8, 30), (494, 5, 8, 30), (334, 5, 8, 30), (703, 5, 8, 30), (694, 5, 8, 30), (687, 5, 8, 30), (198, 5, 8, 30), (776, 5, 8, 30), (799, 5, 8, 30), (298, 5, 8, 30), (409, 5, 8, 30), (189, 5, 8, 30), (578, 5, 8, 30), (190, 5, 8, 30), (85, 5, 8, 30), (345, 5, 8, 30), (999, 5, 8, 30), (885, 5, 8, 30), (110, 5, 8, 30), (43, 5, 8, 30), (540, 5, 8, 30), (615, 5, 8, 30), (960, 5, 8, 30), (856, 5, 8, 30), (702, 5, 8, 30), (485, 5, 8, 30), (424, 5, 8, 30), (896, 5, 8, 30), (783, 5, 8, 30), (693, 5, 8, 30), (323, 5, 8, 30), (311, 5, 8, 30), (911, 5, 8, 30), (44, 5, 8, 30), (818, 5, 8, 30), (762, 5, 8, 30), (489, 5, 8, 30), (82, 5, 8, 30), (329, 5, 8, 30), (807, 5, 8, 30), (784, 5, 8, 30), (429, 5, 8, 30), (50, 5, 8, 30), (365, 5, 8, 30), (307, 5, 8, 30), (38, 5, 8, 30), (566, 5, 8, 30), (241, 5, 8, 30), (639, 5, 8, 30), (654, 5, 8, 30), (638, 5, 8, 30), (584, 5, 8, 30), (969, 5, 8, 30), (97, 5, 8, 30), (240, 5, 8, 30), (750, 5, 8, 30), (804, 5, 8, 30), (534, 5, 8, 30), (658, 5, 8, 30), (162, 5, 8, 30), (710, 5, 8, 30), (706, 5, 8, 30), (3, 5, 8, 30), (726, 5, 8, 30), (76, 5, 8, 30), (395, 5, 8, 30), (549, 5, 8, 30), (161, 5, 8, 30), (711, 5, 8, 30), (341, 5, 8, 30), (490, 5, 8, 30), (990, 5, 8, 30), (184, 5, 8, 30), (732, 5, 8, 30), (147, 5, 8, 30), (157, 5, 8, 30), (847, 5, 8, 30), (964, 5, 8, 30), (11, 5, 8, 30), (646, 5, 8, 30), (852, 5, 8, 30), (910, 5, 8, 30), (53, 5, 8, 30), (884, 5, 8, 30), (555, 5, 8, 30), (1, 5, 8, 30), (587, 5, 8, 30), (564, 5, 8, 30), (83, 5, 8, 30), (942, 5, 8, 30), (431, 5, 8, 30), (397, 5, 8, 30), (992, 5, 8, 30), (407, 5, 8, 30), (146, 5, 8, 30), (684, 5, 8, 30), (93, 5, 8, 30), (177, 5, 8, 30), (463, 5, 8, 30), (128, 5, 8, 30), (717, 5, 8, 30), (348, 5, 8, 30), (403, 5, 8, 30), (27, 5, 8, 30), (199, 5, 8, 30), (829, 5, 8, 30), (647, 5, 8, 30), (988, 5, 8, 30), (398, 5, 8, 30), (462, 5, 8, 30), (335, 5, 8, 30), (247, 5, 8, 30), (528, 5, 8, 30), (630, 5, 8, 30), (635, 5, 8, 30), (14, 5, 8, 30), (595, 5, 8, 30), (314, 5, 8, 30), (984, 5, 8, 30), (683, 5, 8, 30), (882, 5, 8, 30), (206, 5, 8, 30), (838, 5, 8, 30), (837, 5, 8, 30), (919, 5, 8, 30), (6, 5, 8, 30), (504, 5, 8, 30), (747, 5, 8, 30), (971, 5, 8, 30), (175, 5, 8, 30), (9, 5, 8, 30), (270, 5, 8, 30), (758, 5, 8, 30), (257, 5, 8, 30), (821, 5, 8, 30), (535, 5, 8, 30), (210, 5, 8, 30), (874, 5, 8, 30), (690, 5, 8, 30), (479, 5, 8, 30), (114, 5, 8, 30), (310, 5, 8, 30), (675, 5, 8, 30), (24, 5, 8, 30), (608, 5, 8, 30), (278, 5, 8, 30), (328, 5, 8, 30), (609, 5, 8, 30), (786, 5, 8, 30), (891, 5, 8, 30), (963, 5, 8, 30), (659, 5, 8, 30), (419, 5, 8, 30), (243, 5, 8, 30), (616, 5, 8, 30), (446, 5, 8, 30), (145, 5, 8, 30), (583, 5, 8, 30), (70, 5, 8, 30), (465, 5, 8, 30), (625, 5, 8, 30), (138, 5, 8, 30), (817, 5, 8, 30), (956, 5, 8, 30), (102, 5, 8, 30), (610, 5, 8, 30), (594, 5, 8, 30), (137, 5, 8, 30), (10, 5, 8, 30), (61, 5, 8, 30), (21, 5, 8, 30), (825, 5, 8, 30), (259, 5, 8, 30), (174, 5, 8, 30), (671, 5, 8, 30), (196, 5, 8, 30), (516, 5, 8, 30), (101, 5, 8, 30), (354, 5, 8, 30), (522, 5, 8, 30), (506, 5, 8, 30), (249, 5, 8, 30), (617, 5, 8, 30), (26, 5, 8, 30), (889, 5, 8, 30), (763, 5, 8, 30), (384, 5, 8, 30), (924, 5, 8, 30), (951, 5, 8, 30), (819, 5, 8, 30), (978, 5, 8, 30), (657, 5, 8, 30), (442, 5, 8, 30), (508, 5, 8, 30), (317, 5, 8, 30), (773, 5, 8, 30), (707, 5, 8, 30), (388, 5, 8, 30), (363, 5, 8, 30), (930, 5, 8, 30), (149, 5, 8, 30), (816, 5, 8, 30), (854, 5, 8, 30), (787, 5, 8, 30), (264, 5, 8, 30), (378, 5, 8, 30), (793, 5, 8, 30), (381, 5, 8, 30), (526, 5, 8, 30), (104, 5, 8, 30), (277, 5, 8, 30), (636, 5, 8, 30), (764, 5, 8, 30), (265, 5, 8, 30), (151, 5, 8, 30), (582, 5, 8, 30), (826, 5, 8, 30), (781, 5, 8, 30), (79, 5, 8, 30), (877, 5, 8, 30), (473, 5, 8, 30), (261, 5, 8, 30), (405, 5, 8, 30), (312, 5, 8, 30), (842, 5, 8, 30), (567, 5, 8, 30), (757, 5, 8, 30), (926, 5, 8, 30), (722, 5, 8, 30), (244, 5, 8, 30), (558, 5, 8, 30), (820, 5, 8, 30), (498, 5, 8, 30), (34, 5, 8, 30), (571, 5, 8, 30), (753, 5, 8, 30), (901, 5, 8, 30), (163, 5, 8, 30), (524, 5, 8, 30), (871, 5, 8, 30), (456, 5, 8, 30), (727, 5, 8, 30), (721, 5, 8, 30), (87, 5, 8, 30), (632, 5, 8, 30), (273, 5, 8, 30), (652, 5, 8, 30), (769, 5, 8, 30), (497, 5, 8, 30), (602, 5, 8, 30), (271, 5, 8, 30), (2, 5, 8, 30), (512, 5, 8, 30), (121, 5, 8, 30), (925, 5, 8, 30), (546, 5, 8, 30), (375, 5, 8, 30), (19, 5, 8, 30), (510, 5, 8, 30), (746, 5, 8, 30), (940, 5, 8, 30), (457, 5, 8, 30), (185, 5, 8, 30), (39, 5, 8, 30), (836, 5, 8, 30), (441, 5, 8, 30), (766, 5, 8, 30), (611, 5, 8, 30), (293, 5, 8, 30), (605, 5, 8, 30), (23, 5, 8, 30), (366, 5, 8, 30), (167, 5, 8, 30), (993, 5, 8, 30), (685, 5, 8, 30), (519, 5, 8, 30), (782, 5, 8, 30), (668, 5, 8, 30), (448, 5, 8, 30), (552, 5, 8, 30), (575, 5, 8, 30), (542, 5, 8, 30), (399, 5, 8, 30), (863, 5, 8, 30), (359, 5, 8, 30), (117, 5, 8, 30), (935, 5, 8, 30), (492, 5, 8, 30), (35, 5, 8, 30), (274, 5, 8, 30), (68, 5, 8, 30), (32, 5, 8, 30), (272, 5, 8, 30), (803, 5, 8, 30), (832, 5, 8, 30), (968, 5, 8, 30), (226, 5, 8, 30), (789, 5, 8, 30), (231, 5, 8, 30), (859, 5, 8, 30), (182, 5, 8, 30), (565, 5, 8, 30), (957, 5, 8, 30), (377, 5, 8, 30), (695, 5, 8, 30), (302, 5, 8, 30), (669, 5, 8, 30), (613, 5, 8, 30), (607, 5, 8, 30), (357, 5, 8, 30), (850, 5, 8, 30), (340, 5, 8, 30), (308, 5, 8, 30), (824, 5, 8, 30), (327, 5, 8, 30), (931, 5, 8, 30), (135, 5, 8, 30), (65, 5, 8, 30), (64, 5, 8, 30), (417, 5, 8, 30), (99, 5, 8, 30), (914, 5, 8, 30), (88, 5, 8, 30), (612, 5, 8, 30), (845, 5, 8, 30), (320, 5, 8, 30), (975, 5, 8, 30), (235, 5, 8, 30), (95, 5, 8, 30), (920, 5, 8, 30), (410, 5, 8, 30), (4, 5, 8, 30), (673, 5, 8, 30), (191, 5, 8, 30), (291, 5, 8, 30), (518, 5, 8, 30), (778, 5, 8, 30), (211, 5, 8, 30), (107, 5, 8, 30), (704, 5, 8, 30), (234, 5, 8, 30), (455, 5, 8, 30), (556, 5, 8, 30), (772, 5, 8, 30), (792, 5, 8, 30), (12, 5, 8, 30), (966, 5, 8, 30), (849, 5, 8, 30), (229, 5, 8, 30), (955, 5, 8, 30), (155, 5, 8, 30), (301, 5, 8, 30), (112, 5, 8, 30), (503, 5, 8, 30), (570, 5, 8, 30), (476, 5, 8, 30), (557, 5, 8, 30), (333, 5, 8, 30), (530, 5, 8, 30), (754, 5, 8, 30), (5, 5, 8, 30), (389, 5, 8, 30), (900, 5, 8, 30), (697, 5, 8, 30), (131, 5, 8, 30), (368, 5, 8, 30), (780, 5, 8, 30), (55, 5, 8, 30), (921, 5, 8, 30), (735, 5, 8, 30), (579, 5, 8, 30), (232, 5, 8, 30), (40, 5, 8, 30), (620, 5, 8, 30), (670, 5, 8, 30), (487, 5, 8, 30), (179, 5, 8, 30), (481, 5, 8, 30), (423, 5, 8, 30), (62, 5, 8, 30), (324, 5, 8, 30), (598, 5, 8, 30), (830, 5, 8, 30), (352, 5, 8, 30), (538, 5, 8, 30), (631, 5, 8, 30), (867, 5, 8, 30), (13, 5, 8, 30), (938, 5, 8, 30), (186, 5, 8, 30), (950, 5, 8, 30), (478, 5, 8, 30), (418, 5, 8, 30), (662, 5, 8, 30), (858, 5, 8, 30), (316, 5, 8, 30), (246, 5, 8, 30)]\n",
            "Problem 3 running time: 0.707085371017456\n",
            "Problem 2 answer length: 1001\n"
          ]
        }
      ]
    },
    {
      "cell_type": "markdown",
      "source": [
        "# Downloading Problem 5 Dataset for Problem 6"
      ],
      "metadata": {
        "id": "T7xt8Syv4tcC"
      }
    },
    {
      "cell_type": "code",
      "source": [
        "def generate_and_save_dataset_direct(R1,R2,R3):\n",
        "    try:\n",
        "        # Write R1 to a CSV file\n",
        "        with open('/content/R1.csv', 'w', newline='') as f:\n",
        "            writer = csv.writer(f)\n",
        "            writer.writerow(['A', 'B'])\n",
        "            writer.writerows(R1)\n",
        "\n",
        "        # Write R2 to a CSV file\n",
        "        with open('/content/R2.csv', 'w', newline='') as f:\n",
        "            writer = csv.writer(f)\n",
        "            writer.writerow(['B', 'C'])\n",
        "            writer.writerows(R2)\n",
        "\n",
        "        # Write R3 to a CSV file\n",
        "        with open('/content/R3.csv', 'w', newline='') as f:\n",
        "            writer = csv.writer(f)\n",
        "            writer.writerow(['C', 'D'])\n",
        "            writer.writerows(R3)\n",
        "\n",
        "    except KeyError as e:\n",
        "        print(f\"KeyError encountered: {e}\")\n",
        "        return False\n",
        "    return True\n",
        "\n",
        "# Execute the simplified dataset generation and saving\n",
        "save = generate_and_save_dataset_direct(R1,R2,R3)\n",
        "\n"
      ],
      "metadata": {
        "id": "ybb0pAdUVXA7"
      },
      "execution_count": 39,
      "outputs": []
    },
    {
      "cell_type": "markdown",
      "source": [
        "# SQL code for Problem 6"
      ],
      "metadata": {
        "id": "ye7xmfb2EPPr"
      }
    },
    {
      "cell_type": "code",
      "source": [
        "SELECT R1.A, R1.B, R2.C, R3.D\n",
        "FROM R1\n",
        "JOIN R2 ON R1.B = R2.B\n",
        "JOIN R3 ON R2.C = R3.C;"
      ],
      "metadata": {
        "id": "qs9hm3k_ESkr"
      },
      "execution_count": null,
      "outputs": []
    }
  ]
}